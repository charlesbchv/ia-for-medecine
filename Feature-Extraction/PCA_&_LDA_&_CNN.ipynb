{
  "cells": [
    {
      "cell_type": "markdown",
      "metadata": {
        "id": "zyo-3pxyQyue",
        "run_control": {
          "marked": true
        }
      },
      "source": [
        "# Compare Perform PCA and LDA & CNN"
      ]
    },
    {
      "cell_type": "markdown",
      "metadata": {
        "id": "CzgXfJIBQyug"
      },
      "source": [
        "# Install and import relevant libraries"
      ]
    },
    {
      "cell_type": "code",
      "execution_count": 2,
      "metadata": {
        "id": "BRapgAEYQyug"
      },
      "outputs": [
        {
          "ename": "KeyboardInterrupt",
          "evalue": "",
          "output_type": "error",
          "traceback": [
            "\u001b[1;31m---------------------------------------------------------------------------\u001b[0m",
            "\u001b[1;31mKeyboardInterrupt\u001b[0m                         Traceback (most recent call last)",
            "Cell \u001b[1;32mIn[2], line 5\u001b[0m\n\u001b[0;32m      3\u001b[0m \u001b[38;5;28;01mimport\u001b[39;00m \u001b[38;5;21;01mmatplotlib\u001b[39;00m\u001b[38;5;21;01m.\u001b[39;00m\u001b[38;5;21;01mpyplot\u001b[39;00m \u001b[38;5;28;01mas\u001b[39;00m \u001b[38;5;21;01mplt\u001b[39;00m\n\u001b[0;32m      4\u001b[0m \u001b[38;5;28;01mimport\u001b[39;00m \u001b[38;5;21;01mseaborn\u001b[39;00m \u001b[38;5;28;01mas\u001b[39;00m \u001b[38;5;21;01msns\u001b[39;00m\n\u001b[1;32m----> 5\u001b[0m \u001b[38;5;28;01mimport\u001b[39;00m \u001b[38;5;21;01mtensorflow\u001b[39;00m \u001b[38;5;28;01mas\u001b[39;00m \u001b[38;5;21;01mtf\u001b[39;00m\n\u001b[0;32m      6\u001b[0m \u001b[38;5;28;01mfrom\u001b[39;00m \u001b[38;5;21;01msklearn\u001b[39;00m\u001b[38;5;21;01m.\u001b[39;00m\u001b[38;5;21;01mpreprocessing\u001b[39;00m \u001b[38;5;28;01mimport\u001b[39;00m StandardScaler, LabelEncoder\n\u001b[0;32m      7\u001b[0m \u001b[38;5;28;01mfrom\u001b[39;00m \u001b[38;5;21;01msklearn\u001b[39;00m\u001b[38;5;21;01m.\u001b[39;00m\u001b[38;5;21;01mmodel_selection\u001b[39;00m \u001b[38;5;28;01mimport\u001b[39;00m train_test_split\n",
            "File \u001b[1;32m~\\AppData\\Local\\Packages\\PythonSoftwareFoundation.Python.3.11_qbz5n2kfra8p0\\LocalCache\\local-packages\\Python311\\site-packages\\tensorflow\\__init__.py:30\u001b[0m\n\u001b[0;32m     15\u001b[0m \u001b[38;5;124;03m\"\"\"\u001b[39;00m\n\u001b[0;32m     16\u001b[0m \u001b[38;5;124;03mTop-level module of TensorFlow. By convention, we refer to this module as\u001b[39;00m\n\u001b[0;32m     17\u001b[0m \u001b[38;5;124;03m`tf` instead of `tensorflow`, following the common practice of importing\u001b[39;00m\n\u001b[1;32m   (...)\u001b[0m\n\u001b[0;32m     26\u001b[0m \u001b[38;5;124;03mthis file with a file generated from [`api_template.__init__.py`](https://www.github.com/tensorflow/tensorflow/blob/master/tensorflow/api_template.__init__.py)\u001b[39;00m\n\u001b[0;32m     27\u001b[0m \u001b[38;5;124;03m\"\"\"\u001b[39;00m\n\u001b[0;32m     28\u001b[0m \u001b[38;5;66;03m# pylint: disable=g-bad-import-order,protected-access,g-import-not-at-top\u001b[39;00m\n\u001b[1;32m---> 30\u001b[0m \u001b[38;5;28;01mimport\u001b[39;00m \u001b[38;5;21;01mdistutils\u001b[39;00m \u001b[38;5;28;01mas\u001b[39;00m \u001b[38;5;21;01m_distutils\u001b[39;00m\n\u001b[0;32m     31\u001b[0m \u001b[38;5;28;01mimport\u001b[39;00m \u001b[38;5;21;01mimportlib\u001b[39;00m\n\u001b[0;32m     32\u001b[0m \u001b[38;5;28;01mimport\u001b[39;00m \u001b[38;5;21;01minspect\u001b[39;00m \u001b[38;5;28;01mas\u001b[39;00m \u001b[38;5;21;01m_inspect\u001b[39;00m\n",
            "File \u001b[1;32m<frozen importlib._bootstrap>:1176\u001b[0m, in \u001b[0;36m_find_and_load\u001b[1;34m(name, import_)\u001b[0m\n",
            "File \u001b[1;32m<frozen importlib._bootstrap>:1138\u001b[0m, in \u001b[0;36m_find_and_load_unlocked\u001b[1;34m(name, import_)\u001b[0m\n",
            "File \u001b[1;32m<frozen importlib._bootstrap>:1078\u001b[0m, in \u001b[0;36m_find_spec\u001b[1;34m(name, path, target)\u001b[0m\n",
            "File \u001b[1;32mC:\\Program Files\\WindowsApps\\PythonSoftwareFoundation.Python.3.11_3.11.2544.0_x64__qbz5n2kfra8p0\\Lib\\site-packages\\_distutils_hack\\__init__.py:97\u001b[0m, in \u001b[0;36mDistutilsMetaFinder.find_spec\u001b[1;34m(self, fullname, path, target)\u001b[0m\n\u001b[0;32m     95\u001b[0m method_name \u001b[38;5;241m=\u001b[39m \u001b[38;5;124m'\u001b[39m\u001b[38;5;124mspec_for_\u001b[39m\u001b[38;5;132;01m{fullname}\u001b[39;00m\u001b[38;5;124m'\u001b[39m\u001b[38;5;241m.\u001b[39mformat(\u001b[38;5;241m*\u001b[39m\u001b[38;5;241m*\u001b[39m\u001b[38;5;28mlocals\u001b[39m())\n\u001b[0;32m     96\u001b[0m method \u001b[38;5;241m=\u001b[39m \u001b[38;5;28mgetattr\u001b[39m(\u001b[38;5;28mself\u001b[39m, method_name, \u001b[38;5;28;01mlambda\u001b[39;00m: \u001b[38;5;28;01mNone\u001b[39;00m)\n\u001b[1;32m---> 97\u001b[0m \u001b[38;5;28;01mreturn\u001b[39;00m \u001b[43mmethod\u001b[49m\u001b[43m(\u001b[49m\u001b[43m)\u001b[49m\n",
            "File \u001b[1;32mC:\\Program Files\\WindowsApps\\PythonSoftwareFoundation.Python.3.11_3.11.2544.0_x64__qbz5n2kfra8p0\\Lib\\site-packages\\_distutils_hack\\__init__.py:108\u001b[0m, in \u001b[0;36mDistutilsMetaFinder.spec_for_distutils\u001b[1;34m(self)\u001b[0m\n\u001b[0;32m    105\u001b[0m \u001b[38;5;28;01mimport\u001b[39;00m \u001b[38;5;21;01mimportlib\u001b[39;00m\u001b[38;5;21;01m.\u001b[39;00m\u001b[38;5;21;01mutil\u001b[39;00m\n\u001b[0;32m    107\u001b[0m \u001b[38;5;28;01mtry\u001b[39;00m:\n\u001b[1;32m--> 108\u001b[0m     mod \u001b[38;5;241m=\u001b[39m \u001b[43mimportlib\u001b[49m\u001b[38;5;241;43m.\u001b[39;49m\u001b[43mimport_module\u001b[49m\u001b[43m(\u001b[49m\u001b[38;5;124;43m'\u001b[39;49m\u001b[38;5;124;43msetuptools._distutils\u001b[39;49m\u001b[38;5;124;43m'\u001b[39;49m\u001b[43m)\u001b[49m\n\u001b[0;32m    109\u001b[0m \u001b[38;5;28;01mexcept\u001b[39;00m \u001b[38;5;167;01mException\u001b[39;00m:\n\u001b[0;32m    110\u001b[0m     \u001b[38;5;66;03m# There are a couple of cases where setuptools._distutils\u001b[39;00m\n\u001b[0;32m    111\u001b[0m     \u001b[38;5;66;03m# may not be present:\u001b[39;00m\n\u001b[1;32m   (...)\u001b[0m\n\u001b[0;32m    116\u001b[0m     \u001b[38;5;66;03m#   has been loaded. Ref #2980.\u001b[39;00m\n\u001b[0;32m    117\u001b[0m     \u001b[38;5;66;03m# In either case, fall back to stdlib behavior.\u001b[39;00m\n\u001b[0;32m    118\u001b[0m     \u001b[38;5;28;01mreturn\u001b[39;00m\n",
            "File \u001b[1;32mC:\\Program Files\\WindowsApps\\PythonSoftwareFoundation.Python.3.11_3.11.2544.0_x64__qbz5n2kfra8p0\\Lib\\importlib\\__init__.py:126\u001b[0m, in \u001b[0;36mimport_module\u001b[1;34m(name, package)\u001b[0m\n\u001b[0;32m    124\u001b[0m             \u001b[38;5;28;01mbreak\u001b[39;00m\n\u001b[0;32m    125\u001b[0m         level \u001b[38;5;241m+\u001b[39m\u001b[38;5;241m=\u001b[39m \u001b[38;5;241m1\u001b[39m\n\u001b[1;32m--> 126\u001b[0m \u001b[38;5;28;01mreturn\u001b[39;00m \u001b[43m_bootstrap\u001b[49m\u001b[38;5;241;43m.\u001b[39;49m\u001b[43m_gcd_import\u001b[49m\u001b[43m(\u001b[49m\u001b[43mname\u001b[49m\u001b[43m[\u001b[49m\u001b[43mlevel\u001b[49m\u001b[43m:\u001b[49m\u001b[43m]\u001b[49m\u001b[43m,\u001b[49m\u001b[43m \u001b[49m\u001b[43mpackage\u001b[49m\u001b[43m,\u001b[49m\u001b[43m \u001b[49m\u001b[43mlevel\u001b[49m\u001b[43m)\u001b[49m\n",
            "File \u001b[1;32mC:\\Program Files\\WindowsApps\\PythonSoftwareFoundation.Python.3.11_3.11.2544.0_x64__qbz5n2kfra8p0\\Lib\\site-packages\\setuptools\\__init__.py:17\u001b[0m\n\u001b[0;32m     14\u001b[0m \u001b[38;5;28;01mfrom\u001b[39;00m \u001b[38;5;21;01m.\u001b[39;00m\u001b[38;5;21;01m_deprecation_warning\u001b[39;00m \u001b[38;5;28;01mimport\u001b[39;00m SetuptoolsDeprecationWarning\n\u001b[0;32m     16\u001b[0m \u001b[38;5;28;01mimport\u001b[39;00m \u001b[38;5;21;01msetuptools\u001b[39;00m\u001b[38;5;21;01m.\u001b[39;00m\u001b[38;5;21;01mversion\u001b[39;00m\n\u001b[1;32m---> 17\u001b[0m \u001b[38;5;28;01mfrom\u001b[39;00m \u001b[38;5;21;01msetuptools\u001b[39;00m\u001b[38;5;21;01m.\u001b[39;00m\u001b[38;5;21;01mextension\u001b[39;00m \u001b[38;5;28;01mimport\u001b[39;00m Extension\n\u001b[0;32m     18\u001b[0m \u001b[38;5;28;01mfrom\u001b[39;00m \u001b[38;5;21;01msetuptools\u001b[39;00m\u001b[38;5;21;01m.\u001b[39;00m\u001b[38;5;21;01mdist\u001b[39;00m \u001b[38;5;28;01mimport\u001b[39;00m Distribution\n\u001b[0;32m     19\u001b[0m \u001b[38;5;28;01mfrom\u001b[39;00m \u001b[38;5;21;01msetuptools\u001b[39;00m\u001b[38;5;21;01m.\u001b[39;00m\u001b[38;5;21;01mdepends\u001b[39;00m \u001b[38;5;28;01mimport\u001b[39;00m Require\n",
            "File \u001b[1;32mC:\\Program Files\\WindowsApps\\PythonSoftwareFoundation.Python.3.11_3.11.2544.0_x64__qbz5n2kfra8p0\\Lib\\site-packages\\setuptools\\extension.py:7\u001b[0m\n\u001b[0;32m      4\u001b[0m \u001b[38;5;28;01mimport\u001b[39;00m \u001b[38;5;21;01mdistutils\u001b[39;00m\u001b[38;5;21;01m.\u001b[39;00m\u001b[38;5;21;01merrors\u001b[39;00m\n\u001b[0;32m      5\u001b[0m \u001b[38;5;28;01mimport\u001b[39;00m \u001b[38;5;21;01mdistutils\u001b[39;00m\u001b[38;5;21;01m.\u001b[39;00m\u001b[38;5;21;01mextension\u001b[39;00m\n\u001b[1;32m----> 7\u001b[0m \u001b[38;5;28;01mfrom\u001b[39;00m \u001b[38;5;21;01m.\u001b[39;00m\u001b[38;5;21;01mmonkey\u001b[39;00m \u001b[38;5;28;01mimport\u001b[39;00m get_unpatched\n\u001b[0;32m     10\u001b[0m \u001b[38;5;28;01mdef\u001b[39;00m \u001b[38;5;21m_have_cython\u001b[39m():\n\u001b[0;32m     11\u001b[0m \u001b[38;5;250m    \u001b[39m\u001b[38;5;124;03m\"\"\"\u001b[39;00m\n\u001b[0;32m     12\u001b[0m \u001b[38;5;124;03m    Return True if Cython can be imported.\u001b[39;00m\n\u001b[0;32m     13\u001b[0m \u001b[38;5;124;03m    \"\"\"\u001b[39;00m\n",
            "File \u001b[1;32mC:\\Program Files\\WindowsApps\\PythonSoftwareFoundation.Python.3.11_3.11.2544.0_x64__qbz5n2kfra8p0\\Lib\\site-packages\\setuptools\\monkey.py:6\u001b[0m\n\u001b[0;32m      1\u001b[0m \u001b[38;5;124;03m\"\"\"\u001b[39;00m\n\u001b[0;32m      2\u001b[0m \u001b[38;5;124;03mMonkey patching of distutils.\u001b[39;00m\n\u001b[0;32m      3\u001b[0m \u001b[38;5;124;03m\"\"\"\u001b[39;00m\n\u001b[0;32m      5\u001b[0m \u001b[38;5;28;01mimport\u001b[39;00m \u001b[38;5;21;01msys\u001b[39;00m\n\u001b[1;32m----> 6\u001b[0m \u001b[38;5;28;01mimport\u001b[39;00m \u001b[38;5;21;01mdistutils\u001b[39;00m\u001b[38;5;21;01m.\u001b[39;00m\u001b[38;5;21;01mfilelist\u001b[39;00m\n\u001b[0;32m      7\u001b[0m \u001b[38;5;28;01mimport\u001b[39;00m \u001b[38;5;21;01mplatform\u001b[39;00m\n\u001b[0;32m      8\u001b[0m \u001b[38;5;28;01mimport\u001b[39;00m \u001b[38;5;21;01mtypes\u001b[39;00m\n",
            "File \u001b[1;32m<frozen importlib._bootstrap>:1176\u001b[0m, in \u001b[0;36m_find_and_load\u001b[1;34m(name, import_)\u001b[0m\n",
            "File \u001b[1;32m<frozen importlib._bootstrap>:1147\u001b[0m, in \u001b[0;36m_find_and_load_unlocked\u001b[1;34m(name, import_)\u001b[0m\n",
            "File \u001b[1;32m<frozen importlib._bootstrap>:690\u001b[0m, in \u001b[0;36m_load_unlocked\u001b[1;34m(spec)\u001b[0m\n",
            "File \u001b[1;32m<frozen importlib._bootstrap_external>:936\u001b[0m, in \u001b[0;36mexec_module\u001b[1;34m(self, module)\u001b[0m\n",
            "File \u001b[1;32m<frozen importlib._bootstrap_external>:1032\u001b[0m, in \u001b[0;36mget_code\u001b[1;34m(self, fullname)\u001b[0m\n",
            "File \u001b[1;32m<frozen importlib._bootstrap_external>:1130\u001b[0m, in \u001b[0;36mget_data\u001b[1;34m(self, path)\u001b[0m\n",
            "\u001b[1;31mKeyboardInterrupt\u001b[0m: "
          ]
        }
      ],
      "source": [
        "import numpy as np\n",
        "import pandas as pd\n",
        "import matplotlib.pyplot as plt\n",
        "import seaborn as sns\n",
        "import tensorflow as tf\n",
        "from sklearn.preprocessing import StandardScaler, LabelEncoder\n",
        "from sklearn.model_selection import train_test_split\n",
        "from sklearn.decomposition import PCA\n",
        "from sklearn.discriminant_analysis import LinearDiscriminantAnalysis\n",
        "from sklearn.metrics import accuracy_score\n",
        "from tensorflow.keras.models import Sequential\n",
        "from tensorflow.keras.layers import Dense, Conv1D, Flatten, MaxPooling1D, Dropout"
      ]
    },
    {
      "cell_type": "markdown",
      "metadata": {
        "id": "AAQRuh3hQyuh"
      },
      "source": [
        "# Load Data for PCA and LDA"
      ]
    },
    {
      "cell_type": "code",
      "execution_count": 3,
      "metadata": {
        "id": "6y7HAHgHQyuh"
      },
      "outputs": [
        {
          "data": {
            "text/html": [
              "<div>\n",
              "<style scoped>\n",
              "    .dataframe tbody tr th:only-of-type {\n",
              "        vertical-align: middle;\n",
              "    }\n",
              "\n",
              "    .dataframe tbody tr th {\n",
              "        vertical-align: top;\n",
              "    }\n",
              "\n",
              "    .dataframe thead th {\n",
              "        text-align: right;\n",
              "    }\n",
              "</style>\n",
              "<table border=\"1\" class=\"dataframe\">\n",
              "  <thead>\n",
              "    <tr style=\"text-align: right;\">\n",
              "      <th></th>\n",
              "      <th>Class</th>\n",
              "      <th>Feature1</th>\n",
              "      <th>Feature2</th>\n",
              "      <th>Feature3</th>\n",
              "      <th>Feature4</th>\n",
              "      <th>Feature5</th>\n",
              "      <th>Feature6</th>\n",
              "      <th>Feature7</th>\n",
              "      <th>Feature8</th>\n",
              "      <th>Feature9</th>\n",
              "      <th>Feature10</th>\n",
              "      <th>Feature11</th>\n",
              "      <th>Feature12</th>\n",
              "      <th>Feature13</th>\n",
              "      <th>Feature14</th>\n",
              "    </tr>\n",
              "  </thead>\n",
              "  <tbody>\n",
              "    <tr>\n",
              "      <th>0</th>\n",
              "      <td>0.0</td>\n",
              "      <td>35.533354</td>\n",
              "      <td>220.110174</td>\n",
              "      <td>185.322913</td>\n",
              "      <td>714.120693</td>\n",
              "      <td>3719.146472</td>\n",
              "      <td>0.199611</td>\n",
              "      <td>0.807951</td>\n",
              "      <td>31.626118</td>\n",
              "      <td>345.489585</td>\n",
              "      <td>465.024867</td>\n",
              "      <td>353.379868</td>\n",
              "      <td>679.766033</td>\n",
              "      <td>0.199611</td>\n",
              "      <td>1.172721</td>\n",
              "    </tr>\n",
              "    <tr>\n",
              "      <th>1</th>\n",
              "      <td>0.0</td>\n",
              "      <td>12.153222</td>\n",
              "      <td>290.799141</td>\n",
              "      <td>371.267847</td>\n",
              "      <td>825.465771</td>\n",
              "      <td>235.087734</td>\n",
              "      <td>0.233832</td>\n",
              "      <td>0.710784</td>\n",
              "      <td>14.583007</td>\n",
              "      <td>297.938838</td>\n",
              "      <td>238.719070</td>\n",
              "      <td>1180.971365</td>\n",
              "      <td>1441.838840</td>\n",
              "      <td>0.233832</td>\n",
              "      <td>0.871765</td>\n",
              "    </tr>\n",
              "    <tr>\n",
              "      <th>2</th>\n",
              "      <td>0.0</td>\n",
              "      <td>15.687117</td>\n",
              "      <td>245.596011</td>\n",
              "      <td>432.266516</td>\n",
              "      <td>969.556869</td>\n",
              "      <td>4529.009906</td>\n",
              "      <td>0.266850</td>\n",
              "      <td>0.607620</td>\n",
              "      <td>14.940141</td>\n",
              "      <td>375.341165</td>\n",
              "      <td>439.139407</td>\n",
              "      <td>1028.171307</td>\n",
              "      <td>2469.411191</td>\n",
              "      <td>0.266850</td>\n",
              "      <td>0.786855</td>\n",
              "    </tr>\n",
              "    <tr>\n",
              "      <th>3</th>\n",
              "      <td>0.0</td>\n",
              "      <td>4.130666</td>\n",
              "      <td>266.347021</td>\n",
              "      <td>1400.323393</td>\n",
              "      <td>1503.693799</td>\n",
              "      <td>2897.194341</td>\n",
              "      <td>0.298691</td>\n",
              "      <td>0.572977</td>\n",
              "      <td>31.846588</td>\n",
              "      <td>304.508444</td>\n",
              "      <td>594.597040</td>\n",
              "      <td>1049.210472</td>\n",
              "      <td>1477.424605</td>\n",
              "      <td>0.298691</td>\n",
              "      <td>0.852576</td>\n",
              "    </tr>\n",
              "    <tr>\n",
              "      <th>4</th>\n",
              "      <td>0.0</td>\n",
              "      <td>1.666385</td>\n",
              "      <td>72.802457</td>\n",
              "      <td>107.825008</td>\n",
              "      <td>1057.444093</td>\n",
              "      <td>2901.767221</td>\n",
              "      <td>0.329382</td>\n",
              "      <td>0.613656</td>\n",
              "      <td>5.950176</td>\n",
              "      <td>94.237243</td>\n",
              "      <td>73.547132</td>\n",
              "      <td>396.930317</td>\n",
              "      <td>669.509993</td>\n",
              "      <td>0.329382</td>\n",
              "      <td>0.856799</td>\n",
              "    </tr>\n",
              "    <tr>\n",
              "      <th>...</th>\n",
              "      <td>...</td>\n",
              "      <td>...</td>\n",
              "      <td>...</td>\n",
              "      <td>...</td>\n",
              "      <td>...</td>\n",
              "      <td>...</td>\n",
              "      <td>...</td>\n",
              "      <td>...</td>\n",
              "      <td>...</td>\n",
              "      <td>...</td>\n",
              "      <td>...</td>\n",
              "      <td>...</td>\n",
              "      <td>...</td>\n",
              "      <td>...</td>\n",
              "      <td>...</td>\n",
              "    </tr>\n",
              "    <tr>\n",
              "      <th>12805</th>\n",
              "      <td>0.0</td>\n",
              "      <td>3.851420</td>\n",
              "      <td>115.558659</td>\n",
              "      <td>38.865765</td>\n",
              "      <td>512.790147</td>\n",
              "      <td>1403.891146</td>\n",
              "      <td>1.683803</td>\n",
              "      <td>0.981003</td>\n",
              "      <td>20.521331</td>\n",
              "      <td>255.291245</td>\n",
              "      <td>69.638338</td>\n",
              "      <td>58.645717</td>\n",
              "      <td>248.293827</td>\n",
              "      <td>1.683803</td>\n",
              "      <td>1.334752</td>\n",
              "    </tr>\n",
              "    <tr>\n",
              "      <th>12806</th>\n",
              "      <td>0.0</td>\n",
              "      <td>26.924435</td>\n",
              "      <td>195.108723</td>\n",
              "      <td>36.567537</td>\n",
              "      <td>559.356964</td>\n",
              "      <td>287.251317</td>\n",
              "      <td>1.742832</td>\n",
              "      <td>1.241980</td>\n",
              "      <td>46.152025</td>\n",
              "      <td>280.984170</td>\n",
              "      <td>22.588877</td>\n",
              "      <td>97.207134</td>\n",
              "      <td>97.334776</td>\n",
              "      <td>1.742832</td>\n",
              "      <td>1.388819</td>\n",
              "    </tr>\n",
              "    <tr>\n",
              "      <th>12807</th>\n",
              "      <td>0.0</td>\n",
              "      <td>10.201896</td>\n",
              "      <td>92.691810</td>\n",
              "      <td>60.630080</td>\n",
              "      <td>111.331959</td>\n",
              "      <td>426.887229</td>\n",
              "      <td>1.803927</td>\n",
              "      <td>1.228706</td>\n",
              "      <td>18.222472</td>\n",
              "      <td>124.216958</td>\n",
              "      <td>91.341961</td>\n",
              "      <td>56.843374</td>\n",
              "      <td>493.068512</td>\n",
              "      <td>1.803927</td>\n",
              "      <td>1.363538</td>\n",
              "    </tr>\n",
              "    <tr>\n",
              "      <th>12808</th>\n",
              "      <td>0.0</td>\n",
              "      <td>24.657509</td>\n",
              "      <td>70.277027</td>\n",
              "      <td>23.014987</td>\n",
              "      <td>58.710847</td>\n",
              "      <td>748.486167</td>\n",
              "      <td>1.867127</td>\n",
              "      <td>1.103956</td>\n",
              "      <td>42.625600</td>\n",
              "      <td>143.469790</td>\n",
              "      <td>41.622062</td>\n",
              "      <td>86.254182</td>\n",
              "      <td>290.279950</td>\n",
              "      <td>1.867127</td>\n",
              "      <td>1.278275</td>\n",
              "    </tr>\n",
              "    <tr>\n",
              "      <th>12809</th>\n",
              "      <td>0.0</td>\n",
              "      <td>6.770026</td>\n",
              "      <td>111.545016</td>\n",
              "      <td>36.265449</td>\n",
              "      <td>65.978988</td>\n",
              "      <td>330.866660</td>\n",
              "      <td>1.932471</td>\n",
              "      <td>1.245832</td>\n",
              "      <td>2.797284</td>\n",
              "      <td>204.061874</td>\n",
              "      <td>51.257198</td>\n",
              "      <td>65.000581</td>\n",
              "      <td>560.982996</td>\n",
              "      <td>1.932471</td>\n",
              "      <td>1.252699</td>\n",
              "    </tr>\n",
              "  </tbody>\n",
              "</table>\n",
              "<p>12810 rows × 15 columns</p>\n",
              "</div>"
            ],
            "text/plain": [
              "       Class   Feature1    Feature2     Feature3     Feature4     Feature5  \\\n",
              "0        0.0  35.533354  220.110174   185.322913   714.120693  3719.146472   \n",
              "1        0.0  12.153222  290.799141   371.267847   825.465771   235.087734   \n",
              "2        0.0  15.687117  245.596011   432.266516   969.556869  4529.009906   \n",
              "3        0.0   4.130666  266.347021  1400.323393  1503.693799  2897.194341   \n",
              "4        0.0   1.666385   72.802457   107.825008  1057.444093  2901.767221   \n",
              "...      ...        ...         ...          ...          ...          ...   \n",
              "12805    0.0   3.851420  115.558659    38.865765   512.790147  1403.891146   \n",
              "12806    0.0  26.924435  195.108723    36.567537   559.356964   287.251317   \n",
              "12807    0.0  10.201896   92.691810    60.630080   111.331959   426.887229   \n",
              "12808    0.0  24.657509   70.277027    23.014987    58.710847   748.486167   \n",
              "12809    0.0   6.770026  111.545016    36.265449    65.978988   330.866660   \n",
              "\n",
              "       Feature6  Feature7   Feature8    Feature9   Feature10    Feature11  \\\n",
              "0      0.199611  0.807951  31.626118  345.489585  465.024867   353.379868   \n",
              "1      0.233832  0.710784  14.583007  297.938838  238.719070  1180.971365   \n",
              "2      0.266850  0.607620  14.940141  375.341165  439.139407  1028.171307   \n",
              "3      0.298691  0.572977  31.846588  304.508444  594.597040  1049.210472   \n",
              "4      0.329382  0.613656   5.950176   94.237243   73.547132   396.930317   \n",
              "...         ...       ...        ...         ...         ...          ...   \n",
              "12805  1.683803  0.981003  20.521331  255.291245   69.638338    58.645717   \n",
              "12806  1.742832  1.241980  46.152025  280.984170   22.588877    97.207134   \n",
              "12807  1.803927  1.228706  18.222472  124.216958   91.341961    56.843374   \n",
              "12808  1.867127  1.103956  42.625600  143.469790   41.622062    86.254182   \n",
              "12809  1.932471  1.245832   2.797284  204.061874   51.257198    65.000581   \n",
              "\n",
              "         Feature12  Feature13  Feature14  \n",
              "0       679.766033   0.199611   1.172721  \n",
              "1      1441.838840   0.233832   0.871765  \n",
              "2      2469.411191   0.266850   0.786855  \n",
              "3      1477.424605   0.298691   0.852576  \n",
              "4       669.509993   0.329382   0.856799  \n",
              "...            ...        ...        ...  \n",
              "12805   248.293827   1.683803   1.334752  \n",
              "12806    97.334776   1.742832   1.388819  \n",
              "12807   493.068512   1.803927   1.363538  \n",
              "12808   290.279950   1.867127   1.278275  \n",
              "12809   560.982996   1.932471   1.252699  \n",
              "\n",
              "[12810 rows x 15 columns]"
            ]
          },
          "execution_count": 3,
          "metadata": {},
          "output_type": "execute_result"
        }
      ],
      "source": [
        "# Charger le DataFrame initial\n",
        "x1 = pd.read_csv(\"../Ressources/Datasets/stand_norm_e1.txt\", header=None, delimiter=' ', names=[\n",
        "    'Feature1',\n",
        "    'Feature2',\n",
        "    'Feature3',\n",
        "    'Feature4',\n",
        "    'Feature5',\n",
        "    'Feature6',\n",
        "    'Feature7'\n",
        "])\n",
        "x2 = pd.read_csv(\"../Ressources/Datasets/stand_norm_e2.txt\",  header=None, delimiter=' ', names=[\n",
        "    'Feature8',\n",
        "    'Feature9',\n",
        "    'Feature10',\n",
        "    'Feature11',\n",
        "    'Feature12',\n",
        "    'Feature13',\n",
        "    'Feature14'\n",
        "])\n",
        "\n",
        "# Charger les nouvelles valeurs depuis y2_e1.txt\n",
        "new_values = pd.read_csv(\"../Ressources/Datasets/y2_e1.txt\", header=None, names=['Class'], delimiter=' ')\n",
        "\n",
        "# Concaténer les DataFrames avec les colonnes 'Class' et 'New_Class'\n",
        "df = pd.concat([new_values, x1, x2], axis=1)\n",
        "\n",
        "df.head(len(df))"
      ]
    },
    {
      "cell_type": "markdown",
      "metadata": {
        "id": "kA2pkoDJQyui"
      },
      "source": [
        "# Load Data for CNN with 2 dataset concatenated"
      ]
    },
    {
      "cell_type": "code",
      "execution_count": 32,
      "metadata": {
        "id": "YREdcn9hQyui"
      },
      "outputs": [],
      "source": [
        "dataset_e1 = pd.read_csv(\"../Ressources/Datasets/stand_norm_e1.txt\", header=None, delimiter=' ', names=[\n",
        "    'Feature1',\n",
        "    'Feature2',\n",
        "    'Feature3',\n",
        "    'Feature4',\n",
        "    'Feature5',\n",
        "    'Feature6',\n",
        "    'Feature7'\n",
        "])\n",
        "dataset_e2 = pd.read_csv(\"../Ressources/Datasets/stand_norm_e2.txt\",  header=None, delimiter=' ', names=[\n",
        "    'Feature8',\n",
        "    'Feature9',\n",
        "    'Feature10',\n",
        "    'Feature11',\n",
        "    'Feature12',\n",
        "    'Feature13',\n",
        "    'Feature14'\n",
        "])\n",
        "new_values = pd.read_csv(\"y2_e1.txt\", header=None, names=['Class'], delimiter=' ')\n",
        "\n",
        "# Concaténe les DataFrames avec les colonnes 'Class' et 'New_Class'\n",
        "dataset = pd.concat([new_values, dataset_e1, dataset_e2], axis=1)\n",
        "\n",
        "dataset.head(len(dataset))"
      ]
    },
    {
      "cell_type": "markdown",
      "metadata": {
        "id": "6MCobzsKQyuj"
      },
      "source": [
        "# Split Data into Features and Target variable for PCA and LDA"
      ]
    },
    {
      "cell_type": "code",
      "execution_count": 33,
      "metadata": {
        "id": "gKMZB3UjQyuj"
      },
      "outputs": [],
      "source": [
        "X_pca_lda = df.drop('Class', axis=1)\n",
        "y_pca_lda = df['Class']"
      ]
    },
    {
      "cell_type": "markdown",
      "metadata": {
        "id": "3rAnCzX9Qyuk"
      },
      "source": [
        "# Split Data for CNN"
      ]
    },
    {
      "cell_type": "code",
      "execution_count": 34,
      "metadata": {
        "id": "cnDStDA7Qyul"
      },
      "outputs": [],
      "source": [
        "X_cnn = dataset.iloc[:, 1:5].values\n",
        "y_cnn = dataset['Class'].values\n",
        "le = LabelEncoder()\n",
        "y_cnn_encoded = le.fit_transform(y_cnn)\n",
        "y_cnn_encoded = tf.keras.utils.to_categorical(y_cnn_encoded)"
      ]
    },
    {
      "cell_type": "markdown",
      "metadata": {
        "id": "Edm5uRFnQyul"
      },
      "source": [
        "# Standardize Features for PCA and LDA"
      ]
    },
    {
      "cell_type": "code",
      "execution_count": 35,
      "metadata": {
        "id": "qYLZmyd8Qyul"
      },
      "outputs": [],
      "source": [
        "scaler = StandardScaler()\n",
        "X_scaled_pca_lda = scaler.fit_transform(X_pca_lda)"
      ]
    },
    {
      "cell_type": "markdown",
      "metadata": {
        "id": "ArErWwePQyum"
      },
      "source": [
        "# Split Data into Training and Testing sets for PCA and LDA"
      ]
    },
    {
      "cell_type": "code",
      "execution_count": 36,
      "metadata": {
        "id": "gOQ336cCQyum"
      },
      "outputs": [],
      "source": [
        "X_train_pca_lda, X_test_pca_lda, y_train_pca_lda, y_test_pca_lda = train_test_split(X_scaled_pca_lda, y_pca_lda, test_size=0.2)"
      ]
    },
    {
      "cell_type": "markdown",
      "metadata": {
        "id": "boRQm02YQyum"
      },
      "source": [
        "# Split Data into Training and Testing sets for CNN"
      ]
    },
    {
      "cell_type": "code",
      "execution_count": 37,
      "metadata": {
        "id": "LUnZ_kBjQyum"
      },
      "outputs": [],
      "source": [
        "X_train_cnn, X_test_cnn, y_train_cnn, y_test_cnn = train_test_split(X_cnn, y_cnn_encoded, test_size=0.2, random_state=42)"
      ]
    },
    {
      "cell_type": "markdown",
      "metadata": {
        "id": "Om9n1HYSQyum"
      },
      "source": [
        "# Define CNN Model"
      ]
    },
    {
      "cell_type": "code",
      "execution_count": 38,
      "metadata": {
        "colab": {
          "base_uri": "https://localhost:8080/"
        },
        "id": "MPqly-mAQyun",
        "outputId": "d9949151-f9c2-4f8e-fd73-ada6351174f0"
      },
      "outputs": [
        {
          "name": "stdout",
          "output_type": "stream",
          "text": [
            "Epoch 1/20\n",
            "1025/1025 [==============================] - 6s 5ms/step - loss: 2.2767 - accuracy: 0.7521\n",
            "Epoch 2/20\n",
            "1025/1025 [==============================] - 3s 3ms/step - loss: 0.5955 - accuracy: 0.7791\n",
            "Epoch 3/20\n",
            "1025/1025 [==============================] - 3s 3ms/step - loss: 0.5602 - accuracy: 0.7809\n",
            "Epoch 4/20\n",
            "1025/1025 [==============================] - 5s 5ms/step - loss: 0.5490 - accuracy: 0.7825\n",
            "Epoch 5/20\n",
            "1025/1025 [==============================] - 4s 3ms/step - loss: 0.5399 - accuracy: 0.7807\n",
            "Epoch 6/20\n",
            "1025/1025 [==============================] - 4s 3ms/step - loss: 0.5337 - accuracy: 0.7806\n",
            "Epoch 7/20\n",
            "1025/1025 [==============================] - 4s 4ms/step - loss: 0.5408 - accuracy: 0.7824\n",
            "Epoch 8/20\n",
            "1025/1025 [==============================] - 4s 4ms/step - loss: 0.5317 - accuracy: 0.7824\n",
            "Epoch 9/20\n",
            "1025/1025 [==============================] - 3s 3ms/step - loss: 0.5320 - accuracy: 0.7817\n",
            "Epoch 10/20\n",
            "1025/1025 [==============================] - 3s 3ms/step - loss: 0.5449 - accuracy: 0.7817\n",
            "Epoch 11/20\n",
            "1025/1025 [==============================] - 4s 4ms/step - loss: 0.5359 - accuracy: 0.7829\n",
            "Epoch 12/20\n",
            "1025/1025 [==============================] - 4s 4ms/step - loss: 0.5358 - accuracy: 0.7829\n",
            "Epoch 13/20\n",
            "1025/1025 [==============================] - 3s 3ms/step - loss: 0.5359 - accuracy: 0.7829\n",
            "Epoch 14/20\n",
            "1025/1025 [==============================] - 3s 3ms/step - loss: 0.5358 - accuracy: 0.7829\n",
            "Epoch 15/20\n",
            "1025/1025 [==============================] - 4s 4ms/step - loss: 0.5358 - accuracy: 0.7829\n",
            "Epoch 16/20\n",
            "1025/1025 [==============================] - 4s 3ms/step - loss: 0.5358 - accuracy: 0.7829\n",
            "Epoch 17/20\n",
            "1025/1025 [==============================] - 3s 3ms/step - loss: 0.5358 - accuracy: 0.7829\n",
            "Epoch 18/20\n",
            "1025/1025 [==============================] - 3s 3ms/step - loss: 0.5358 - accuracy: 0.7829\n",
            "Epoch 19/20\n",
            "1025/1025 [==============================] - 5s 5ms/step - loss: 0.5358 - accuracy: 0.7829\n",
            "Epoch 20/20\n",
            "1025/1025 [==============================] - 3s 3ms/step - loss: 0.5358 - accuracy: 0.7829\n"
          ]
        },
        {
          "data": {
            "text/plain": [
              "<keras.src.callbacks.History at 0x7a63d4e8f040>"
            ]
          },
          "execution_count": 38,
          "metadata": {},
          "output_type": "execute_result"
        }
      ],
      "source": [
        "model = Sequential()\n",
        "model.add(Conv1D(filters=128, kernel_size=3, activation='relu', padding='same', input_shape=(X_train_cnn.shape[1], 1)))\n",
        "model.add(MaxPooling1D(pool_size=2))\n",
        "model.add(Conv1D(filters=128, kernel_size=3, activation='relu', padding='same'))\n",
        "model.add(MaxPooling1D(pool_size=2))\n",
        "model.add(Flatten())\n",
        "model.add(Dense(100, activation='relu'))\n",
        "model.add(Dropout(0.5))\n",
        "model.add(Dense(y_train_cnn.shape[1], activation='softmax'))\n",
        "model.compile(optimizer='adam', loss='categorical_crossentropy', metrics=['accuracy'])\n",
        "model.fit(X_train_cnn, y_train_cnn, epochs=20, batch_size=20, verbose=1)"
      ]
    },
    {
      "cell_type": "markdown",
      "metadata": {
        "id": "s0ycxwl5Qyun"
      },
      "source": [
        "# Define PCA Model"
      ]
    },
    {
      "cell_type": "code",
      "execution_count": 39,
      "metadata": {
        "id": "QuyLrqwpQyun"
      },
      "outputs": [],
      "source": [
        "pca = PCA(n_components=2)\n",
        "X_train_pca = pca.fit_transform(X_train_pca_lda)\n",
        "X_test_pca = pca.transform(X_test_pca_lda)"
      ]
    },
    {
      "cell_type": "markdown",
      "metadata": {
        "id": "qNzwPkkLQyun"
      },
      "source": [
        "# Define LDA Model"
      ]
    },
    {
      "cell_type": "code",
      "execution_count": 40,
      "metadata": {
        "id": "AY1nvxveQyuo"
      },
      "outputs": [],
      "source": [
        "lda = LinearDiscriminantAnalysis(n_components=2)\n",
        "X_train_lda = lda.fit_transform(X_train_pca_lda, y_train_pca_lda)\n",
        "X_test_lda = lda.transform(X_test_pca_lda)"
      ]
    },
    {
      "cell_type": "markdown",
      "metadata": {
        "id": "xg3Work1Qyuo"
      },
      "source": [
        "# Evaluate Models"
      ]
    },
    {
      "cell_type": "code",
      "execution_count": 41,
      "metadata": {
        "id": "eTfn6du2Qyuo"
      },
      "outputs": [],
      "source": [
        "pca_score = accuracy_score(y_test_pca_lda, lda.predict(X_test_pca_lda))\n",
        "lda_score = accuracy_score(y_test_pca_lda, lda.predict(X_test_pca_lda))\n",
        "cnn_loss, cnn_accuracy = model.evaluate(X_test_cnn, y_test_cnn, verbose=0)"
      ]
    },
    {
      "cell_type": "markdown",
      "metadata": {
        "id": "BgY5yPaHQyuo"
      },
      "source": [
        "# Compare Performance"
      ]
    },
    {
      "cell_type": "code",
      "execution_count": 42,
      "metadata": {
        "colab": {
          "base_uri": "https://localhost:8080/"
        },
        "id": "BpxZmAZKQyuo",
        "outputId": "bd61b078-ac35-4ffc-b945-4678767df1b5"
      },
      "outputs": [
        {
          "name": "stdout",
          "output_type": "stream",
          "text": [
            "CNN performs the best with an accuracy of 77.91%\n"
          ]
        }
      ],
      "source": [
        "if pca_score > lda_score and pca_score > cnn_accuracy:\n",
        "    print(\"PCA performs the best with a score of {:.2f}\".format(pca_score))\n",
        "elif lda_score > pca_score and lda_score > cnn_accuracy:\n",
        "    print(\"LDA performs the best with a score of {:.2f}\".format(lda_score))\n",
        "else:\n",
        "    print(\"CNN performs the best with an accuracy of {:.2f}%\".format(cnn_accuracy*100))"
      ]
    },
    {
      "cell_type": "markdown",
      "metadata": {
        "id": "Or3emh62TD0_"
      },
      "source": [
        "Lors de la concaténation des deux ensembles de données, à savoir stand_norm_e1 et *stand_norm_e2*, nous observons une diminution des performances, avec une précision maximale obtenue par le réseau de neurones convolutifs (CNN) de **77,91 %**. En revanche, lorsque le premier ensemble de données stand_norm_e1 est utilisé isolément, la performance du CNN s'améliore, atteignant une précision de **78,81 %.**"
      ]
    }
  ],
  "metadata": {
    "colab": {
      "provenance": []
    },
    "kernelspec": {
      "display_name": "Python 3 (ipykernel)",
      "language": "python",
      "name": "python3"
    },
    "language_info": {
      "codemirror_mode": {
        "name": "ipython",
        "version": 3
      },
      "file_extension": ".py",
      "mimetype": "text/x-python",
      "name": "python",
      "nbconvert_exporter": "python",
      "pygments_lexer": "ipython3",
      "version": "3.11.9"
    }
  },
  "nbformat": 4,
  "nbformat_minor": 0
}
