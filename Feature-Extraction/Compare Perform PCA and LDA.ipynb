{
 "cells": [
  {
   "attachments": {},
   "cell_type": "markdown",
   "metadata": {
    "run_control": {
     "marked": true
    }
   },
   "source": [
    "# Compare Perform PCA and LDA"
   ]
  },
  {
   "attachments": {},
   "cell_type": "markdown",
   "metadata": {},
   "source": [
    "# Install and import relevant libraries"
   ]
  },
  {
   "cell_type": "code",
   "execution_count": 11,
   "metadata": {},
   "outputs": [],
   "source": [
    "import numpy as np\n",
    "import pandas as pd\n",
    "import matplotlib.pyplot as plt\n",
    "from sklearn.preprocessing import StandardScaler, LabelEncoder\n",
    "from sklearn.decomposition import PCA\n",
    "from sklearn.discriminant_analysis import LinearDiscriminantAnalysis\n",
    "from sklearn.model_selection import train_test_split\n",
    "import seaborn as sns"
   ]
  },
  {
   "attachments": {},
   "cell_type": "markdown",
   "metadata": {},
   "source": [
    "# Read and load the data"
   ]
  },
  {
   "cell_type": "code",
   "execution_count": 12,
   "metadata": {},
   "outputs": [
    {
     "data": {
      "text/html": [
       "<div>\n",
       "<style scoped>\n",
       "    .dataframe tbody tr th:only-of-type {\n",
       "        vertical-align: middle;\n",
       "    }\n",
       "\n",
       "    .dataframe tbody tr th {\n",
       "        vertical-align: top;\n",
       "    }\n",
       "\n",
       "    .dataframe thead th {\n",
       "        text-align: right;\n",
       "    }\n",
       "</style>\n",
       "<table border=\"1\" class=\"dataframe\">\n",
       "  <thead>\n",
       "    <tr style=\"text-align: right;\">\n",
       "      <th></th>\n",
       "      <th>Class</th>\n",
       "      <th>Feature1</th>\n",
       "      <th>Feature2</th>\n",
       "      <th>Feature3</th>\n",
       "      <th>Feature4</th>\n",
       "      <th>Feature5</th>\n",
       "      <th>Feature6</th>\n",
       "      <th>Feature7</th>\n",
       "      <th>Feature8</th>\n",
       "      <th>Feature9</th>\n",
       "      <th>Feature10</th>\n",
       "      <th>Feature11</th>\n",
       "      <th>Feature12</th>\n",
       "      <th>Feature13</th>\n",
       "      <th>Feature14</th>\n",
       "    </tr>\n",
       "  </thead>\n",
       "  <tbody>\n",
       "    <tr>\n",
       "      <th>0</th>\n",
       "      <td>0.0</td>\n",
       "      <td>35.533354</td>\n",
       "      <td>220.110174</td>\n",
       "      <td>185.322913</td>\n",
       "      <td>714.120693</td>\n",
       "      <td>3719.146472</td>\n",
       "      <td>0.199611</td>\n",
       "      <td>0.807951</td>\n",
       "      <td>31.626118</td>\n",
       "      <td>345.489585</td>\n",
       "      <td>465.024867</td>\n",
       "      <td>353.379868</td>\n",
       "      <td>679.766033</td>\n",
       "      <td>0.199611</td>\n",
       "      <td>1.172721</td>\n",
       "    </tr>\n",
       "    <tr>\n",
       "      <th>1</th>\n",
       "      <td>0.0</td>\n",
       "      <td>12.153222</td>\n",
       "      <td>290.799141</td>\n",
       "      <td>371.267847</td>\n",
       "      <td>825.465771</td>\n",
       "      <td>235.087734</td>\n",
       "      <td>0.233832</td>\n",
       "      <td>0.710784</td>\n",
       "      <td>14.583007</td>\n",
       "      <td>297.938838</td>\n",
       "      <td>238.719070</td>\n",
       "      <td>1180.971365</td>\n",
       "      <td>1441.838840</td>\n",
       "      <td>0.233832</td>\n",
       "      <td>0.871765</td>\n",
       "    </tr>\n",
       "    <tr>\n",
       "      <th>2</th>\n",
       "      <td>0.0</td>\n",
       "      <td>15.687117</td>\n",
       "      <td>245.596011</td>\n",
       "      <td>432.266516</td>\n",
       "      <td>969.556869</td>\n",
       "      <td>4529.009906</td>\n",
       "      <td>0.266850</td>\n",
       "      <td>0.607620</td>\n",
       "      <td>14.940141</td>\n",
       "      <td>375.341165</td>\n",
       "      <td>439.139407</td>\n",
       "      <td>1028.171307</td>\n",
       "      <td>2469.411191</td>\n",
       "      <td>0.266850</td>\n",
       "      <td>0.786855</td>\n",
       "    </tr>\n",
       "    <tr>\n",
       "      <th>3</th>\n",
       "      <td>0.0</td>\n",
       "      <td>4.130666</td>\n",
       "      <td>266.347021</td>\n",
       "      <td>1400.323393</td>\n",
       "      <td>1503.693799</td>\n",
       "      <td>2897.194341</td>\n",
       "      <td>0.298691</td>\n",
       "      <td>0.572977</td>\n",
       "      <td>31.846588</td>\n",
       "      <td>304.508444</td>\n",
       "      <td>594.597040</td>\n",
       "      <td>1049.210472</td>\n",
       "      <td>1477.424605</td>\n",
       "      <td>0.298691</td>\n",
       "      <td>0.852576</td>\n",
       "    </tr>\n",
       "    <tr>\n",
       "      <th>4</th>\n",
       "      <td>0.0</td>\n",
       "      <td>1.666385</td>\n",
       "      <td>72.802457</td>\n",
       "      <td>107.825008</td>\n",
       "      <td>1057.444093</td>\n",
       "      <td>2901.767221</td>\n",
       "      <td>0.329382</td>\n",
       "      <td>0.613656</td>\n",
       "      <td>5.950176</td>\n",
       "      <td>94.237243</td>\n",
       "      <td>73.547132</td>\n",
       "      <td>396.930317</td>\n",
       "      <td>669.509993</td>\n",
       "      <td>0.329382</td>\n",
       "      <td>0.856799</td>\n",
       "    </tr>\n",
       "    <tr>\n",
       "      <th>...</th>\n",
       "      <td>...</td>\n",
       "      <td>...</td>\n",
       "      <td>...</td>\n",
       "      <td>...</td>\n",
       "      <td>...</td>\n",
       "      <td>...</td>\n",
       "      <td>...</td>\n",
       "      <td>...</td>\n",
       "      <td>...</td>\n",
       "      <td>...</td>\n",
       "      <td>...</td>\n",
       "      <td>...</td>\n",
       "      <td>...</td>\n",
       "      <td>...</td>\n",
       "      <td>...</td>\n",
       "    </tr>\n",
       "    <tr>\n",
       "      <th>12805</th>\n",
       "      <td>0.0</td>\n",
       "      <td>3.851420</td>\n",
       "      <td>115.558659</td>\n",
       "      <td>38.865765</td>\n",
       "      <td>512.790147</td>\n",
       "      <td>1403.891146</td>\n",
       "      <td>1.683803</td>\n",
       "      <td>0.981003</td>\n",
       "      <td>20.521331</td>\n",
       "      <td>255.291245</td>\n",
       "      <td>69.638338</td>\n",
       "      <td>58.645717</td>\n",
       "      <td>248.293827</td>\n",
       "      <td>1.683803</td>\n",
       "      <td>1.334752</td>\n",
       "    </tr>\n",
       "    <tr>\n",
       "      <th>12806</th>\n",
       "      <td>0.0</td>\n",
       "      <td>26.924435</td>\n",
       "      <td>195.108723</td>\n",
       "      <td>36.567537</td>\n",
       "      <td>559.356964</td>\n",
       "      <td>287.251317</td>\n",
       "      <td>1.742832</td>\n",
       "      <td>1.241980</td>\n",
       "      <td>46.152025</td>\n",
       "      <td>280.984170</td>\n",
       "      <td>22.588877</td>\n",
       "      <td>97.207134</td>\n",
       "      <td>97.334776</td>\n",
       "      <td>1.742832</td>\n",
       "      <td>1.388819</td>\n",
       "    </tr>\n",
       "    <tr>\n",
       "      <th>12807</th>\n",
       "      <td>0.0</td>\n",
       "      <td>10.201896</td>\n",
       "      <td>92.691810</td>\n",
       "      <td>60.630080</td>\n",
       "      <td>111.331959</td>\n",
       "      <td>426.887229</td>\n",
       "      <td>1.803927</td>\n",
       "      <td>1.228706</td>\n",
       "      <td>18.222472</td>\n",
       "      <td>124.216958</td>\n",
       "      <td>91.341961</td>\n",
       "      <td>56.843374</td>\n",
       "      <td>493.068512</td>\n",
       "      <td>1.803927</td>\n",
       "      <td>1.363538</td>\n",
       "    </tr>\n",
       "    <tr>\n",
       "      <th>12808</th>\n",
       "      <td>0.0</td>\n",
       "      <td>24.657509</td>\n",
       "      <td>70.277027</td>\n",
       "      <td>23.014987</td>\n",
       "      <td>58.710847</td>\n",
       "      <td>748.486167</td>\n",
       "      <td>1.867127</td>\n",
       "      <td>1.103956</td>\n",
       "      <td>42.625600</td>\n",
       "      <td>143.469790</td>\n",
       "      <td>41.622062</td>\n",
       "      <td>86.254182</td>\n",
       "      <td>290.279950</td>\n",
       "      <td>1.867127</td>\n",
       "      <td>1.278275</td>\n",
       "    </tr>\n",
       "    <tr>\n",
       "      <th>12809</th>\n",
       "      <td>0.0</td>\n",
       "      <td>6.770026</td>\n",
       "      <td>111.545016</td>\n",
       "      <td>36.265449</td>\n",
       "      <td>65.978988</td>\n",
       "      <td>330.866660</td>\n",
       "      <td>1.932471</td>\n",
       "      <td>1.245832</td>\n",
       "      <td>2.797284</td>\n",
       "      <td>204.061874</td>\n",
       "      <td>51.257198</td>\n",
       "      <td>65.000581</td>\n",
       "      <td>560.982996</td>\n",
       "      <td>1.932471</td>\n",
       "      <td>1.252699</td>\n",
       "    </tr>\n",
       "  </tbody>\n",
       "</table>\n",
       "<p>12810 rows × 15 columns</p>\n",
       "</div>"
      ],
      "text/plain": [
       "       Class   Feature1    Feature2     Feature3     Feature4     Feature5  \\\n",
       "0        0.0  35.533354  220.110174   185.322913   714.120693  3719.146472   \n",
       "1        0.0  12.153222  290.799141   371.267847   825.465771   235.087734   \n",
       "2        0.0  15.687117  245.596011   432.266516   969.556869  4529.009906   \n",
       "3        0.0   4.130666  266.347021  1400.323393  1503.693799  2897.194341   \n",
       "4        0.0   1.666385   72.802457   107.825008  1057.444093  2901.767221   \n",
       "...      ...        ...         ...          ...          ...          ...   \n",
       "12805    0.0   3.851420  115.558659    38.865765   512.790147  1403.891146   \n",
       "12806    0.0  26.924435  195.108723    36.567537   559.356964   287.251317   \n",
       "12807    0.0  10.201896   92.691810    60.630080   111.331959   426.887229   \n",
       "12808    0.0  24.657509   70.277027    23.014987    58.710847   748.486167   \n",
       "12809    0.0   6.770026  111.545016    36.265449    65.978988   330.866660   \n",
       "\n",
       "       Feature6  Feature7   Feature8    Feature9   Feature10    Feature11  \\\n",
       "0      0.199611  0.807951  31.626118  345.489585  465.024867   353.379868   \n",
       "1      0.233832  0.710784  14.583007  297.938838  238.719070  1180.971365   \n",
       "2      0.266850  0.607620  14.940141  375.341165  439.139407  1028.171307   \n",
       "3      0.298691  0.572977  31.846588  304.508444  594.597040  1049.210472   \n",
       "4      0.329382  0.613656   5.950176   94.237243   73.547132   396.930317   \n",
       "...         ...       ...        ...         ...         ...          ...   \n",
       "12805  1.683803  0.981003  20.521331  255.291245   69.638338    58.645717   \n",
       "12806  1.742832  1.241980  46.152025  280.984170   22.588877    97.207134   \n",
       "12807  1.803927  1.228706  18.222472  124.216958   91.341961    56.843374   \n",
       "12808  1.867127  1.103956  42.625600  143.469790   41.622062    86.254182   \n",
       "12809  1.932471  1.245832   2.797284  204.061874   51.257198    65.000581   \n",
       "\n",
       "         Feature12  Feature13  Feature14  \n",
       "0       679.766033   0.199611   1.172721  \n",
       "1      1441.838840   0.233832   0.871765  \n",
       "2      2469.411191   0.266850   0.786855  \n",
       "3      1477.424605   0.298691   0.852576  \n",
       "4       669.509993   0.329382   0.856799  \n",
       "...            ...        ...        ...  \n",
       "12805   248.293827   1.683803   1.334752  \n",
       "12806    97.334776   1.742832   1.388819  \n",
       "12807   493.068512   1.803927   1.363538  \n",
       "12808   290.279950   1.867127   1.278275  \n",
       "12809   560.982996   1.932471   1.252699  \n",
       "\n",
       "[12810 rows x 15 columns]"
      ]
     },
     "execution_count": 12,
     "metadata": {},
     "output_type": "execute_result"
    }
   ],
   "source": [
    "def load_dataset(filepath, names):\n",
    "    \"\"\"Charge un fichier CSV en DataFrame avec des noms de colonnes spécifiés.\"\"\"\n",
    "    return pd.read_csv(filepath, header=None, delimiter=' ', names=names)\n",
    "\n",
    "def concatenate_dataframes(class_df, df1, df2):\n",
    "    \"\"\"Concatène les DataFrames class_df, df1, et df2 horizontalement.\"\"\"\n",
    "    return pd.concat([class_df, df1, df2], axis=1)\n",
    "\n",
    "# Noms des colonnes pour chaque fichier\n",
    "names_1 = ['Feature1', 'Feature2', 'Feature3', 'Feature4', 'Feature5', 'Feature6', 'Feature7']\n",
    "names_2 = ['Feature8', 'Feature9', 'Feature10', 'Feature11', 'Feature12', 'Feature13', 'Feature14']\n",
    "\n",
    "# Chargement des DataFrames\n",
    "df_1 = load_dataset(\"../Ressources/Datasets/stand_norm_e1.txt\", names_1)\n",
    "df_2 = load_dataset(\"../Ressources/Datasets/stand_norm_e2.txt\", names_2)\n",
    "new_values = load_dataset(\"../Ressources/Datasets/y2_e1.txt\", ['Class'])\n",
    "\n",
    "# Concaténation des DataFrames\n",
    "df = concatenate_dataframes(new_values, df_1, df_2)\n",
    "\n",
    "# Affichage des premières lignes du DataFrame final\n",
    "df.head(len(df))"
   ]
  },
  {
   "cell_type": "code",
   "execution_count": 13,
   "metadata": {},
   "outputs": [],
   "source": [
    "# Function to display correlation matrix\n",
    "def correlation_matrix(df):\n",
    "    fig = plt.figure(figsize=(16, 12))\n",
    "    ax1 = fig.add_subplot(111)\n",
    "    cmap = plt.cm.get_cmap('jet', 30)\n",
    "    cax = ax1.imshow(df.corr(), interpolation=\"nearest\", cmap=cmap)\n",
    "    ax1.grid(True)\n",
    "    plt.title('Features Correlation Matrix', fontsize=15)\n",
    "    labels = df.columns\n",
    "    ax1.set_xticklabels(labels, fontsize=9)\n",
    "    ax1.set_yticklabels(labels, fontsize=9)\n",
    "    fig.colorbar(cax, ticks=[0.1*i for i in range(-11, 11)])\n",
    "    plt.show()"
   ]
  },
  {
   "cell_type": "code",
   "execution_count": 14,
   "metadata": {},
   "outputs": [
    {
     "name": "stderr",
     "output_type": "stream",
     "text": [
      "C:\\Users\\gabri\\AppData\\Local\\Temp\\ipykernel_46104\\2371143171.py:5: MatplotlibDeprecationWarning: The get_cmap function was deprecated in Matplotlib 3.7 and will be removed two minor releases later. Use ``matplotlib.colormaps[name]`` or ``matplotlib.colormaps.get_cmap(obj)`` instead.\n",
      "  cmap = plt.cm.get_cmap('jet', 30)\n",
      "C:\\Users\\gabri\\AppData\\Local\\Temp\\ipykernel_46104\\2371143171.py:10: UserWarning: set_ticklabels() should only be used with a fixed number of ticks, i.e. after set_ticks() or using a FixedLocator.\n",
      "  ax1.set_xticklabels(labels, fontsize=9)\n",
      "C:\\Users\\gabri\\AppData\\Local\\Temp\\ipykernel_46104\\2371143171.py:11: UserWarning: set_ticklabels() should only be used with a fixed number of ticks, i.e. after set_ticks() or using a FixedLocator.\n",
      "  ax1.set_yticklabels(labels, fontsize=9)\n"
     ]
    },
    {
     "data": {
      "image/png": "[encoded data removed]",
      "text/plain": [
       "<Figure size 1600x1200 with 2 Axes>"
      ]
     },
     "metadata": {},
     "output_type": "display_data"
    }
   ],
   "source": [
    "# Display correlation matrix\n",
    "correlation_matrix(df)"
   ]
  },
  {
   "cell_type": "code",
   "execution_count": 15,
   "metadata": {},
   "outputs": [],
   "source": [
    "# Separate features and target variable\n",
    "X = df.drop('Class', axis=1)\n",
    "y = df['Class']\n",
    "\n",
    "# X = df.drop('Class', axis=1) : creates a new DataFrame X containing all the columns of the DataFrame df except for the 'Class' column\n",
    "# y = df['Class']: This line creates a new Series y containing only the values from the 'Class' column of the DataFrame df."
   ]
  },
  {
   "attachments": {},
   "cell_type": "markdown",
   "metadata": {},
   "source": [
    "# Standardize features\n"
   ]
  },
  {
   "cell_type": "code",
   "execution_count": 16,
   "metadata": {},
   "outputs": [],
   "source": [
    "scaler = StandardScaler()\n",
    "X_scaled = scaler.fit_transform(X)\n",
    "\n",
    "# StandardScaler is a preprocessing technique used to standardize features by removing the mean and scaling to unit variance\n"
   ]
  },
  {
   "attachments": {},
   "cell_type": "markdown",
   "metadata": {},
   "source": [
    "# Perform PCA"
   ]
  },
  {
   "cell_type": "code",
   "execution_count": 17,
   "metadata": {},
   "outputs": [],
   "source": [
    "pca = PCA(n_components=None)\n",
    "X_pca = pca.fit_transform(X_scaled)"
   ]
  },
  {
   "attachments": {},
   "cell_type": "markdown",
   "metadata": {},
   "source": [
    "# Plot explained variance ratio"
   ]
  },
  {
   "cell_type": "code",
   "execution_count": 18,
   "metadata": {},
   "outputs": [
    {
     "data": {
      "image/png": "[encoded data removed]",
      "text/plain": [
       "<Figure size 1000x600 with 1 Axes>"
      ]
     },
     "metadata": {},
     "output_type": "display_data"
    }
   ],
   "source": [
    "plt.figure(figsize=(10, 6))\n",
    "plt.plot(np.cumsum(pca.explained_variance_ratio_), marker='o', linestyle='--')\n",
    "plt.title('Explained Variance Ratio by Principal Components')\n",
    "plt.xlabel('Number of Components')\n",
    "plt.ylabel('Cumulative Explained Variance Ratio')\n",
    "plt.grid(True)\n",
    "plt.show()"
   ]
  },
  {
   "attachments": {},
   "cell_type": "markdown",
   "metadata": {},
   "source": [
    "# Perform LDA"
   ]
  },
  {
   "cell_type": "code",
   "execution_count": 19,
   "metadata": {},
   "outputs": [],
   "source": [
    "lda = LinearDiscriminantAnalysis(n_components=2)\n",
    "X_lda = lda.fit_transform(X_scaled, y)"
   ]
  },
  {
   "attachments": {},
   "cell_type": "markdown",
   "metadata": {},
   "source": [
    "# Split data into training and testing sets"
   ]
  },
  {
   "cell_type": "code",
   "execution_count": 20,
   "metadata": {},
   "outputs": [],
   "source": [
    "X_train, X_test, y_train, y_test = train_test_split(X_scaled, y, test_size=0.2)"
   ]
  },
  {
   "attachments": {},
   "cell_type": "markdown",
   "metadata": {},
   "source": [
    "# Train and test PCA model"
   ]
  },
  {
   "cell_type": "code",
   "execution_count": 21,
   "metadata": {},
   "outputs": [],
   "source": [
    "pca = PCA(n_components=2)\n",
    "X_train_pca = pca.fit_transform(X_train)\n",
    "X_test_pca = pca.transform(X_test)"
   ]
  },
  {
   "attachments": {},
   "cell_type": "markdown",
   "metadata": {},
   "source": [
    "# Train and test LDA model"
   ]
  },
  {
   "cell_type": "code",
   "execution_count": 22,
   "metadata": {},
   "outputs": [],
   "source": [
    "lda = LinearDiscriminantAnalysis(n_components=2)\n",
    "X_train_lda = lda.fit_transform(X_train, y_train)\n",
    "X_test_lda = lda.transform(X_test)"
   ]
  },
  {
   "attachments": {},
   "cell_type": "markdown",
   "metadata": {},
   "source": [
    "# Evaluate PCA and LDA performance"
   ]
  },
  {
   "cell_type": "code",
   "execution_count": 23,
   "metadata": {},
   "outputs": [],
   "source": [
    "pca_score = pca.score(X_test, y_test)\n",
    "lda_score = lda.score(X_test, y_test)"
   ]
  },
  {
   "attachments": {},
   "cell_type": "markdown",
   "metadata": {},
   "source": [
    "# Compare performance"
   ]
  },
  {
   "cell_type": "code",
   "execution_count": 24,
   "metadata": {},
   "outputs": [
    {
     "name": "stdout",
     "output_type": "stream",
     "text": [
      "LDA outperforms PCA with a score of 77.71\n"
     ]
    }
   ],
   "source": [
    "if pca_score > lda_score:\n",
    "    print(\"PCA outperforms LDA with a score of {:.2f}\".format(pca_score*100))\n",
    "else:\n",
    "    print(\"LDA outperforms PCA with a score of {:.2f}\".format(lda_score*100))\n",
    "\n",
    "# lda_score typically refers to the accuracy of the LDA model in correctly predicting the class labels.\n",
    "# pca_score might represent some form of model fitness or goodness-of-fit measure for the PCA model."
   ]
  }
 ],
 "metadata": {
  "kernelspec": {
   "display_name": "Python 3 (ipykernel)",
   "language": "python",
   "name": "python3"
  },
  "language_info": {
   "codemirror_mode": {
    "name": "ipython",
    "version": 3
   },
   "file_extension": ".py",
   "mimetype": "text/x-python",
   "name": "python",
   "nbconvert_exporter": "python",
   "pygments_lexer": "ipython3",
   "version": "3.11.9"
  }
 },
 "nbformat": 4,
 "nbformat_minor": 4
}
