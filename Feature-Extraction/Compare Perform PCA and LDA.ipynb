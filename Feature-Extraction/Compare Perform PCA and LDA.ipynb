{
 "cells": [
  {
   "attachments": {},
   "cell_type": "markdown",
   "metadata": {
    "run_control": {
     "marked": true
    }
   },
   "source": [
    "# Compare Perform PCA and LDA"
   ]
  },
  {
   "attachments": {},
   "cell_type": "markdown",
   "metadata": {},
   "source": [
    "# Install and import relevant libraries"
   ]
  },
  {
   "cell_type": "code",
   "execution_count": 31,
   "metadata": {},
   "outputs": [],
   "source": [
    "import numpy as np\n",
    "import pandas as pd\n",
    "import matplotlib.pyplot as plt\n",
    "from sklearn.preprocessing import StandardScaler, LabelEncoder\n",
    "from sklearn.decomposition import PCA\n",
    "from sklearn.discriminant_analysis import LinearDiscriminantAnalysis\n",
    "from sklearn.model_selection import train_test_split\n",
    "import seaborn as sns"
   ]
  },
  {
   "attachments": {},
   "cell_type": "markdown",
   "metadata": {},
   "source": [
    "# Read and load the data"
   ]
  },
  {
   "cell_type": "code",
   "execution_count": 32,
   "metadata": {},
   "outputs": [
    {
     "data": {
      "text/html": [
       "<div>\n",
       "<style scoped>\n",
       "    .dataframe tbody tr th:only-of-type {\n",
       "        vertical-align: middle;\n",
       "    }\n",
       "\n",
       "    .dataframe tbody tr th {\n",
       "        vertical-align: top;\n",
       "    }\n",
       "\n",
       "    .dataframe thead th {\n",
       "        text-align: right;\n",
       "    }\n",
       "</style>\n",
       "<table border=\"1\" class=\"dataframe\">\n",
       "  <thead>\n",
       "    <tr style=\"text-align: right;\">\n",
       "      <th></th>\n",
       "      <th>Class</th>\n",
       "      <th>Feature1</th>\n",
       "      <th>Feature2</th>\n",
       "      <th>Feature3</th>\n",
       "      <th>Feature4</th>\n",
       "      <th>Feature5</th>\n",
       "      <th>Feature6</th>\n",
       "      <th>Feature7</th>\n",
       "      <th>Feature8</th>\n",
       "      <th>Feature9</th>\n",
       "      <th>Feature10</th>\n",
       "      <th>Feature11</th>\n",
       "      <th>Feature12</th>\n",
       "      <th>Feature13</th>\n",
       "      <th>Feature14</th>\n",
       "    </tr>\n",
       "  </thead>\n",
       "  <tbody>\n",
       "    <tr>\n",
       "      <th>0</th>\n",
       "      <td>0.0</td>\n",
       "      <td>35.533354</td>\n",
       "      <td>220.110174</td>\n",
       "      <td>185.322913</td>\n",
       "      <td>714.120693</td>\n",
       "      <td>3719.146472</td>\n",
       "      <td>0.199611</td>\n",
       "      <td>0.807951</td>\n",
       "      <td>31.626118</td>\n",
       "      <td>345.489585</td>\n",
       "      <td>465.024867</td>\n",
       "      <td>353.379868</td>\n",
       "      <td>679.766033</td>\n",
       "      <td>0.199611</td>\n",
       "      <td>1.172721</td>\n",
       "    </tr>\n",
       "    <tr>\n",
       "      <th>1</th>\n",
       "      <td>0.0</td>\n",
       "      <td>12.153222</td>\n",
       "      <td>290.799141</td>\n",
       "      <td>371.267847</td>\n",
       "      <td>825.465771</td>\n",
       "      <td>235.087734</td>\n",
       "      <td>0.233832</td>\n",
       "      <td>0.710784</td>\n",
       "      <td>14.583007</td>\n",
       "      <td>297.938838</td>\n",
       "      <td>238.719070</td>\n",
       "      <td>1180.971365</td>\n",
       "      <td>1441.838840</td>\n",
       "      <td>0.233832</td>\n",
       "      <td>0.871765</td>\n",
       "    </tr>\n",
       "    <tr>\n",
       "      <th>2</th>\n",
       "      <td>0.0</td>\n",
       "      <td>15.687117</td>\n",
       "      <td>245.596011</td>\n",
       "      <td>432.266516</td>\n",
       "      <td>969.556869</td>\n",
       "      <td>4529.009906</td>\n",
       "      <td>0.266850</td>\n",
       "      <td>0.607620</td>\n",
       "      <td>14.940141</td>\n",
       "      <td>375.341165</td>\n",
       "      <td>439.139407</td>\n",
       "      <td>1028.171307</td>\n",
       "      <td>2469.411191</td>\n",
       "      <td>0.266850</td>\n",
       "      <td>0.786855</td>\n",
       "    </tr>\n",
       "    <tr>\n",
       "      <th>3</th>\n",
       "      <td>0.0</td>\n",
       "      <td>4.130666</td>\n",
       "      <td>266.347021</td>\n",
       "      <td>1400.323393</td>\n",
       "      <td>1503.693799</td>\n",
       "      <td>2897.194341</td>\n",
       "      <td>0.298691</td>\n",
       "      <td>0.572977</td>\n",
       "      <td>31.846588</td>\n",
       "      <td>304.508444</td>\n",
       "      <td>594.597040</td>\n",
       "      <td>1049.210472</td>\n",
       "      <td>1477.424605</td>\n",
       "      <td>0.298691</td>\n",
       "      <td>0.852576</td>\n",
       "    </tr>\n",
       "    <tr>\n",
       "      <th>4</th>\n",
       "      <td>0.0</td>\n",
       "      <td>1.666385</td>\n",
       "      <td>72.802457</td>\n",
       "      <td>107.825008</td>\n",
       "      <td>1057.444093</td>\n",
       "      <td>2901.767221</td>\n",
       "      <td>0.329382</td>\n",
       "      <td>0.613656</td>\n",
       "      <td>5.950176</td>\n",
       "      <td>94.237243</td>\n",
       "      <td>73.547132</td>\n",
       "      <td>396.930317</td>\n",
       "      <td>669.509993</td>\n",
       "      <td>0.329382</td>\n",
       "      <td>0.856799</td>\n",
       "    </tr>\n",
       "    <tr>\n",
       "      <th>...</th>\n",
       "      <td>...</td>\n",
       "      <td>...</td>\n",
       "      <td>...</td>\n",
       "      <td>...</td>\n",
       "      <td>...</td>\n",
       "      <td>...</td>\n",
       "      <td>...</td>\n",
       "      <td>...</td>\n",
       "      <td>...</td>\n",
       "      <td>...</td>\n",
       "      <td>...</td>\n",
       "      <td>...</td>\n",
       "      <td>...</td>\n",
       "      <td>...</td>\n",
       "      <td>...</td>\n",
       "    </tr>\n",
       "    <tr>\n",
       "      <th>895</th>\n",
       "      <td>1.0</td>\n",
       "      <td>17.208731</td>\n",
       "      <td>148.194510</td>\n",
       "      <td>63.003442</td>\n",
       "      <td>111.243387</td>\n",
       "      <td>2146.133778</td>\n",
       "      <td>0.590211</td>\n",
       "      <td>0.851058</td>\n",
       "      <td>27.640763</td>\n",
       "      <td>474.063547</td>\n",
       "      <td>48.206389</td>\n",
       "      <td>166.360032</td>\n",
       "      <td>460.130158</td>\n",
       "      <td>0.590211</td>\n",
       "      <td>1.134404</td>\n",
       "    </tr>\n",
       "    <tr>\n",
       "      <th>896</th>\n",
       "      <td>1.0</td>\n",
       "      <td>4.883533</td>\n",
       "      <td>251.932500</td>\n",
       "      <td>1015.425353</td>\n",
       "      <td>943.971254</td>\n",
       "      <td>1671.002889</td>\n",
       "      <td>0.581489</td>\n",
       "      <td>0.719200</td>\n",
       "      <td>4.322579</td>\n",
       "      <td>367.159016</td>\n",
       "      <td>130.799744</td>\n",
       "      <td>323.640665</td>\n",
       "      <td>994.605693</td>\n",
       "      <td>0.581489</td>\n",
       "      <td>1.198505</td>\n",
       "    </tr>\n",
       "    <tr>\n",
       "      <th>897</th>\n",
       "      <td>1.0</td>\n",
       "      <td>5.590907</td>\n",
       "      <td>283.682276</td>\n",
       "      <td>287.911775</td>\n",
       "      <td>1446.697365</td>\n",
       "      <td>3600.282008</td>\n",
       "      <td>0.575397</td>\n",
       "      <td>0.685539</td>\n",
       "      <td>39.685190</td>\n",
       "      <td>441.066522</td>\n",
       "      <td>116.376756</td>\n",
       "      <td>381.380317</td>\n",
       "      <td>650.512390</td>\n",
       "      <td>0.575397</td>\n",
       "      <td>1.149739</td>\n",
       "    </tr>\n",
       "    <tr>\n",
       "      <th>898</th>\n",
       "      <td>1.0</td>\n",
       "      <td>9.260278</td>\n",
       "      <td>136.548293</td>\n",
       "      <td>223.010801</td>\n",
       "      <td>577.462713</td>\n",
       "      <td>876.711276</td>\n",
       "      <td>0.568635</td>\n",
       "      <td>0.811406</td>\n",
       "      <td>41.398805</td>\n",
       "      <td>260.769184</td>\n",
       "      <td>160.648854</td>\n",
       "      <td>169.516120</td>\n",
       "      <td>896.395598</td>\n",
       "      <td>0.568635</td>\n",
       "      <td>1.010551</td>\n",
       "    </tr>\n",
       "    <tr>\n",
       "      <th>899</th>\n",
       "      <td>1.0</td>\n",
       "      <td>4.323578</td>\n",
       "      <td>74.896905</td>\n",
       "      <td>103.472344</td>\n",
       "      <td>436.891864</td>\n",
       "      <td>1489.186018</td>\n",
       "      <td>0.562627</td>\n",
       "      <td>0.827057</td>\n",
       "      <td>53.406280</td>\n",
       "      <td>236.203779</td>\n",
       "      <td>88.239433</td>\n",
       "      <td>336.913303</td>\n",
       "      <td>123.586658</td>\n",
       "      <td>0.562627</td>\n",
       "      <td>1.283172</td>\n",
       "    </tr>\n",
       "  </tbody>\n",
       "</table>\n",
       "<p>900 rows × 15 columns</p>\n",
       "</div>"
      ],
      "text/plain": [
       "     Class   Feature1    Feature2     Feature3     Feature4     Feature5  \\\n",
       "0      0.0  35.533354  220.110174   185.322913   714.120693  3719.146472   \n",
       "1      0.0  12.153222  290.799141   371.267847   825.465771   235.087734   \n",
       "2      0.0  15.687117  245.596011   432.266516   969.556869  4529.009906   \n",
       "3      0.0   4.130666  266.347021  1400.323393  1503.693799  2897.194341   \n",
       "4      0.0   1.666385   72.802457   107.825008  1057.444093  2901.767221   \n",
       "..     ...        ...         ...          ...          ...          ...   \n",
       "895    1.0  17.208731  148.194510    63.003442   111.243387  2146.133778   \n",
       "896    1.0   4.883533  251.932500  1015.425353   943.971254  1671.002889   \n",
       "897    1.0   5.590907  283.682276   287.911775  1446.697365  3600.282008   \n",
       "898    1.0   9.260278  136.548293   223.010801   577.462713   876.711276   \n",
       "899    1.0   4.323578   74.896905   103.472344   436.891864  1489.186018   \n",
       "\n",
       "     Feature6  Feature7   Feature8    Feature9   Feature10    Feature11  \\\n",
       "0    0.199611  0.807951  31.626118  345.489585  465.024867   353.379868   \n",
       "1    0.233832  0.710784  14.583007  297.938838  238.719070  1180.971365   \n",
       "2    0.266850  0.607620  14.940141  375.341165  439.139407  1028.171307   \n",
       "3    0.298691  0.572977  31.846588  304.508444  594.597040  1049.210472   \n",
       "4    0.329382  0.613656   5.950176   94.237243   73.547132   396.930317   \n",
       "..        ...       ...        ...         ...         ...          ...   \n",
       "895  0.590211  0.851058  27.640763  474.063547   48.206389   166.360032   \n",
       "896  0.581489  0.719200   4.322579  367.159016  130.799744   323.640665   \n",
       "897  0.575397  0.685539  39.685190  441.066522  116.376756   381.380317   \n",
       "898  0.568635  0.811406  41.398805  260.769184  160.648854   169.516120   \n",
       "899  0.562627  0.827057  53.406280  236.203779   88.239433   336.913303   \n",
       "\n",
       "       Feature12  Feature13  Feature14  \n",
       "0     679.766033   0.199611   1.172721  \n",
       "1    1441.838840   0.233832   0.871765  \n",
       "2    2469.411191   0.266850   0.786855  \n",
       "3    1477.424605   0.298691   0.852576  \n",
       "4     669.509993   0.329382   0.856799  \n",
       "..           ...        ...        ...  \n",
       "895   460.130158   0.590211   1.134404  \n",
       "896   994.605693   0.581489   1.198505  \n",
       "897   650.512390   0.575397   1.149739  \n",
       "898   896.395598   0.568635   1.010551  \n",
       "899   123.586658   0.562627   1.283172  \n",
       "\n",
       "[900 rows x 15 columns]"
      ]
     },
     "execution_count": 32,
     "metadata": {},
     "output_type": "execute_result"
    }
   ],
   "source": [
    "# Charger le DataFrame initial\n",
    "df_1 = pd.read_csv(\"../Ressources/Datasets/stand_norm_e1.txt\", delimiter='\\s+')\n",
    "df_2 = pd.read_csv(\"../Ressources/Datasets/stand_norm_e2.txt\", delimiter='\\s+')\n",
    "\n",
    "# Charger les nouvelles valeurs depuis y2_e1.txt\n",
    "new_values = pd.read_csv(\"../Ressources/Datasets/y2_e1.txt\", header=None, names=['Class'], delimiter='\\s+')\n",
    "\n",
    "# Concaténer les DataFrames avec les colonnes 'Class' et 'New_Class'\n",
    "df = pd.concat([new_values, df_1, df_2], axis=1)\n",
    "\n",
    "df.head(900)"
   ]
  },
  {
   "cell_type": "code",
   "execution_count": 33,
   "metadata": {},
   "outputs": [],
   "source": [
    "# Function to display correlation matrix\n",
    "def correlation_matrix(df):\n",
    "    fig = plt.figure(figsize=(16, 12))\n",
    "    ax1 = fig.add_subplot(111)\n",
    "    cmap = plt.cm.get_cmap('jet', 30)\n",
    "    cax = ax1.imshow(df.corr(), interpolation=\"nearest\", cmap=cmap)\n",
    "    ax1.grid(True)\n",
    "    plt.title('Features Correlation Matrix', fontsize=15)\n",
    "    labels = df.columns\n",
    "    ax1.set_xticklabels(labels, fontsize=9)\n",
    "    ax1.set_yticklabels(labels, fontsize=9)\n",
    "    fig.colorbar(cax, ticks=[0.1*i for i in range(-11, 11)])\n",
    "    plt.show()"
   ]
  },
  {
   "cell_type": "code",
   "execution_count": 34,
   "metadata": {},
   "outputs": [
    {
     "name": "stderr",
     "output_type": "stream",
     "text": [
      "/var/folders/2h/mc0j2yvj7m981sq0zs2tp3zh0000gn/T/ipykernel_3715/2371143171.py:5: MatplotlibDeprecationWarning: The get_cmap function was deprecated in Matplotlib 3.7 and will be removed two minor releases later. Use ``matplotlib.colormaps[name]`` or ``matplotlib.colormaps.get_cmap(obj)`` instead.\n",
      "  cmap = plt.cm.get_cmap('jet', 30)\n",
      "/var/folders/2h/mc0j2yvj7m981sq0zs2tp3zh0000gn/T/ipykernel_3715/2371143171.py:10: UserWarning: FixedFormatter should only be used together with FixedLocator\n",
      "  ax1.set_xticklabels(labels, fontsize=9)\n",
      "/var/folders/2h/mc0j2yvj7m981sq0zs2tp3zh0000gn/T/ipykernel_3715/2371143171.py:11: UserWarning: FixedFormatter should only be used together with FixedLocator\n",
      "  ax1.set_yticklabels(labels, fontsize=9)\n"
     ]
    },
    {
     "data": {
      "image/png": "[encoded data removed]",
      "text/plain": [
       "<Figure size 1600x1200 with 2 Axes>"
      ]
     },
     "metadata": {},
     "output_type": "display_data"
    }
   ],
   "source": [
    "# Display correlation matrix\n",
    "correlation_matrix(df)"
   ]
  },
  {
   "cell_type": "code",
   "execution_count": 35,
   "metadata": {},
   "outputs": [],
   "source": [
    "# Separate features and target variable\n",
    "X = df.drop('Class', axis=1)\n",
    "y = df['Class']\n",
    "\n",
    "# X = df.drop('Class', axis=1) : creates a new DataFrame X containing all the columns of the DataFrame df except for the 'Class' column\n",
    "# y = df['Class']: This line creates a new Series y containing only the values from the 'Class' column of the DataFrame df."
   ]
  },
  {
   "attachments": {},
   "cell_type": "markdown",
   "metadata": {},
   "source": [
    "# Standardize features\n"
   ]
  },
  {
   "cell_type": "code",
   "execution_count": 36,
   "metadata": {},
   "outputs": [],
   "source": [
    "scaler = StandardScaler()\n",
    "X_scaled = scaler.fit_transform(X)\n",
    "\n",
    "# StandardScaler is a preprocessing technique used to standardize features by removing the mean and scaling to unit variance\n"
   ]
  },
  {
   "attachments": {},
   "cell_type": "markdown",
   "metadata": {},
   "source": [
    "# Perform PCA"
   ]
  },
  {
   "cell_type": "code",
   "execution_count": 37,
   "metadata": {},
   "outputs": [],
   "source": [
    "pca = PCA(n_components=None)\n",
    "X_pca = pca.fit_transform(X_scaled)"
   ]
  },
  {
   "attachments": {},
   "cell_type": "markdown",
   "metadata": {},
   "source": [
    "# Plot explained variance ratio"
   ]
  },
  {
   "cell_type": "code",
   "execution_count": 38,
   "metadata": {},
   "outputs": [
    {
     "data": {
      "image/png": "[encoded data removed]",
      "text/plain": [
       "<Figure size 1000x600 with 1 Axes>"
      ]
     },
     "metadata": {},
     "output_type": "display_data"
    }
   ],
   "source": [
    "plt.figure(figsize=(10, 6))\n",
    "plt.plot(np.cumsum(pca.explained_variance_ratio_), marker='o', linestyle='--')\n",
    "plt.title('Explained Variance Ratio by Principal Components')\n",
    "plt.xlabel('Number of Components')\n",
    "plt.ylabel('Cumulative Explained Variance Ratio')\n",
    "plt.grid(True)\n",
    "plt.show()"
   ]
  },
  {
   "attachments": {},
   "cell_type": "markdown",
   "metadata": {},
   "source": [
    "# Perform LDA"
   ]
  },
  {
   "cell_type": "code",
   "execution_count": 39,
   "metadata": {},
   "outputs": [],
   "source": [
    "lda = LinearDiscriminantAnalysis(n_components=2)\n",
    "X_lda = lda.fit_transform(X_scaled, y)"
   ]
  },
  {
   "attachments": {},
   "cell_type": "markdown",
   "metadata": {},
   "source": [
    "# Split data into training and testing sets"
   ]
  },
  {
   "cell_type": "code",
   "execution_count": 40,
   "metadata": {},
   "outputs": [],
   "source": [
    "X_train, X_test, y_train, y_test = train_test_split(X_scaled, y, test_size=0.2)"
   ]
  },
  {
   "attachments": {},
   "cell_type": "markdown",
   "metadata": {},
   "source": [
    "# Train and test PCA model"
   ]
  },
  {
   "cell_type": "code",
   "execution_count": 41,
   "metadata": {},
   "outputs": [],
   "source": [
    "pca = PCA(n_components=2)\n",
    "X_train_pca = pca.fit_transform(X_train)\n",
    "X_test_pca = pca.transform(X_test)"
   ]
  },
  {
   "attachments": {},
   "cell_type": "markdown",
   "metadata": {},
   "source": [
    "# Train and test LDA model"
   ]
  },
  {
   "cell_type": "code",
   "execution_count": 42,
   "metadata": {},
   "outputs": [],
   "source": [
    "lda = LinearDiscriminantAnalysis(n_components=2)\n",
    "X_train_lda = lda.fit_transform(X_train, y_train)\n",
    "X_test_lda = lda.transform(X_test)"
   ]
  },
  {
   "attachments": {},
   "cell_type": "markdown",
   "metadata": {},
   "source": [
    "# Evaluate PCA and LDA performance"
   ]
  },
  {
   "cell_type": "code",
   "execution_count": 43,
   "metadata": {},
   "outputs": [],
   "source": [
    "pca_score = pca.score(X_test, y_test)\n",
    "lda_score = lda.score(X_test, y_test)"
   ]
  },
  {
   "attachments": {},
   "cell_type": "markdown",
   "metadata": {},
   "source": [
    "# Compare performance"
   ]
  },
  {
   "cell_type": "code",
   "execution_count": 44,
   "metadata": {},
   "outputs": [
    {
     "name": "stdout",
     "output_type": "stream",
     "text": [
      "LDA outperforms PCA with a score of 78.06\n"
     ]
    }
   ],
   "source": [
    "if pca_score > lda_score:\n",
    "    print(\"PCA outperforms LDA with a score of {:.2f}\".format(pca_score*100))\n",
    "else:\n",
    "    print(\"LDA outperforms PCA with a score of {:.2f}\".format(lda_score*100))\n",
    "\n",
    "# lda_score typically refers to the accuracy of the LDA model in correctly predicting the class labels.\n",
    "# pca_score might represent some form of model fitness or goodness-of-fit measure for the PCA model."
   ]
  }
 ],
 "metadata": {
  "kernelspec": {
   "display_name": "Python 3 (ipykernel)",
   "language": "python",
   "name": "python3"
  },
  "language_info": {
   "codemirror_mode": {
    "name": "ipython",
    "version": 3
   },
   "file_extension": ".py",
   "mimetype": "text/x-python",
   "name": "python",
   "nbconvert_exporter": "python",
   "pygments_lexer": "ipython3",
   "version": "3.11.9"
  }
 },
 "nbformat": 4,
 "nbformat_minor": 4
}
