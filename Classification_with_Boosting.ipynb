{
  "cells": [
    {
      "cell_type": "markdown",
      "metadata": {
        "id": "rLaebpXyqqUr"
      },
      "source": [
        "# Classic classification algorithms"
      ]
    },
    {
      "cell_type": "markdown",
      "metadata": {
        "id": "SDqYjKwDqqUw"
      },
      "source": [
        "We are going to classify our datasets using multiple classification algorithms and evaluate their performances."
      ]
    },
    {
      "cell_type": "code",
      "execution_count": 39,
      "metadata": {
        "colab": {
          "base_uri": "https://localhost:8080/"
        },
        "id": "XTL6llluqqUy",
        "outputId": "92d106cf-b41e-4fd8-ab1f-75daf6512129"
      },
      "outputs": [
        {
          "output_type": "stream",
          "name": "stdout",
          "text": [
            "scikit-learn is not installed. Installing...\n",
            "Requirement already satisfied: scikit-learn in /usr/local/lib/python3.10/dist-packages (1.2.2)\n",
            "Requirement already satisfied: numpy>=1.17.3 in /usr/local/lib/python3.10/dist-packages (from scikit-learn) (1.25.2)\n",
            "Requirement already satisfied: scipy>=1.3.2 in /usr/local/lib/python3.10/dist-packages (from scikit-learn) (1.11.4)\n",
            "Requirement already satisfied: joblib>=1.1.1 in /usr/local/lib/python3.10/dist-packages (from scikit-learn) (1.4.2)\n",
            "Requirement already satisfied: threadpoolctl>=2.0.0 in /usr/local/lib/python3.10/dist-packages (from scikit-learn) (3.5.0)\n",
            "imblearn is already installed.\n",
            "deslib is already installed.\n"
          ]
        }
      ],
      "source": [
        "# Packages to install\n",
        "packages_to_install = ['scikit-learn', 'imblearn', 'deslib']\n",
        "\n",
        "# Check if they are already installed\n",
        "import importlib\n",
        "for package in packages_to_install:\n",
        "    try:\n",
        "        importlib.import_module(package)\n",
        "        print(f\"{package} is already installed.\")\n",
        "    except ImportError:\n",
        "        print(f\"{package} is not installed. Installing...\")\n",
        "        !pip install {package}"
      ]
    },
    {
      "cell_type": "code",
      "execution_count": 40,
      "metadata": {
        "id": "rznrNVCXqqU1"
      },
      "outputs": [],
      "source": [
        "import pandas as pd\n",
        "from sklearn.model_selection import train_test_split\n",
        "from sklearn.preprocessing import StandardScaler\n",
        "from sklearn.metrics import confusion_matrix, classification_report, accuracy_score\n",
        "from imblearn.over_sampling import SMOTE"
      ]
    },
    {
      "cell_type": "markdown",
      "metadata": {
        "id": "0XZ0f-MHqqU2"
      },
      "source": [
        "## Load Dataset"
      ]
    },
    {
      "cell_type": "code",
      "execution_count": 41,
      "metadata": {
        "colab": {
          "base_uri": "https://localhost:8080/",
          "height": 320
        },
        "id": "Iwxcot_nqqU3",
        "outputId": "27eaceda-2077-4e0d-b9f7-15c870672569"
      },
      "outputs": [
        {
          "output_type": "execute_result",
          "data": {
            "text/plain": [
              "                 0             1             2             3              4   \\\n",
              "count  12809.000000  12809.000000  12809.000000  12809.000000   12809.000000   \n",
              "mean       7.715800    105.179340    151.438104    550.188281    1858.821366   \n",
              "std       13.661444    118.380416    198.978664    596.648195    4357.460170   \n",
              "min        0.004030      0.497232      1.136887      1.550758       2.000634   \n",
              "25%        0.651308     28.135965     36.205070    160.794149     572.195981   \n",
              "50%        2.563679     73.496119     79.066449    341.937147    1092.008474   \n",
              "75%        9.841018    145.229559    183.952667    722.194942    2030.703113   \n",
              "max      513.804645   4126.791150   3471.703620   6547.571997  304245.165000   \n",
              "\n",
              "                 5             6             8             9             10  \\\n",
              "count  12809.000000  12809.000000  12809.000000  12809.000000  12809.000000   \n",
              "mean       0.639516      0.606294     13.894588    151.443231    149.896051   \n",
              "std        0.298755      0.355149     25.014059    184.578246    182.014356   \n",
              "min        0.000000      0.009388      0.008162      1.076040      0.955428   \n",
              "25%        0.407475      0.324020      0.593510     22.236411     36.182643   \n",
              "50%        0.664512      0.461491      3.255613     83.524212     84.391739   \n",
              "75%        0.859797      0.844648     17.586211    223.050740    191.915684   \n",
              "max        1.932471      1.933941    540.411313   3139.233639   2126.014583   \n",
              "\n",
              "                 11            12            13            14  \n",
              "count  12809.000000  12809.000000  12809.000000  12809.000000  \n",
              "mean     400.836349   1220.861916      0.639516      0.726532  \n",
              "std      427.817220   2481.003246      0.298755      0.402590  \n",
              "min        3.392103      7.449574      0.000000      0.006647  \n",
              "25%      125.101548    436.947264      0.407475      0.373920  \n",
              "50%      255.453341    768.756167      0.664512      0.567023  \n",
              "75%      518.186018   1335.167249      0.859797      1.063422  \n",
              "max     6557.959843  92455.135460      1.932471      1.990678  "
            ],
            "text/html": [
              "\n",
              "  <div id=\"df-28f31abf-11e4-4d2c-84aa-1af32eab7ceb\" class=\"colab-df-container\">\n",
              "    <div>\n",
              "<style scoped>\n",
              "    .dataframe tbody tr th:only-of-type {\n",
              "        vertical-align: middle;\n",
              "    }\n",
              "\n",
              "    .dataframe tbody tr th {\n",
              "        vertical-align: top;\n",
              "    }\n",
              "\n",
              "    .dataframe thead th {\n",
              "        text-align: right;\n",
              "    }\n",
              "</style>\n",
              "<table border=\"1\" class=\"dataframe\">\n",
              "  <thead>\n",
              "    <tr style=\"text-align: right;\">\n",
              "      <th></th>\n",
              "      <th>0</th>\n",
              "      <th>1</th>\n",
              "      <th>2</th>\n",
              "      <th>3</th>\n",
              "      <th>4</th>\n",
              "      <th>5</th>\n",
              "      <th>6</th>\n",
              "      <th>8</th>\n",
              "      <th>9</th>\n",
              "      <th>10</th>\n",
              "      <th>11</th>\n",
              "      <th>12</th>\n",
              "      <th>13</th>\n",
              "      <th>14</th>\n",
              "    </tr>\n",
              "  </thead>\n",
              "  <tbody>\n",
              "    <tr>\n",
              "      <th>count</th>\n",
              "      <td>12809.000000</td>\n",
              "      <td>12809.000000</td>\n",
              "      <td>12809.000000</td>\n",
              "      <td>12809.000000</td>\n",
              "      <td>12809.000000</td>\n",
              "      <td>12809.000000</td>\n",
              "      <td>12809.000000</td>\n",
              "      <td>12809.000000</td>\n",
              "      <td>12809.000000</td>\n",
              "      <td>12809.000000</td>\n",
              "      <td>12809.000000</td>\n",
              "      <td>12809.000000</td>\n",
              "      <td>12809.000000</td>\n",
              "      <td>12809.000000</td>\n",
              "    </tr>\n",
              "    <tr>\n",
              "      <th>mean</th>\n",
              "      <td>7.715800</td>\n",
              "      <td>105.179340</td>\n",
              "      <td>151.438104</td>\n",
              "      <td>550.188281</td>\n",
              "      <td>1858.821366</td>\n",
              "      <td>0.639516</td>\n",
              "      <td>0.606294</td>\n",
              "      <td>13.894588</td>\n",
              "      <td>151.443231</td>\n",
              "      <td>149.896051</td>\n",
              "      <td>400.836349</td>\n",
              "      <td>1220.861916</td>\n",
              "      <td>0.639516</td>\n",
              "      <td>0.726532</td>\n",
              "    </tr>\n",
              "    <tr>\n",
              "      <th>std</th>\n",
              "      <td>13.661444</td>\n",
              "      <td>118.380416</td>\n",
              "      <td>198.978664</td>\n",
              "      <td>596.648195</td>\n",
              "      <td>4357.460170</td>\n",
              "      <td>0.298755</td>\n",
              "      <td>0.355149</td>\n",
              "      <td>25.014059</td>\n",
              "      <td>184.578246</td>\n",
              "      <td>182.014356</td>\n",
              "      <td>427.817220</td>\n",
              "      <td>2481.003246</td>\n",
              "      <td>0.298755</td>\n",
              "      <td>0.402590</td>\n",
              "    </tr>\n",
              "    <tr>\n",
              "      <th>min</th>\n",
              "      <td>0.004030</td>\n",
              "      <td>0.497232</td>\n",
              "      <td>1.136887</td>\n",
              "      <td>1.550758</td>\n",
              "      <td>2.000634</td>\n",
              "      <td>0.000000</td>\n",
              "      <td>0.009388</td>\n",
              "      <td>0.008162</td>\n",
              "      <td>1.076040</td>\n",
              "      <td>0.955428</td>\n",
              "      <td>3.392103</td>\n",
              "      <td>7.449574</td>\n",
              "      <td>0.000000</td>\n",
              "      <td>0.006647</td>\n",
              "    </tr>\n",
              "    <tr>\n",
              "      <th>25%</th>\n",
              "      <td>0.651308</td>\n",
              "      <td>28.135965</td>\n",
              "      <td>36.205070</td>\n",
              "      <td>160.794149</td>\n",
              "      <td>572.195981</td>\n",
              "      <td>0.407475</td>\n",
              "      <td>0.324020</td>\n",
              "      <td>0.593510</td>\n",
              "      <td>22.236411</td>\n",
              "      <td>36.182643</td>\n",
              "      <td>125.101548</td>\n",
              "      <td>436.947264</td>\n",
              "      <td>0.407475</td>\n",
              "      <td>0.373920</td>\n",
              "    </tr>\n",
              "    <tr>\n",
              "      <th>50%</th>\n",
              "      <td>2.563679</td>\n",
              "      <td>73.496119</td>\n",
              "      <td>79.066449</td>\n",
              "      <td>341.937147</td>\n",
              "      <td>1092.008474</td>\n",
              "      <td>0.664512</td>\n",
              "      <td>0.461491</td>\n",
              "      <td>3.255613</td>\n",
              "      <td>83.524212</td>\n",
              "      <td>84.391739</td>\n",
              "      <td>255.453341</td>\n",
              "      <td>768.756167</td>\n",
              "      <td>0.664512</td>\n",
              "      <td>0.567023</td>\n",
              "    </tr>\n",
              "    <tr>\n",
              "      <th>75%</th>\n",
              "      <td>9.841018</td>\n",
              "      <td>145.229559</td>\n",
              "      <td>183.952667</td>\n",
              "      <td>722.194942</td>\n",
              "      <td>2030.703113</td>\n",
              "      <td>0.859797</td>\n",
              "      <td>0.844648</td>\n",
              "      <td>17.586211</td>\n",
              "      <td>223.050740</td>\n",
              "      <td>191.915684</td>\n",
              "      <td>518.186018</td>\n",
              "      <td>1335.167249</td>\n",
              "      <td>0.859797</td>\n",
              "      <td>1.063422</td>\n",
              "    </tr>\n",
              "    <tr>\n",
              "      <th>max</th>\n",
              "      <td>513.804645</td>\n",
              "      <td>4126.791150</td>\n",
              "      <td>3471.703620</td>\n",
              "      <td>6547.571997</td>\n",
              "      <td>304245.165000</td>\n",
              "      <td>1.932471</td>\n",
              "      <td>1.933941</td>\n",
              "      <td>540.411313</td>\n",
              "      <td>3139.233639</td>\n",
              "      <td>2126.014583</td>\n",
              "      <td>6557.959843</td>\n",
              "      <td>92455.135460</td>\n",
              "      <td>1.932471</td>\n",
              "      <td>1.990678</td>\n",
              "    </tr>\n",
              "  </tbody>\n",
              "</table>\n",
              "</div>\n",
              "    <div class=\"colab-df-buttons\">\n",
              "\n",
              "  <div class=\"colab-df-container\">\n",
              "    <button class=\"colab-df-convert\" onclick=\"convertToInteractive('df-28f31abf-11e4-4d2c-84aa-1af32eab7ceb')\"\n",
              "            title=\"Convert this dataframe to an interactive table.\"\n",
              "            style=\"display:none;\">\n",
              "\n",
              "  <svg xmlns=\"http://www.w3.org/2000/svg\" height=\"24px\" viewBox=\"0 -960 960 960\">\n",
              "    <path d=\"M120-120v-720h720v720H120Zm60-500h600v-160H180v160Zm220 220h160v-160H400v160Zm0 220h160v-160H400v160ZM180-400h160v-160H180v160Zm440 0h160v-160H620v160ZM180-180h160v-160H180v160Zm440 0h160v-160H620v160Z\"/>\n",
              "  </svg>\n",
              "    </button>\n",
              "\n",
              "  <style>\n",
              "    .colab-df-container {\n",
              "      display:flex;\n",
              "      gap: 12px;\n",
              "    }\n",
              "\n",
              "    .colab-df-convert {\n",
              "      background-color: #E8F0FE;\n",
              "      border: none;\n",
              "      border-radius: 50%;\n",
              "      cursor: pointer;\n",
              "      display: none;\n",
              "      fill: #1967D2;\n",
              "      height: 32px;\n",
              "      padding: 0 0 0 0;\n",
              "      width: 32px;\n",
              "    }\n",
              "\n",
              "    .colab-df-convert:hover {\n",
              "      background-color: #E2EBFA;\n",
              "      box-shadow: 0px 1px 2px rgba(60, 64, 67, 0.3), 0px 1px 3px 1px rgba(60, 64, 67, 0.15);\n",
              "      fill: #174EA6;\n",
              "    }\n",
              "\n",
              "    .colab-df-buttons div {\n",
              "      margin-bottom: 4px;\n",
              "    }\n",
              "\n",
              "    [theme=dark] .colab-df-convert {\n",
              "      background-color: #3B4455;\n",
              "      fill: #D2E3FC;\n",
              "    }\n",
              "\n",
              "    [theme=dark] .colab-df-convert:hover {\n",
              "      background-color: #434B5C;\n",
              "      box-shadow: 0px 1px 3px 1px rgba(0, 0, 0, 0.15);\n",
              "      filter: drop-shadow(0px 1px 2px rgba(0, 0, 0, 0.3));\n",
              "      fill: #FFFFFF;\n",
              "    }\n",
              "  </style>\n",
              "\n",
              "    <script>\n",
              "      const buttonEl =\n",
              "        document.querySelector('#df-28f31abf-11e4-4d2c-84aa-1af32eab7ceb button.colab-df-convert');\n",
              "      buttonEl.style.display =\n",
              "        google.colab.kernel.accessAllowed ? 'block' : 'none';\n",
              "\n",
              "      async function convertToInteractive(key) {\n",
              "        const element = document.querySelector('#df-28f31abf-11e4-4d2c-84aa-1af32eab7ceb');\n",
              "        const dataTable =\n",
              "          await google.colab.kernel.invokeFunction('convertToInteractive',\n",
              "                                                    [key], {});\n",
              "        if (!dataTable) return;\n",
              "\n",
              "        const docLinkHtml = 'Like what you see? Visit the ' +\n",
              "          '<a target=\"_blank\" href=https://colab.research.google.com/notebooks/data_table.ipynb>data table notebook</a>'\n",
              "          + ' to learn more about interactive tables.';\n",
              "        element.innerHTML = '';\n",
              "        dataTable['output_type'] = 'display_data';\n",
              "        await google.colab.output.renderOutput(dataTable, element);\n",
              "        const docLink = document.createElement('div');\n",
              "        docLink.innerHTML = docLinkHtml;\n",
              "        element.appendChild(docLink);\n",
              "      }\n",
              "    </script>\n",
              "  </div>\n",
              "\n",
              "\n",
              "<div id=\"df-5151987d-a03c-46a7-9e9b-4c9387626f66\">\n",
              "  <button class=\"colab-df-quickchart\" onclick=\"quickchart('df-5151987d-a03c-46a7-9e9b-4c9387626f66')\"\n",
              "            title=\"Suggest charts\"\n",
              "            style=\"display:none;\">\n",
              "\n",
              "<svg xmlns=\"http://www.w3.org/2000/svg\" height=\"24px\"viewBox=\"0 0 24 24\"\n",
              "     width=\"24px\">\n",
              "    <g>\n",
              "        <path d=\"M19 3H5c-1.1 0-2 .9-2 2v14c0 1.1.9 2 2 2h14c1.1 0 2-.9 2-2V5c0-1.1-.9-2-2-2zM9 17H7v-7h2v7zm4 0h-2V7h2v10zm4 0h-2v-4h2v4z\"/>\n",
              "    </g>\n",
              "</svg>\n",
              "  </button>\n",
              "\n",
              "<style>\n",
              "  .colab-df-quickchart {\n",
              "      --bg-color: #E8F0FE;\n",
              "      --fill-color: #1967D2;\n",
              "      --hover-bg-color: #E2EBFA;\n",
              "      --hover-fill-color: #174EA6;\n",
              "      --disabled-fill-color: #AAA;\n",
              "      --disabled-bg-color: #DDD;\n",
              "  }\n",
              "\n",
              "  [theme=dark] .colab-df-quickchart {\n",
              "      --bg-color: #3B4455;\n",
              "      --fill-color: #D2E3FC;\n",
              "      --hover-bg-color: #434B5C;\n",
              "      --hover-fill-color: #FFFFFF;\n",
              "      --disabled-bg-color: #3B4455;\n",
              "      --disabled-fill-color: #666;\n",
              "  }\n",
              "\n",
              "  .colab-df-quickchart {\n",
              "    background-color: var(--bg-color);\n",
              "    border: none;\n",
              "    border-radius: 50%;\n",
              "    cursor: pointer;\n",
              "    display: none;\n",
              "    fill: var(--fill-color);\n",
              "    height: 32px;\n",
              "    padding: 0;\n",
              "    width: 32px;\n",
              "  }\n",
              "\n",
              "  .colab-df-quickchart:hover {\n",
              "    background-color: var(--hover-bg-color);\n",
              "    box-shadow: 0 1px 2px rgba(60, 64, 67, 0.3), 0 1px 3px 1px rgba(60, 64, 67, 0.15);\n",
              "    fill: var(--button-hover-fill-color);\n",
              "  }\n",
              "\n",
              "  .colab-df-quickchart-complete:disabled,\n",
              "  .colab-df-quickchart-complete:disabled:hover {\n",
              "    background-color: var(--disabled-bg-color);\n",
              "    fill: var(--disabled-fill-color);\n",
              "    box-shadow: none;\n",
              "  }\n",
              "\n",
              "  .colab-df-spinner {\n",
              "    border: 2px solid var(--fill-color);\n",
              "    border-color: transparent;\n",
              "    border-bottom-color: var(--fill-color);\n",
              "    animation:\n",
              "      spin 1s steps(1) infinite;\n",
              "  }\n",
              "\n",
              "  @keyframes spin {\n",
              "    0% {\n",
              "      border-color: transparent;\n",
              "      border-bottom-color: var(--fill-color);\n",
              "      border-left-color: var(--fill-color);\n",
              "    }\n",
              "    20% {\n",
              "      border-color: transparent;\n",
              "      border-left-color: var(--fill-color);\n",
              "      border-top-color: var(--fill-color);\n",
              "    }\n",
              "    30% {\n",
              "      border-color: transparent;\n",
              "      border-left-color: var(--fill-color);\n",
              "      border-top-color: var(--fill-color);\n",
              "      border-right-color: var(--fill-color);\n",
              "    }\n",
              "    40% {\n",
              "      border-color: transparent;\n",
              "      border-right-color: var(--fill-color);\n",
              "      border-top-color: var(--fill-color);\n",
              "    }\n",
              "    60% {\n",
              "      border-color: transparent;\n",
              "      border-right-color: var(--fill-color);\n",
              "    }\n",
              "    80% {\n",
              "      border-color: transparent;\n",
              "      border-right-color: var(--fill-color);\n",
              "      border-bottom-color: var(--fill-color);\n",
              "    }\n",
              "    90% {\n",
              "      border-color: transparent;\n",
              "      border-bottom-color: var(--fill-color);\n",
              "    }\n",
              "  }\n",
              "</style>\n",
              "\n",
              "  <script>\n",
              "    async function quickchart(key) {\n",
              "      const quickchartButtonEl =\n",
              "        document.querySelector('#' + key + ' button');\n",
              "      quickchartButtonEl.disabled = true;  // To prevent multiple clicks.\n",
              "      quickchartButtonEl.classList.add('colab-df-spinner');\n",
              "      try {\n",
              "        const charts = await google.colab.kernel.invokeFunction(\n",
              "            'suggestCharts', [key], {});\n",
              "      } catch (error) {\n",
              "        console.error('Error during call to suggestCharts:', error);\n",
              "      }\n",
              "      quickchartButtonEl.classList.remove('colab-df-spinner');\n",
              "      quickchartButtonEl.classList.add('colab-df-quickchart-complete');\n",
              "    }\n",
              "    (() => {\n",
              "      let quickchartButtonEl =\n",
              "        document.querySelector('#df-5151987d-a03c-46a7-9e9b-4c9387626f66 button');\n",
              "      quickchartButtonEl.style.display =\n",
              "        google.colab.kernel.accessAllowed ? 'block' : 'none';\n",
              "    })();\n",
              "  </script>\n",
              "</div>\n",
              "    </div>\n",
              "  </div>\n"
            ],
            "application/vnd.google.colaboratory.intrinsic+json": {
              "type": "dataframe",
              "summary": "{\n  \"name\": \"x\",\n  \"rows\": 8,\n  \"fields\": [\n    {\n      \"column\": 0,\n      \"properties\": {\n        \"dtype\": \"number\",\n        \"std\": 4504.487242873024,\n        \"min\": 0.00403,\n        \"max\": 12809.0,\n        \"num_unique_values\": 8,\n        \"samples\": [\n          7.7158000047622775,\n          2.563679,\n          12809.0\n        ],\n        \"semantic_type\": \"\",\n        \"description\": \"\"\n      }\n    },\n    {\n      \"column\": 1,\n      \"properties\": {\n        \"dtype\": \"number\",\n        \"std\": 4524.205610187342,\n        \"min\": 0.497232,\n        \"max\": 12809.0,\n        \"num_unique_values\": 8,\n        \"samples\": [\n          105.17933999234913,\n          73.496119,\n          12809.0\n        ],\n        \"semantic_type\": \"\",\n        \"description\": \"\"\n      }\n    },\n    {\n      \"column\": 2,\n      \"properties\": {\n        \"dtype\": \"number\",\n        \"std\": 4478.404565438102,\n        \"min\": 1.136887,\n        \"max\": 12809.0,\n        \"num_unique_values\": 8,\n        \"samples\": [\n          151.4381037121555,\n          79.066449,\n          12809.0\n        ],\n        \"semantic_type\": \"\",\n        \"description\": \"\"\n      }\n    },\n    {\n      \"column\": 3,\n      \"properties\": {\n        \"dtype\": \"number\",\n        \"std\": 4617.369839879935,\n        \"min\": 1.550758,\n        \"max\": 12809.0,\n        \"num_unique_values\": 8,\n        \"samples\": [\n          550.1882806510266,\n          341.937147,\n          12809.0\n        ],\n        \"semantic_type\": \"\",\n        \"description\": \"\"\n      }\n    },\n    {\n      \"column\": 4,\n      \"properties\": {\n        \"dtype\": \"number\",\n        \"std\": 106498.70612877034,\n        \"min\": 2.000634,\n        \"max\": 304245.165,\n        \"num_unique_values\": 8,\n        \"samples\": [\n          1858.8213664039345,\n          1092.008474,\n          12809.0\n        ],\n        \"semantic_type\": \"\",\n        \"description\": \"\"\n      }\n    },\n    {\n      \"column\": 5,\n      \"properties\": {\n        \"dtype\": \"number\",\n        \"std\": 4528.422851954951,\n        \"min\": 0.0,\n        \"max\": 12809.0,\n        \"num_unique_values\": 8,\n        \"samples\": [\n          0.6395161178077914,\n          0.664512,\n          12809.0\n        ],\n        \"semantic_type\": \"\",\n        \"description\": \"\"\n      }\n    },\n    {\n      \"column\": 6,\n      \"properties\": {\n        \"dtype\": \"number\",\n        \"std\": 4528.436368244238,\n        \"min\": 0.009388,\n        \"max\": 12809.0,\n        \"num_unique_values\": 8,\n        \"samples\": [\n          0.606293731438832,\n          0.461491,\n          12809.0\n        ],\n        \"semantic_type\": \"\",\n        \"description\": \"\"\n      }\n    },\n    {\n      \"column\": 8,\n      \"properties\": {\n        \"dtype\": \"number\",\n        \"std\": 4502.1573381478,\n        \"min\": 0.008162,\n        \"max\": 12809.0,\n        \"num_unique_values\": 8,\n        \"samples\": [\n          13.894587935436023,\n          3.255613,\n          12809.0\n        ],\n        \"semantic_type\": \"\",\n        \"description\": \"\"\n      }\n    },\n    {\n      \"column\": 9,\n      \"properties\": {\n        \"dtype\": \"number\",\n        \"std\": 4464.715318230216,\n        \"min\": 1.07604,\n        \"max\": 12809.0,\n        \"num_unique_values\": 8,\n        \"samples\": [\n          151.44323063595908,\n          83.524212,\n          12809.0\n        ],\n        \"semantic_type\": \"\",\n        \"description\": \"\"\n      }\n    },\n    {\n      \"column\": 10,\n      \"properties\": {\n        \"dtype\": \"number\",\n        \"std\": 4445.668641658352,\n        \"min\": 0.955428,\n        \"max\": 12809.0,\n        \"num_unique_values\": 8,\n        \"samples\": [\n          149.89605091701148,\n          84.391739,\n          12809.0\n        ],\n        \"semantic_type\": \"\",\n        \"description\": \"\"\n      }\n    },\n    {\n      \"column\": 11,\n      \"properties\": {\n        \"dtype\": \"number\",\n        \"std\": 4661.867922775872,\n        \"min\": 3.392103,\n        \"max\": 12809.0,\n        \"num_unique_values\": 8,\n        \"samples\": [\n          400.8363486109766,\n          255.453341,\n          12809.0\n        ],\n        \"semantic_type\": \"\",\n        \"description\": \"\"\n      }\n    },\n    {\n      \"column\": 12,\n      \"properties\": {\n        \"dtype\": \"number\",\n        \"std\": 31999.559373840024,\n        \"min\": 7.449574,\n        \"max\": 92455.13546,\n        \"num_unique_values\": 8,\n        \"samples\": [\n          1220.8619156609416,\n          768.756167,\n          12809.0\n        ],\n        \"semantic_type\": \"\",\n        \"description\": \"\"\n      }\n    },\n    {\n      \"column\": 13,\n      \"properties\": {\n        \"dtype\": \"number\",\n        \"std\": 4528.422851954951,\n        \"min\": 0.0,\n        \"max\": 12809.0,\n        \"num_unique_values\": 8,\n        \"samples\": [\n          0.6395161178077914,\n          0.664512,\n          12809.0\n        ],\n        \"semantic_type\": \"\",\n        \"description\": \"\"\n      }\n    },\n    {\n      \"column\": 14,\n      \"properties\": {\n        \"dtype\": \"number\",\n        \"std\": 4528.4062741515645,\n        \"min\": 0.006647,\n        \"max\": 12809.0,\n        \"num_unique_values\": 8,\n        \"samples\": [\n          0.7265319369974236,\n          0.567023,\n          12809.0\n        ],\n        \"semantic_type\": \"\",\n        \"description\": \"\"\n      }\n    }\n  ]\n}"
            }
          },
          "metadata": {},
          "execution_count": 41
        }
      ],
      "source": [
        "x1 = pd.read_csv(\"../Ressources/Datasets/stand_norm_e1.txt\", header=None, delimiter=\" \")\n",
        "x2 = pd.read_csv(\"../Ressources/Datasets/stand_norm_e2.txt\", header=None, delimiter=\" \", names=[8, 9, 10, 11, 12, 13, 14])\n",
        "y = pd.read_csv(\"../Ressources/Datasets/y2_e1.txt\", header=None, delimiter=\" \", names=[\"label\"])\n",
        "x = pd.concat([x1, x2], axis=1)\n",
        "x = x[1:]\n",
        "y = y[1:]\n",
        "\n",
        "x.describe()"
      ]
    },
    {
      "cell_type": "code",
      "execution_count": 42,
      "metadata": {
        "id": "UC9ApHTZqqU5"
      },
      "outputs": [],
      "source": [
        "# Splitting the dataset into training and test set.\n",
        "x_train, x_test, y_train, y_test = train_test_split(x.values, y.values, test_size = 0.25, random_state=0)\n",
        "\n",
        "# Feature Scaling\n",
        "# Adjust the mean to 0 and the standard deviation to 1\n",
        "st_x = StandardScaler()\n",
        "x_train = st_x.fit_transform(x_train)\n",
        "x_test = st_x.transform(x_test)\n"
      ]
    },
    {
      "cell_type": "code",
      "execution_count": 43,
      "metadata": {
        "id": "HeNvu29LqqU6"
      },
      "outputs": [],
      "source": [
        "# Oversample to have same number of samples of each class\n",
        "smote = SMOTE()\n",
        "x_train_sampled, y_train_sampled = smote.fit_resample(x_train, y_train)"
      ]
    },
    {
      "cell_type": "markdown",
      "metadata": {
        "id": "GKfDJ2m4qqU8"
      },
      "source": [
        "## Feature extraction : CNN\n",
        "We are going to extract features from the datasets using the CNN method, knowing that it has the best performances"
      ]
    },
    {
      "cell_type": "code",
      "execution_count": 44,
      "metadata": {
        "id": "lavZ6T-GqqU-"
      },
      "outputs": [],
      "source": [
        "import numpy as np\n",
        "import pandas as pd\n",
        "import tensorflow as tf\n",
        "from sklearn.model_selection import train_test_split\n",
        "from sklearn.preprocessing import StandardScaler, LabelEncoder\n",
        "from sklearn.metrics import confusion_matrix, classification_report, accuracy_score\n",
        "from sklearn.ensemble import RandomForestClassifier\n",
        "from imblearn.over_sampling import SMOTE\n",
        "from tensorflow.keras.models import Sequential\n",
        "from tensorflow.keras.layers import Dense, Conv1D, Flatten, MaxPooling1D, Dropout\n",
        "from tensorflow.keras.utils import to_categorical\n",
        "\n",
        "# Vérification et reformattage de y_train_sampled pour la classification multiclasse\n",
        "label_encoder = LabelEncoder()\n",
        "y_train_encoded = label_encoder.fit_transform(y_train_sampled.ravel())\n",
        "y_train_categorical = to_categorical(y_train_encoded)\n",
        "\n",
        "# Mise à jour de la dernière couche Dense pour qu'elle corresponde au nombre de classes\n",
        "#num_classes = y_train_categorical.shape[0]\n",
        "num_classes = y_train_categorical.shape[1]"
      ]
    },
    {
      "cell_type": "code",
      "source": [
        "# Reshape x_train_sampled et x_test_scaled pour l'entrée du CNN\n",
        "x_train_sampled_cnn = np.expand_dims(x_train_sampled, axis=2)\n",
        "x_test_scaled_cnn = np.expand_dims(x_test, axis=2)"
      ],
      "metadata": {
        "id": "L4HkfswVa_za"
      },
      "execution_count": 45,
      "outputs": []
    },
    {
      "cell_type": "code",
      "execution_count": 46,
      "metadata": {
        "id": "6wRsdm-41B37"
      },
      "outputs": [],
      "source": [
        "# Modèle CNN avec trois couches convolutionnelles\n",
        "cnn_model = Sequential([\n",
        "    # Augmente la taille de l'input si nécessaire ou ajuste les paramètres\n",
        "    Conv1D(128, 3, activation='relu', padding='same', input_shape=(x_train_sampled.shape[1], 1)),\n",
        "    MaxPooling1D(2),\n",
        "    # Ajout d'une seconde couche convolutive avec padding pour conserver la dimension\n",
        "    Conv1D(128, 3, activation='relu', padding='same'),\n",
        "    MaxPooling1D(2),\n",
        "    Conv1D(128, 3, activation='relu', padding='same'),\n",
        "    MaxPooling1D(2),\n",
        "    Flatten(name='flatten_layer'),\n",
        "    Dense(100, activation='relu'),\n",
        "    Dropout(0.5),\n",
        "    Dense(num_classes, activation='softmax')\n",
        "])\n",
        "\n",
        "# Compilation du modèle avec la métrique correcte\n",
        "cnn_model.compile(optimizer='adam', loss='categorical_crossentropy', metrics=['accuracy'])"
      ]
    },
    {
      "cell_type": "code",
      "execution_count": 47,
      "metadata": {
        "colab": {
          "base_uri": "https://localhost:8080/"
        },
        "id": "dHTTvXu41FCQ",
        "outputId": "2d818196-5f63-434a-f730-8372e2968135"
      },
      "outputs": [
        {
          "output_type": "stream",
          "name": "stdout",
          "text": [
            "Epoch 1/20\n",
            "1128/1128 [==============================] - 14s 11ms/step - loss: 0.5080 - accuracy: 0.7636\n",
            "Epoch 2/20\n",
            "1128/1128 [==============================] - 14s 12ms/step - loss: 0.3788 - accuracy: 0.8218\n",
            "Epoch 3/20\n",
            "1128/1128 [==============================] - 14s 12ms/step - loss: 0.3531 - accuracy: 0.8347\n",
            "Epoch 4/20\n",
            "1128/1128 [==============================] - 10s 9ms/step - loss: 0.3274 - accuracy: 0.8491\n",
            "Epoch 5/20\n",
            "1128/1128 [==============================] - 7s 6ms/step - loss: 0.3175 - accuracy: 0.8571\n",
            "Epoch 6/20\n",
            "1128/1128 [==============================] - 9s 8ms/step - loss: 0.3008 - accuracy: 0.8675\n",
            "Epoch 7/20\n",
            "1128/1128 [==============================] - 7s 6ms/step - loss: 0.2844 - accuracy: 0.8750\n",
            "Epoch 8/20\n",
            "1128/1128 [==============================] - 9s 8ms/step - loss: 0.2715 - accuracy: 0.8830\n",
            "Epoch 9/20\n",
            "1128/1128 [==============================] - 8s 7ms/step - loss: 0.2575 - accuracy: 0.8869\n",
            "Epoch 10/20\n",
            "1128/1128 [==============================] - 8s 7ms/step - loss: 0.2491 - accuracy: 0.8922\n",
            "Epoch 11/20\n",
            "1128/1128 [==============================] - 8s 7ms/step - loss: 0.2353 - accuracy: 0.8987\n",
            "Epoch 12/20\n",
            "1128/1128 [==============================] - 7s 7ms/step - loss: 0.2250 - accuracy: 0.9054\n",
            "Epoch 13/20\n",
            "1128/1128 [==============================] - 9s 8ms/step - loss: 0.2184 - accuracy: 0.9085\n",
            "Epoch 14/20\n",
            "1128/1128 [==============================] - 9s 8ms/step - loss: 0.2059 - accuracy: 0.9131\n",
            "Epoch 15/20\n",
            "1128/1128 [==============================] - 9s 8ms/step - loss: 0.1974 - accuracy: 0.9162\n",
            "Epoch 16/20\n",
            "1128/1128 [==============================] - 8s 7ms/step - loss: 0.1909 - accuracy: 0.9204\n",
            "Epoch 17/20\n",
            "1128/1128 [==============================] - 7s 7ms/step - loss: 0.1772 - accuracy: 0.9237\n",
            "Epoch 18/20\n",
            "1128/1128 [==============================] - 8s 7ms/step - loss: 0.1733 - accuracy: 0.9241\n",
            "Epoch 19/20\n",
            "1128/1128 [==============================] - 7s 6ms/step - loss: 0.1655 - accuracy: 0.9300\n",
            "Epoch 20/20\n",
            "1128/1128 [==============================] - 9s 8ms/step - loss: 0.1596 - accuracy: 0.9323\n"
          ]
        },
        {
          "output_type": "execute_result",
          "data": {
            "text/plain": [
              "<keras.src.callbacks.History at 0x7a888ee45f90>"
            ]
          },
          "metadata": {},
          "execution_count": 47
        }
      ],
      "source": [
        "# Entraînement du modèle\n",
        "cnn_model.fit(x_train_sampled_cnn, y_train_categorical, epochs=20, batch_size=20, verbose=1)"
      ]
    },
    {
      "cell_type": "code",
      "source": [
        "# Entraînement du modele avec 30 assages complets de l'ensemble de données d'entraînement &\n",
        "# 32 batch_size (..) données d'entraînement seront divisées en lots de 32 échantillons.\n",
        "# Pr chaque lot, les poids du modèle seront MAJ\n",
        "cnn_model.fit(x_train_sampled_cnn, y_train_categorical, epochs=30, batch_size=32, verbose=1)"
      ],
      "metadata": {
        "colab": {
          "base_uri": "https://localhost:8080/"
        },
        "id": "Iw1OEllvuvnQ",
        "outputId": "d44f4785-e4a8-4ce9-cb62-a41e4faf5f5c"
      },
      "execution_count": 48,
      "outputs": [
        {
          "output_type": "stream",
          "name": "stdout",
          "text": [
            "Epoch 1/30\n",
            "705/705 [==============================] - 7s 10ms/step - loss: 0.1295 - accuracy: 0.9440\n",
            "Epoch 2/30\n",
            "705/705 [==============================] - 10s 14ms/step - loss: 0.1257 - accuracy: 0.9469\n",
            "Epoch 3/30\n",
            "705/705 [==============================] - 10s 14ms/step - loss: 0.1301 - accuracy: 0.9453\n",
            "Epoch 4/30\n",
            "705/705 [==============================] - 10s 14ms/step - loss: 0.1186 - accuracy: 0.9476\n",
            "Epoch 5/30\n",
            "705/705 [==============================] - 10s 14ms/step - loss: 0.1186 - accuracy: 0.9497\n",
            "Epoch 6/30\n",
            "705/705 [==============================] - 5s 7ms/step - loss: 0.1166 - accuracy: 0.9518\n",
            "Epoch 7/30\n",
            "705/705 [==============================] - 6s 9ms/step - loss: 0.1116 - accuracy: 0.9534\n",
            "Epoch 8/30\n",
            "705/705 [==============================] - 5s 8ms/step - loss: 0.1050 - accuracy: 0.9551\n",
            "Epoch 9/30\n",
            "705/705 [==============================] - 5s 7ms/step - loss: 0.1020 - accuracy: 0.9573\n",
            "Epoch 10/30\n",
            "705/705 [==============================] - 6s 9ms/step - loss: 0.1051 - accuracy: 0.9573\n",
            "Epoch 11/30\n",
            "705/705 [==============================] - 5s 7ms/step - loss: 0.1042 - accuracy: 0.9573\n",
            "Epoch 12/30\n",
            "705/705 [==============================] - 6s 9ms/step - loss: 0.0956 - accuracy: 0.9594\n",
            "Epoch 13/30\n",
            "705/705 [==============================] - 5s 7ms/step - loss: 0.0950 - accuracy: 0.9607\n",
            "Epoch 14/30\n",
            "705/705 [==============================] - 5s 7ms/step - loss: 0.0879 - accuracy: 0.9630\n",
            "Epoch 15/30\n",
            "705/705 [==============================] - 7s 9ms/step - loss: 0.0901 - accuracy: 0.9620\n",
            "Epoch 16/30\n",
            "705/705 [==============================] - 5s 7ms/step - loss: 0.0906 - accuracy: 0.9632\n",
            "Epoch 17/30\n",
            "705/705 [==============================] - 7s 9ms/step - loss: 0.0833 - accuracy: 0.9647\n",
            "Epoch 18/30\n",
            "705/705 [==============================] - 7s 11ms/step - loss: 0.0859 - accuracy: 0.9645\n",
            "Epoch 19/30\n",
            "705/705 [==============================] - 6s 8ms/step - loss: 0.0868 - accuracy: 0.9651\n",
            "Epoch 20/30\n",
            "705/705 [==============================] - 6s 8ms/step - loss: 0.0786 - accuracy: 0.9679\n",
            "Epoch 21/30\n",
            "705/705 [==============================] - 5s 7ms/step - loss: 0.0799 - accuracy: 0.9697\n",
            "Epoch 22/30\n",
            "705/705 [==============================] - 7s 9ms/step - loss: 0.0780 - accuracy: 0.9670\n",
            "Epoch 23/30\n",
            "705/705 [==============================] - 5s 7ms/step - loss: 0.0735 - accuracy: 0.9698\n",
            "Epoch 24/30\n",
            "705/705 [==============================] - 6s 8ms/step - loss: 0.0730 - accuracy: 0.9704\n",
            "Epoch 25/30\n",
            "705/705 [==============================] - 6s 9ms/step - loss: 0.0780 - accuracy: 0.9687\n",
            "Epoch 26/30\n",
            "705/705 [==============================] - 5s 7ms/step - loss: 0.0699 - accuracy: 0.9705\n",
            "Epoch 27/30\n",
            "705/705 [==============================] - 7s 9ms/step - loss: 0.0730 - accuracy: 0.9708\n",
            "Epoch 28/30\n",
            "705/705 [==============================] - 5s 7ms/step - loss: 0.0692 - accuracy: 0.9720\n",
            "Epoch 29/30\n",
            "705/705 [==============================] - 5s 7ms/step - loss: 0.0680 - accuracy: 0.9725\n",
            "Epoch 30/30\n",
            "705/705 [==============================] - 6s 9ms/step - loss: 0.0670 - accuracy: 0.9725\n"
          ]
        },
        {
          "output_type": "execute_result",
          "data": {
            "text/plain": [
              "<keras.src.callbacks.History at 0x7a88f82b2920>"
            ]
          },
          "metadata": {},
          "execution_count": 48
        }
      ]
    },
    {
      "cell_type": "markdown",
      "source": [
        "# Traitemet CNN 21.05.2024 proposé"
      ],
      "metadata": {
        "id": "B4ODf7T8ePFT"
      }
    },
    {
      "cell_type": "code",
      "source": [
        "from tensorflow.keras.models import Model\n",
        "# New modèle pour extraire les caractéristiques de la couche Flatten\n",
        "feature_extractor = Model(inputs=cnn_model.input, outputs=cnn_model.get_layer('flatten_layer').output)\n",
        "\n",
        "# extrait les caractéristiques pour les ensembles d'entraînement et de test\n",
        "x_train_sampled_feat_extracted = feature_extractor.predict(x_train_sampled_cnn)\n",
        "x_test_feat_extracted = feature_extractor.predict(x_test_scaled_cnn)\n"
      ],
      "metadata": {
        "colab": {
          "base_uri": "https://localhost:8080/"
        },
        "id": "wVw6Zw_geFYk",
        "outputId": "17677dfb-9a08-4bed-b23b-c33fc311787e"
      },
      "execution_count": 49,
      "outputs": [
        {
          "output_type": "stream",
          "name": "stdout",
          "text": [
            "705/705 [==============================] - 2s 2ms/step\n",
            "101/101 [==============================] - 0s 2ms/step\n"
          ]
        }
      ]
    },
    {
      "cell_type": "code",
      "source": [
        "# La méthode score (print_score) n'existe pas pour les objets de type Sequential dans TensorFlow/Keras.\n",
        "# Dans Keras, l'évaluation des modèles se fait généralement avec les méthodes\n",
        "# evaluate ou predict pour obtenir des métriques\n",
        "\n",
        "\n",
        "# Évaluation du modèle\n",
        "loss, accuracy = cnn_model.evaluate(x_train_sampled, y_train_categorical, verbose=1)\n",
        "\n",
        "# Affichage de la précision du modèle\n",
        "print(\"Accuracy:\", accuracy)"
      ],
      "metadata": {
        "colab": {
          "base_uri": "https://localhost:8080/"
        },
        "id": "hzy0AFt0Zx9H",
        "outputId": "8b713c4c-a66d-4259-9963-a69fa85a7e6d"
      },
      "execution_count": 77,
      "outputs": [
        {
          "output_type": "stream",
          "name": "stdout",
          "text": [
            "705/705 [==============================] - 5s 6ms/step - loss: 0.0541 - accuracy: 0.9787\n",
            "Accuracy: 0.9786733984947205\n"
          ]
        }
      ]
    },
    {
      "cell_type": "markdown",
      "metadata": {
        "id": "Xb28cMdtqqVB"
      },
      "source": [
        "## Features Extraction : LDA"
      ]
    },
    {
      "cell_type": "code",
      "execution_count": 50,
      "metadata": {
        "id": "FlOmLuugqqVC"
      },
      "outputs": [],
      "source": [
        "from sklearn.discriminant_analysis import LinearDiscriminantAnalysis"
      ]
    },
    {
      "cell_type": "code",
      "execution_count": 51,
      "metadata": {
        "id": "l7fOusuaqqVC"
      },
      "outputs": [],
      "source": [
        "lda = LinearDiscriminantAnalysis(n_components=None)\n",
        "x_train_sampled_feat_extracted = lda.fit_transform(x_train_sampled, y_train_sampled)\n",
        "x_test_feat_extracted = lda.transform(x_test)"
      ]
    },
    {
      "cell_type": "markdown",
      "source": [
        "## Functions print_score, print_accuracy and get_confusion_matrix_and_results"
      ],
      "metadata": {
        "id": "OraOy2mliVCq"
      }
    },
    {
      "cell_type": "code",
      "execution_count": 52,
      "metadata": {
        "id": "JX4tEVfeqqVD"
      },
      "outputs": [],
      "source": [
        "def print_score(model):\n",
        "    score = model.score(x_train_sampled_feat_extracted, y_train_sampled.ravel())\n",
        "    print(\"Score : \" + str(score))\n",
        "\n",
        "\n",
        "def print_accuracy(y):\n",
        "    print(\"Accuracy:\", accuracy_score(y_test, y))\n",
        "\n",
        "\n",
        "def get_confusion_matrix_and_results(y):\n",
        "    # Create confusion matrix\n",
        "    cm = confusion_matrix(y_test, y)\n",
        "    cr = classification_report(y_test, y)\n",
        "\n",
        "    print(cr)\n",
        "    print(cm)"
      ]
    },
    {
      "cell_type": "markdown",
      "metadata": {
        "id": "nk-3GEaxqqVE"
      },
      "source": [
        "## Random Forest Algorithm"
      ]
    },
    {
      "cell_type": "code",
      "execution_count": 53,
      "metadata": {
        "id": "If0e6jB9qqVF"
      },
      "outputs": [],
      "source": [
        "from sklearn.ensemble import RandomForestClassifier"
      ]
    },
    {
      "cell_type": "code",
      "execution_count": 54,
      "metadata": {
        "colab": {
          "base_uri": "https://localhost:8080/"
        },
        "id": "KWahjOyyqqVF",
        "outputId": "ff03c7f9-381c-47d2-c6f2-72c3e53f3f98"
      },
      "outputs": [
        {
          "output_type": "stream",
          "name": "stdout",
          "text": [
            "Score : 0.993526647157932\n"
          ]
        }
      ],
      "source": [
        "random_forest = RandomForestClassifier(n_estimators= 20, criterion=\"entropy\", class_weight=\"balanced\")\n",
        "# random_forest.fit(x_train_sampled, y_train_sampled.ravel())\n",
        "random_forest.fit(x_train_sampled_feat_extracted, y_train_sampled.ravel())\n",
        "\n",
        "print_score(random_forest)"
      ]
    },
    {
      "cell_type": "code",
      "execution_count": 55,
      "metadata": {
        "colab": {
          "base_uri": "https://localhost:8080/"
        },
        "id": "TBWiSHWBqqVG",
        "outputId": "78958406-8f8f-424b-c628-d1bbd3a9d594"
      },
      "outputs": [
        {
          "output_type": "stream",
          "name": "stdout",
          "text": [
            "              precision    recall  f1-score   support\n",
            "\n",
            "         0.0       0.85      0.62      0.72      2500\n",
            "         1.0       0.31      0.49      0.38       692\n",
            "         2.0       0.00      0.09      0.01        11\n",
            "\n",
            "    accuracy                           0.59      3203\n",
            "   macro avg       0.39      0.40      0.37      3203\n",
            "weighted avg       0.73      0.59      0.64      3203\n",
            "\n",
            "[[1539  752  209]\n",
            " [ 260  342   90]\n",
            " [   5    5    1]]\n"
          ]
        }
      ],
      "source": [
        "# Predicting the test set result\n",
        "y_pred = random_forest.predict(x_test_feat_extracted)\n",
        "\n",
        "get_confusion_matrix_and_results(y_pred)"
      ]
    },
    {
      "cell_type": "markdown",
      "metadata": {
        "id": "wmHtxQtsqqVH"
      },
      "source": [
        "## Logistic Regression Algorithm"
      ]
    },
    {
      "cell_type": "code",
      "execution_count": 56,
      "metadata": {
        "id": "i5JggEIxqqVI"
      },
      "outputs": [],
      "source": [
        "from sklearn.linear_model import LogisticRegression"
      ]
    },
    {
      "cell_type": "code",
      "execution_count": 57,
      "metadata": {
        "colab": {
          "base_uri": "https://localhost:8080/"
        },
        "id": "5WM30c12qqVJ",
        "outputId": "7c316fe0-fcdf-4898-eb02-6f587ffe2fa2"
      },
      "outputs": [
        {
          "output_type": "stream",
          "name": "stdout",
          "text": [
            "Score : 0.563935443823712\n"
          ]
        }
      ],
      "source": [
        "logistic_regression = LogisticRegression(class_weight=\"balanced\")\n",
        "\n",
        "logistic_regression.fit(x_train_sampled_feat_extracted, y_train_sampled.ravel())\n",
        "\n",
        "print_score(logistic_regression)"
      ]
    },
    {
      "cell_type": "code",
      "execution_count": 58,
      "metadata": {
        "colab": {
          "base_uri": "https://localhost:8080/"
        },
        "id": "r4JAhelyqqVK",
        "outputId": "62ae710e-f4d5-4013-cf85-fe6fff799176"
      },
      "outputs": [
        {
          "output_type": "stream",
          "name": "stdout",
          "text": [
            "              precision    recall  f1-score   support\n",
            "\n",
            "         0.0       0.88      0.63      0.74      2500\n",
            "         1.0       0.38      0.46      0.42       692\n",
            "         2.0       0.01      0.45      0.02        11\n",
            "\n",
            "    accuracy                           0.59      3203\n",
            "   macro avg       0.43      0.51      0.39      3203\n",
            "weighted avg       0.77      0.59      0.67      3203\n",
            "\n",
            "[[1580  502  418]\n",
            " [ 205  315  172]\n",
            " [   4    2    5]]\n"
          ]
        }
      ],
      "source": [
        "# Prediction on the test set\n",
        "y_pred = logistic_regression.predict(x_test_feat_extracted)\n",
        "\n",
        "get_confusion_matrix_and_results(y_pred)"
      ]
    },
    {
      "cell_type": "markdown",
      "metadata": {
        "id": "q2tnEavJqqVL"
      },
      "source": [
        "## K-Nearest Neighbours (KNN)"
      ]
    },
    {
      "cell_type": "code",
      "execution_count": 59,
      "metadata": {
        "id": "ykSCBnmDqqVM"
      },
      "outputs": [],
      "source": [
        "from sklearn.neighbors import KNeighborsClassifier"
      ]
    },
    {
      "cell_type": "code",
      "execution_count": 60,
      "metadata": {
        "colab": {
          "base_uri": "https://localhost:8080/"
        },
        "id": "CXQ__lT-qqVM",
        "outputId": "eddd8f00-dd1c-4a2e-f69f-054b4af487b0"
      },
      "outputs": [
        {
          "output_type": "stream",
          "name": "stdout",
          "text": [
            "Score : 0.7141970382193846\n"
          ]
        }
      ],
      "source": [
        "knn = KNeighborsClassifier(n_neighbors=20, weights=\"uniform\")\n",
        "\n",
        "knn.fit(x_train_sampled_feat_extracted, y_train_sampled.ravel())\n",
        "\n",
        "\n",
        "print_score(knn)"
      ]
    },
    {
      "cell_type": "code",
      "execution_count": 61,
      "metadata": {
        "colab": {
          "base_uri": "https://localhost:8080/"
        },
        "id": "ghYnVWGEqqVN",
        "outputId": "7cd475e7-1f6f-49d5-94da-7e2e64fcc139"
      },
      "outputs": [
        {
          "output_type": "stream",
          "name": "stdout",
          "text": [
            "              precision    recall  f1-score   support\n",
            "\n",
            "         0.0       0.88      0.63      0.73      2500\n",
            "         1.0       0.36      0.52      0.42       692\n",
            "         2.0       0.01      0.36      0.02        11\n",
            "\n",
            "    accuracy                           0.60      3203\n",
            "   macro avg       0.42      0.50      0.39      3203\n",
            "weighted avg       0.76      0.60      0.66      3203\n",
            "\n",
            "[[1563  644  293]\n",
            " [ 212  360  120]\n",
            " [   3    4    4]]\n"
          ]
        }
      ],
      "source": [
        "# Prediction on the test set\n",
        "y_pred = knn.predict(x_test_feat_extracted)\n",
        "\n",
        "\n",
        "get_confusion_matrix_and_results(y_pred)"
      ]
    },
    {
      "cell_type": "markdown",
      "metadata": {
        "id": "zAPMSL5MqqVO"
      },
      "source": [
        "## Decision Tree"
      ]
    },
    {
      "cell_type": "code",
      "execution_count": 62,
      "metadata": {
        "id": "QxXi9JZrqqVO"
      },
      "outputs": [],
      "source": [
        "from sklearn.tree import DecisionTreeClassifier"
      ]
    },
    {
      "cell_type": "code",
      "execution_count": 63,
      "metadata": {
        "colab": {
          "base_uri": "https://localhost:8080/"
        },
        "id": "ZFStnhhlqqVP",
        "outputId": "6c9739f8-b97a-42de-eaae-f01ade7fddf9"
      },
      "outputs": [
        {
          "output_type": "stream",
          "name": "stdout",
          "text": [
            "Score : 1.0\n"
          ]
        }
      ],
      "source": [
        "decision_tree = DecisionTreeClassifier(class_weight=\"balanced\")\n",
        "\n",
        "decision_tree.fit(x_train_sampled_feat_extracted, y_train_sampled)\n",
        "\n",
        "print_score(decision_tree)"
      ]
    },
    {
      "cell_type": "code",
      "execution_count": 64,
      "metadata": {
        "colab": {
          "base_uri": "https://localhost:8080/"
        },
        "id": "JkrzA6ftqqVQ",
        "outputId": "c8499f48-0f11-444f-bb5c-0f4d8b67ce23"
      },
      "outputs": [
        {
          "output_type": "stream",
          "name": "stdout",
          "text": [
            "              precision    recall  f1-score   support\n",
            "\n",
            "         0.0       0.83      0.56      0.67      2500\n",
            "         1.0       0.27      0.49      0.35       692\n",
            "         2.0       0.00      0.09      0.01        11\n",
            "\n",
            "    accuracy                           0.55      3203\n",
            "   macro avg       0.37      0.38      0.34      3203\n",
            "weighted avg       0.71      0.55      0.60      3203\n",
            "\n",
            "[[1411  908  181]\n",
            " [ 277  337   78]\n",
            " [   3    7    1]]\n"
          ]
        }
      ],
      "source": [
        "y_pred = decision_tree.predict(x_test_feat_extracted)\n",
        "\n",
        "\n",
        "get_confusion_matrix_and_results(y_pred)"
      ]
    },
    {
      "cell_type": "markdown",
      "metadata": {
        "id": "bQrxGl_BqqVQ"
      },
      "source": [
        "# Best classifier selection"
      ]
    },
    {
      "cell_type": "code",
      "execution_count": 65,
      "metadata": {
        "id": "Reaq7SvmqqVR"
      },
      "outputs": [],
      "source": [
        "from sklearn.ensemble import VotingClassifier"
      ]
    },
    {
      "cell_type": "code",
      "execution_count": 66,
      "metadata": {
        "colab": {
          "base_uri": "https://localhost:8080/"
        },
        "id": "7B7MEUMsqqVS",
        "outputId": "17fe5344-a8c7-4817-fb1e-a652ad2479bc"
      },
      "outputs": [
        {
          "output_type": "stream",
          "name": "stdout",
          "text": [
            "Score : 0.9945020838875588\n"
          ]
        }
      ],
      "source": [
        "voting_clf = VotingClassifier(estimators=[('rf', random_forest), ('knn', knn), ('arbre decisionnel', decision_tree), ('logistic regression', logistic_regression)], voting='soft')\n",
        "voting_clf.fit(x_train_sampled_feat_extracted, y_train_sampled)\n",
        "\n",
        "print_score(voting_clf)"
      ]
    },
    {
      "cell_type": "code",
      "execution_count": 67,
      "metadata": {
        "colab": {
          "base_uri": "https://localhost:8080/"
        },
        "id": "9vLmktr-qqVT",
        "outputId": "b4016ec7-3c75-4414-a64e-7705fc385203"
      },
      "outputs": [
        {
          "output_type": "stream",
          "name": "stdout",
          "text": [
            "              precision    recall  f1-score   support\n",
            "\n",
            "         0.0       0.85      0.60      0.70      2500\n",
            "         1.0       0.30      0.50      0.38       692\n",
            "         2.0       0.00      0.09      0.01        11\n",
            "\n",
            "    accuracy                           0.58      3203\n",
            "   macro avg       0.39      0.40      0.36      3203\n",
            "weighted avg       0.73      0.58      0.63      3203\n",
            "\n",
            "[[1503  794  203]\n",
            " [ 259  349   84]\n",
            " [   4    6    1]]\n"
          ]
        }
      ],
      "source": [
        "y_pred = voting_clf.predict(x_test_feat_extracted)\n",
        "\n",
        "get_confusion_matrix_and_results(y_pred)"
      ]
    },
    {
      "cell_type": "markdown",
      "metadata": {
        "id": "3tfykxosqqVT"
      },
      "source": [
        "# Boosting\n",
        "We are going to create a strong model with the Boosting technique using our previous simple models."
      ]
    },
    {
      "cell_type": "code",
      "execution_count": 68,
      "metadata": {
        "id": "4PoGWqBHqqVU"
      },
      "outputs": [],
      "source": [
        "from sklearn.ensemble import AdaBoostClassifier"
      ]
    },
    {
      "cell_type": "code",
      "execution_count": 69,
      "metadata": {
        "id": "yx3UUD1NqqVU"
      },
      "outputs": [],
      "source": [
        "base_models = [\n",
        "    random_forest,\n",
        "    logistic_regression,\n",
        "    decision_tree\n",
        "]"
      ]
    },
    {
      "cell_type": "code",
      "execution_count": 70,
      "metadata": {
        "id": "jeVVE8tGqqVV"
      },
      "outputs": [],
      "source": [
        "adaboost_classifiers = []\n",
        "for base_model in base_models:\n",
        "    adaboost_classifier = AdaBoostClassifier(base_model, n_estimators=50, learning_rate=1)\n",
        "    adaboost_classifiers.append(adaboost_classifier)\n"
      ]
    },
    {
      "cell_type": "code",
      "execution_count": 71,
      "metadata": {
        "colab": {
          "base_uri": "https://localhost:8080/"
        },
        "id": "GKr6GaJ2qqVW",
        "outputId": "6eaf8746-b79a-42e0-9754-aa4897f2b3d5"
      },
      "outputs": [
        {
          "output_type": "stream",
          "name": "stdout",
          "text": [
            "Base model used : RandomForestClassifier(class_weight='balanced', criterion='entropy',\n",
            "                       n_estimators=20)\n",
            "Score : 1.0\n",
            "              precision    recall  f1-score   support\n",
            "\n",
            "         0.0       0.87      0.60      0.71      2500\n",
            "         1.0       0.32      0.53      0.40       692\n",
            "         2.0       0.01      0.27      0.02        11\n",
            "\n",
            "    accuracy                           0.59      3203\n",
            "   macro avg       0.40      0.47      0.38      3203\n",
            "weighted avg       0.74      0.59      0.64      3203\n",
            "\n",
            "[[1508  769  223]\n",
            " [ 232  368   92]\n",
            " [   3    5    3]]\n",
            "\n",
            "Base model used : LogisticRegression(class_weight='balanced')\n",
            "Score : 0.5514321184712246\n",
            "              precision    recall  f1-score   support\n",
            "\n",
            "         0.0       0.89      0.63      0.74      2500\n",
            "         1.0       0.38      0.43      0.40       692\n",
            "         2.0       0.01      0.45      0.02        11\n",
            "\n",
            "    accuracy                           0.59      3203\n",
            "   macro avg       0.42      0.51      0.38      3203\n",
            "weighted avg       0.77      0.59      0.66      3203\n",
            "\n",
            "[[1575  499  426]\n",
            " [ 200  301  191]\n",
            " [   4    2    5]]\n",
            "\n",
            "Base model used : DecisionTreeClassifier(class_weight='balanced')\n",
            "Score : 1.0\n",
            "              precision    recall  f1-score   support\n",
            "\n",
            "         0.0       0.84      0.57      0.67      2500\n",
            "         1.0       0.27      0.48      0.35       692\n",
            "         2.0       0.00      0.09      0.01        11\n",
            "\n",
            "    accuracy                           0.55      3203\n",
            "   macro avg       0.37      0.38      0.34      3203\n",
            "weighted avg       0.71      0.55      0.60      3203\n",
            "\n",
            "[[1414  901  185]\n",
            " [ 277  335   80]\n",
            " [   2    8    1]]\n",
            "\n"
          ]
        }
      ],
      "source": [
        "# Train and evaluate each AdaBoost classifier\n",
        "for i, adaboost_classifier in enumerate(adaboost_classifiers):\n",
        "    print(\"Base model used :\", base_models[i])\n",
        "\n",
        "    # Train the AdaBoost classifier\n",
        "    adaboost_classifier.fit(x_train_sampled_feat_extracted, y_train_sampled)\n",
        "\n",
        "    print_score(adaboost_classifier)\n",
        "\n",
        "    # Make predictions on the test data\n",
        "    y_pred = adaboost_classifier.predict(x_test_feat_extracted)\n",
        "\n",
        "    get_confusion_matrix_and_results(y_pred)\n",
        "\n",
        "    print(\"\")"
      ]
    },
    {
      "cell_type": "markdown",
      "metadata": {
        "id": "QUtbIoWfqqVW"
      },
      "source": [
        "## DESlib library\n",
        "We are using the DESlib library to select the best classifier."
      ]
    },
    {
      "cell_type": "code",
      "execution_count": 72,
      "metadata": {
        "id": "v3lBx6TnqqVW"
      },
      "outputs": [],
      "source": [
        "# from deslib.des.des_clustering import DESClustering"
      ]
    },
    {
      "cell_type": "code",
      "execution_count": 73,
      "metadata": {
        "id": "jrmpCoNbqqVX"
      },
      "outputs": [],
      "source": [
        "# des = DESClustering(pool_classifiers=[knn, random_forest, decision_tree])\n",
        "# des.fit(x_train_sampled_feat_extracted, y_train_sampled.ravel())\n",
        "\n",
        "# print_score(des)"
      ]
    },
    {
      "cell_type": "code",
      "execution_count": 74,
      "metadata": {
        "id": "4NwDh3fhqqVX"
      },
      "outputs": [],
      "source": [
        "# y_pred = des.predict(x_test_feat_extracted)\n",
        "\n",
        "\n",
        "# get_confusion_matrix_and_results(y_pred)"
      ]
    }
  ],
  "metadata": {
    "colab": {
      "provenance": []
    },
    "kernelspec": {
      "display_name": "env",
      "language": "python",
      "name": "python3"
    },
    "language_info": {
      "codemirror_mode": {
        "name": "ipython",
        "version": 3
      },
      "file_extension": ".py",
      "mimetype": "text/x-python",
      "name": "python",
      "nbconvert_exporter": "python",
      "pygments_lexer": "ipython3",
      "version": "3.11.9"
    }
  },
  "nbformat": 4,
  "nbformat_minor": 0
}