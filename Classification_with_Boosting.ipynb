{
  "cells": [
    {
      "cell_type": "markdown",
      "metadata": {
        "id": "rLaebpXyqqUr"
      },
      "source": [
        "# Classic classification algorithms"
      ]
    },
    {
      "cell_type": "markdown",
      "metadata": {
        "id": "SDqYjKwDqqUw"
      },
      "source": [
        "We are going to classify our datasets using multiple classification algorithms and evaluate their performances."
      ]
    },
    {
      "cell_type": "code",
      "execution_count": 1,
      "metadata": {
        "colab": {
          "base_uri": "https://localhost:8080/"
        },
        "id": "XTL6llluqqUy",
        "outputId": "2402d814-c0a7-4f5c-f751-b8d8bb06e220"
      },
      "outputs": [
        {
          "output_type": "stream",
          "name": "stdout",
          "text": [
            "scikit-learn is not installed. Installing...\n",
            "Requirement already satisfied: scikit-learn in /usr/local/lib/python3.10/dist-packages (1.2.2)\n",
            "Requirement already satisfied: numpy>=1.17.3 in /usr/local/lib/python3.10/dist-packages (from scikit-learn) (1.25.2)\n",
            "Requirement already satisfied: scipy>=1.3.2 in /usr/local/lib/python3.10/dist-packages (from scikit-learn) (1.11.4)\n",
            "Requirement already satisfied: joblib>=1.1.1 in /usr/local/lib/python3.10/dist-packages (from scikit-learn) (1.4.2)\n",
            "Requirement already satisfied: threadpoolctl>=2.0.0 in /usr/local/lib/python3.10/dist-packages (from scikit-learn) (3.5.0)\n",
            "imblearn is already installed.\n",
            "deslib is not installed. Installing...\n",
            "Collecting deslib\n",
            "  Downloading DESlib-0.3.7-py3-none-any.whl (172 kB)\n",
            "\u001b[2K     \u001b[90m━━━━━━━━━━━━━━━━━━━━━━━━━━━━━━━━━━━━━━━━\u001b[0m \u001b[32m172.6/172.6 kB\u001b[0m \u001b[31m4.5 MB/s\u001b[0m eta \u001b[36m0:00:00\u001b[0m\n",
            "\u001b[?25hRequirement already satisfied: scikit-learn>=1.0.2 in /usr/local/lib/python3.10/dist-packages (from deslib) (1.2.2)\n",
            "Requirement already satisfied: numpy>=1.17.0 in /usr/local/lib/python3.10/dist-packages (from deslib) (1.25.2)\n",
            "Requirement already satisfied: scipy>=1.4.0 in /usr/local/lib/python3.10/dist-packages (from deslib) (1.11.4)\n",
            "Requirement already satisfied: joblib>=1.1.1 in /usr/local/lib/python3.10/dist-packages (from scikit-learn>=1.0.2->deslib) (1.4.2)\n",
            "Requirement already satisfied: threadpoolctl>=2.0.0 in /usr/local/lib/python3.10/dist-packages (from scikit-learn>=1.0.2->deslib) (3.5.0)\n",
            "Installing collected packages: deslib\n",
            "Successfully installed deslib-0.3.7\n"
          ]
        }
      ],
      "source": [
        "# Packages to install\n",
        "packages_to_install = ['scikit-learn', 'imblearn', 'deslib']\n",
        "\n",
        "# Check if they are already installed\n",
        "import importlib\n",
        "for package in packages_to_install:\n",
        "    try:\n",
        "        importlib.import_module(package)\n",
        "        print(f\"{package} is already installed.\")\n",
        "    except ImportError:\n",
        "        print(f\"{package} is not installed. Installing...\")\n",
        "        !pip install {package}"
      ]
    },
    {
      "cell_type": "code",
      "execution_count": 2,
      "metadata": {
        "id": "rznrNVCXqqU1"
      },
      "outputs": [],
      "source": [
        "import pandas as pd\n",
        "from sklearn.model_selection import train_test_split\n",
        "from sklearn.preprocessing import StandardScaler\n",
        "from sklearn.metrics import confusion_matrix, classification_report, accuracy_score\n",
        "from imblearn.over_sampling import SMOTE"
      ]
    },
    {
      "cell_type": "markdown",
      "metadata": {
        "id": "0XZ0f-MHqqU2"
      },
      "source": [
        "## Load Dataset"
      ]
    },
    {
      "cell_type": "code",
      "execution_count": 92,
      "metadata": {
        "colab": {
          "base_uri": "https://localhost:8080/",
          "height": 320
        },
        "id": "Iwxcot_nqqU3",
        "outputId": "5ba9892d-7c1a-412f-b5fc-dbfa45242202"
      },
      "outputs": [
        {
          "output_type": "execute_result",
          "data": {
            "text/plain": [
              "                 0             1             2             3              4   \\\n",
              "count  12809.000000  12809.000000  12809.000000  12809.000000   12809.000000   \n",
              "mean       7.715800    105.179340    151.438104    550.188281    1858.821366   \n",
              "std       13.661444    118.380416    198.978664    596.648195    4357.460170   \n",
              "min        0.004030      0.497232      1.136887      1.550758       2.000634   \n",
              "25%        0.651308     28.135965     36.205070    160.794149     572.195981   \n",
              "50%        2.563679     73.496119     79.066449    341.937147    1092.008474   \n",
              "75%        9.841018    145.229559    183.952667    722.194942    2030.703113   \n",
              "max      513.804645   4126.791150   3471.703620   6547.571997  304245.165000   \n",
              "\n",
              "                 5             6             8             9             10  \\\n",
              "count  12809.000000  12809.000000  12809.000000  12809.000000  12809.000000   \n",
              "mean       0.639516      0.606294     13.894588    151.443231    149.896051   \n",
              "std        0.298755      0.355149     25.014059    184.578246    182.014356   \n",
              "min        0.000000      0.009388      0.008162      1.076040      0.955428   \n",
              "25%        0.407475      0.324020      0.593510     22.236411     36.182643   \n",
              "50%        0.664512      0.461491      3.255613     83.524212     84.391739   \n",
              "75%        0.859797      0.844648     17.586211    223.050740    191.915684   \n",
              "max        1.932471      1.933941    540.411313   3139.233639   2126.014583   \n",
              "\n",
              "                 11            12            13            14  \n",
              "count  12809.000000  12809.000000  12809.000000  12809.000000  \n",
              "mean     400.836349   1220.861916      0.639516      0.726532  \n",
              "std      427.817220   2481.003246      0.298755      0.402590  \n",
              "min        3.392103      7.449574      0.000000      0.006647  \n",
              "25%      125.101548    436.947264      0.407475      0.373920  \n",
              "50%      255.453341    768.756167      0.664512      0.567023  \n",
              "75%      518.186018   1335.167249      0.859797      1.063422  \n",
              "max     6557.959843  92455.135460      1.932471      1.990678  "
            ],
            "text/html": [
              "\n",
              "  <div id=\"df-fb30123a-7629-4f58-b40e-0ca474e27899\" class=\"colab-df-container\">\n",
              "    <div>\n",
              "<style scoped>\n",
              "    .dataframe tbody tr th:only-of-type {\n",
              "        vertical-align: middle;\n",
              "    }\n",
              "\n",
              "    .dataframe tbody tr th {\n",
              "        vertical-align: top;\n",
              "    }\n",
              "\n",
              "    .dataframe thead th {\n",
              "        text-align: right;\n",
              "    }\n",
              "</style>\n",
              "<table border=\"1\" class=\"dataframe\">\n",
              "  <thead>\n",
              "    <tr style=\"text-align: right;\">\n",
              "      <th></th>\n",
              "      <th>0</th>\n",
              "      <th>1</th>\n",
              "      <th>2</th>\n",
              "      <th>3</th>\n",
              "      <th>4</th>\n",
              "      <th>5</th>\n",
              "      <th>6</th>\n",
              "      <th>8</th>\n",
              "      <th>9</th>\n",
              "      <th>10</th>\n",
              "      <th>11</th>\n",
              "      <th>12</th>\n",
              "      <th>13</th>\n",
              "      <th>14</th>\n",
              "    </tr>\n",
              "  </thead>\n",
              "  <tbody>\n",
              "    <tr>\n",
              "      <th>count</th>\n",
              "      <td>12809.000000</td>\n",
              "      <td>12809.000000</td>\n",
              "      <td>12809.000000</td>\n",
              "      <td>12809.000000</td>\n",
              "      <td>12809.000000</td>\n",
              "      <td>12809.000000</td>\n",
              "      <td>12809.000000</td>\n",
              "      <td>12809.000000</td>\n",
              "      <td>12809.000000</td>\n",
              "      <td>12809.000000</td>\n",
              "      <td>12809.000000</td>\n",
              "      <td>12809.000000</td>\n",
              "      <td>12809.000000</td>\n",
              "      <td>12809.000000</td>\n",
              "    </tr>\n",
              "    <tr>\n",
              "      <th>mean</th>\n",
              "      <td>7.715800</td>\n",
              "      <td>105.179340</td>\n",
              "      <td>151.438104</td>\n",
              "      <td>550.188281</td>\n",
              "      <td>1858.821366</td>\n",
              "      <td>0.639516</td>\n",
              "      <td>0.606294</td>\n",
              "      <td>13.894588</td>\n",
              "      <td>151.443231</td>\n",
              "      <td>149.896051</td>\n",
              "      <td>400.836349</td>\n",
              "      <td>1220.861916</td>\n",
              "      <td>0.639516</td>\n",
              "      <td>0.726532</td>\n",
              "    </tr>\n",
              "    <tr>\n",
              "      <th>std</th>\n",
              "      <td>13.661444</td>\n",
              "      <td>118.380416</td>\n",
              "      <td>198.978664</td>\n",
              "      <td>596.648195</td>\n",
              "      <td>4357.460170</td>\n",
              "      <td>0.298755</td>\n",
              "      <td>0.355149</td>\n",
              "      <td>25.014059</td>\n",
              "      <td>184.578246</td>\n",
              "      <td>182.014356</td>\n",
              "      <td>427.817220</td>\n",
              "      <td>2481.003246</td>\n",
              "      <td>0.298755</td>\n",
              "      <td>0.402590</td>\n",
              "    </tr>\n",
              "    <tr>\n",
              "      <th>min</th>\n",
              "      <td>0.004030</td>\n",
              "      <td>0.497232</td>\n",
              "      <td>1.136887</td>\n",
              "      <td>1.550758</td>\n",
              "      <td>2.000634</td>\n",
              "      <td>0.000000</td>\n",
              "      <td>0.009388</td>\n",
              "      <td>0.008162</td>\n",
              "      <td>1.076040</td>\n",
              "      <td>0.955428</td>\n",
              "      <td>3.392103</td>\n",
              "      <td>7.449574</td>\n",
              "      <td>0.000000</td>\n",
              "      <td>0.006647</td>\n",
              "    </tr>\n",
              "    <tr>\n",
              "      <th>25%</th>\n",
              "      <td>0.651308</td>\n",
              "      <td>28.135965</td>\n",
              "      <td>36.205070</td>\n",
              "      <td>160.794149</td>\n",
              "      <td>572.195981</td>\n",
              "      <td>0.407475</td>\n",
              "      <td>0.324020</td>\n",
              "      <td>0.593510</td>\n",
              "      <td>22.236411</td>\n",
              "      <td>36.182643</td>\n",
              "      <td>125.101548</td>\n",
              "      <td>436.947264</td>\n",
              "      <td>0.407475</td>\n",
              "      <td>0.373920</td>\n",
              "    </tr>\n",
              "    <tr>\n",
              "      <th>50%</th>\n",
              "      <td>2.563679</td>\n",
              "      <td>73.496119</td>\n",
              "      <td>79.066449</td>\n",
              "      <td>341.937147</td>\n",
              "      <td>1092.008474</td>\n",
              "      <td>0.664512</td>\n",
              "      <td>0.461491</td>\n",
              "      <td>3.255613</td>\n",
              "      <td>83.524212</td>\n",
              "      <td>84.391739</td>\n",
              "      <td>255.453341</td>\n",
              "      <td>768.756167</td>\n",
              "      <td>0.664512</td>\n",
              "      <td>0.567023</td>\n",
              "    </tr>\n",
              "    <tr>\n",
              "      <th>75%</th>\n",
              "      <td>9.841018</td>\n",
              "      <td>145.229559</td>\n",
              "      <td>183.952667</td>\n",
              "      <td>722.194942</td>\n",
              "      <td>2030.703113</td>\n",
              "      <td>0.859797</td>\n",
              "      <td>0.844648</td>\n",
              "      <td>17.586211</td>\n",
              "      <td>223.050740</td>\n",
              "      <td>191.915684</td>\n",
              "      <td>518.186018</td>\n",
              "      <td>1335.167249</td>\n",
              "      <td>0.859797</td>\n",
              "      <td>1.063422</td>\n",
              "    </tr>\n",
              "    <tr>\n",
              "      <th>max</th>\n",
              "      <td>513.804645</td>\n",
              "      <td>4126.791150</td>\n",
              "      <td>3471.703620</td>\n",
              "      <td>6547.571997</td>\n",
              "      <td>304245.165000</td>\n",
              "      <td>1.932471</td>\n",
              "      <td>1.933941</td>\n",
              "      <td>540.411313</td>\n",
              "      <td>3139.233639</td>\n",
              "      <td>2126.014583</td>\n",
              "      <td>6557.959843</td>\n",
              "      <td>92455.135460</td>\n",
              "      <td>1.932471</td>\n",
              "      <td>1.990678</td>\n",
              "    </tr>\n",
              "  </tbody>\n",
              "</table>\n",
              "</div>\n",
              "    <div class=\"colab-df-buttons\">\n",
              "\n",
              "  <div class=\"colab-df-container\">\n",
              "    <button class=\"colab-df-convert\" onclick=\"convertToInteractive('df-fb30123a-7629-4f58-b40e-0ca474e27899')\"\n",
              "            title=\"Convert this dataframe to an interactive table.\"\n",
              "            style=\"display:none;\">\n",
              "\n",
              "  <svg xmlns=\"http://www.w3.org/2000/svg\" height=\"24px\" viewBox=\"0 -960 960 960\">\n",
              "    <path d=\"M120-120v-720h720v720H120Zm60-500h600v-160H180v160Zm220 220h160v-160H400v160Zm0 220h160v-160H400v160ZM180-400h160v-160H180v160Zm440 0h160v-160H620v160ZM180-180h160v-160H180v160Zm440 0h160v-160H620v160Z\"/>\n",
              "  </svg>\n",
              "    </button>\n",
              "\n",
              "  <style>\n",
              "    .colab-df-container {\n",
              "      display:flex;\n",
              "      gap: 12px;\n",
              "    }\n",
              "\n",
              "    .colab-df-convert {\n",
              "      background-color: #E8F0FE;\n",
              "      border: none;\n",
              "      border-radius: 50%;\n",
              "      cursor: pointer;\n",
              "      display: none;\n",
              "      fill: #1967D2;\n",
              "      height: 32px;\n",
              "      padding: 0 0 0 0;\n",
              "      width: 32px;\n",
              "    }\n",
              "\n",
              "    .colab-df-convert:hover {\n",
              "      background-color: #E2EBFA;\n",
              "      box-shadow: 0px 1px 2px rgba(60, 64, 67, 0.3), 0px 1px 3px 1px rgba(60, 64, 67, 0.15);\n",
              "      fill: #174EA6;\n",
              "    }\n",
              "\n",
              "    .colab-df-buttons div {\n",
              "      margin-bottom: 4px;\n",
              "    }\n",
              "\n",
              "    [theme=dark] .colab-df-convert {\n",
              "      background-color: #3B4455;\n",
              "      fill: #D2E3FC;\n",
              "    }\n",
              "\n",
              "    [theme=dark] .colab-df-convert:hover {\n",
              "      background-color: #434B5C;\n",
              "      box-shadow: 0px 1px 3px 1px rgba(0, 0, 0, 0.15);\n",
              "      filter: drop-shadow(0px 1px 2px rgba(0, 0, 0, 0.3));\n",
              "      fill: #FFFFFF;\n",
              "    }\n",
              "  </style>\n",
              "\n",
              "    <script>\n",
              "      const buttonEl =\n",
              "        document.querySelector('#df-fb30123a-7629-4f58-b40e-0ca474e27899 button.colab-df-convert');\n",
              "      buttonEl.style.display =\n",
              "        google.colab.kernel.accessAllowed ? 'block' : 'none';\n",
              "\n",
              "      async function convertToInteractive(key) {\n",
              "        const element = document.querySelector('#df-fb30123a-7629-4f58-b40e-0ca474e27899');\n",
              "        const dataTable =\n",
              "          await google.colab.kernel.invokeFunction('convertToInteractive',\n",
              "                                                    [key], {});\n",
              "        if (!dataTable) return;\n",
              "\n",
              "        const docLinkHtml = 'Like what you see? Visit the ' +\n",
              "          '<a target=\"_blank\" href=https://colab.research.google.com/notebooks/data_table.ipynb>data table notebook</a>'\n",
              "          + ' to learn more about interactive tables.';\n",
              "        element.innerHTML = '';\n",
              "        dataTable['output_type'] = 'display_data';\n",
              "        await google.colab.output.renderOutput(dataTable, element);\n",
              "        const docLink = document.createElement('div');\n",
              "        docLink.innerHTML = docLinkHtml;\n",
              "        element.appendChild(docLink);\n",
              "      }\n",
              "    </script>\n",
              "  </div>\n",
              "\n",
              "\n",
              "<div id=\"df-c834414f-014a-4b37-93cd-a409ab297830\">\n",
              "  <button class=\"colab-df-quickchart\" onclick=\"quickchart('df-c834414f-014a-4b37-93cd-a409ab297830')\"\n",
              "            title=\"Suggest charts\"\n",
              "            style=\"display:none;\">\n",
              "\n",
              "<svg xmlns=\"http://www.w3.org/2000/svg\" height=\"24px\"viewBox=\"0 0 24 24\"\n",
              "     width=\"24px\">\n",
              "    <g>\n",
              "        <path d=\"M19 3H5c-1.1 0-2 .9-2 2v14c0 1.1.9 2 2 2h14c1.1 0 2-.9 2-2V5c0-1.1-.9-2-2-2zM9 17H7v-7h2v7zm4 0h-2V7h2v10zm4 0h-2v-4h2v4z\"/>\n",
              "    </g>\n",
              "</svg>\n",
              "  </button>\n",
              "\n",
              "<style>\n",
              "  .colab-df-quickchart {\n",
              "      --bg-color: #E8F0FE;\n",
              "      --fill-color: #1967D2;\n",
              "      --hover-bg-color: #E2EBFA;\n",
              "      --hover-fill-color: #174EA6;\n",
              "      --disabled-fill-color: #AAA;\n",
              "      --disabled-bg-color: #DDD;\n",
              "  }\n",
              "\n",
              "  [theme=dark] .colab-df-quickchart {\n",
              "      --bg-color: #3B4455;\n",
              "      --fill-color: #D2E3FC;\n",
              "      --hover-bg-color: #434B5C;\n",
              "      --hover-fill-color: #FFFFFF;\n",
              "      --disabled-bg-color: #3B4455;\n",
              "      --disabled-fill-color: #666;\n",
              "  }\n",
              "\n",
              "  .colab-df-quickchart {\n",
              "    background-color: var(--bg-color);\n",
              "    border: none;\n",
              "    border-radius: 50%;\n",
              "    cursor: pointer;\n",
              "    display: none;\n",
              "    fill: var(--fill-color);\n",
              "    height: 32px;\n",
              "    padding: 0;\n",
              "    width: 32px;\n",
              "  }\n",
              "\n",
              "  .colab-df-quickchart:hover {\n",
              "    background-color: var(--hover-bg-color);\n",
              "    box-shadow: 0 1px 2px rgba(60, 64, 67, 0.3), 0 1px 3px 1px rgba(60, 64, 67, 0.15);\n",
              "    fill: var(--button-hover-fill-color);\n",
              "  }\n",
              "\n",
              "  .colab-df-quickchart-complete:disabled,\n",
              "  .colab-df-quickchart-complete:disabled:hover {\n",
              "    background-color: var(--disabled-bg-color);\n",
              "    fill: var(--disabled-fill-color);\n",
              "    box-shadow: none;\n",
              "  }\n",
              "\n",
              "  .colab-df-spinner {\n",
              "    border: 2px solid var(--fill-color);\n",
              "    border-color: transparent;\n",
              "    border-bottom-color: var(--fill-color);\n",
              "    animation:\n",
              "      spin 1s steps(1) infinite;\n",
              "  }\n",
              "\n",
              "  @keyframes spin {\n",
              "    0% {\n",
              "      border-color: transparent;\n",
              "      border-bottom-color: var(--fill-color);\n",
              "      border-left-color: var(--fill-color);\n",
              "    }\n",
              "    20% {\n",
              "      border-color: transparent;\n",
              "      border-left-color: var(--fill-color);\n",
              "      border-top-color: var(--fill-color);\n",
              "    }\n",
              "    30% {\n",
              "      border-color: transparent;\n",
              "      border-left-color: var(--fill-color);\n",
              "      border-top-color: var(--fill-color);\n",
              "      border-right-color: var(--fill-color);\n",
              "    }\n",
              "    40% {\n",
              "      border-color: transparent;\n",
              "      border-right-color: var(--fill-color);\n",
              "      border-top-color: var(--fill-color);\n",
              "    }\n",
              "    60% {\n",
              "      border-color: transparent;\n",
              "      border-right-color: var(--fill-color);\n",
              "    }\n",
              "    80% {\n",
              "      border-color: transparent;\n",
              "      border-right-color: var(--fill-color);\n",
              "      border-bottom-color: var(--fill-color);\n",
              "    }\n",
              "    90% {\n",
              "      border-color: transparent;\n",
              "      border-bottom-color: var(--fill-color);\n",
              "    }\n",
              "  }\n",
              "</style>\n",
              "\n",
              "  <script>\n",
              "    async function quickchart(key) {\n",
              "      const quickchartButtonEl =\n",
              "        document.querySelector('#' + key + ' button');\n",
              "      quickchartButtonEl.disabled = true;  // To prevent multiple clicks.\n",
              "      quickchartButtonEl.classList.add('colab-df-spinner');\n",
              "      try {\n",
              "        const charts = await google.colab.kernel.invokeFunction(\n",
              "            'suggestCharts', [key], {});\n",
              "      } catch (error) {\n",
              "        console.error('Error during call to suggestCharts:', error);\n",
              "      }\n",
              "      quickchartButtonEl.classList.remove('colab-df-spinner');\n",
              "      quickchartButtonEl.classList.add('colab-df-quickchart-complete');\n",
              "    }\n",
              "    (() => {\n",
              "      let quickchartButtonEl =\n",
              "        document.querySelector('#df-c834414f-014a-4b37-93cd-a409ab297830 button');\n",
              "      quickchartButtonEl.style.display =\n",
              "        google.colab.kernel.accessAllowed ? 'block' : 'none';\n",
              "    })();\n",
              "  </script>\n",
              "</div>\n",
              "    </div>\n",
              "  </div>\n"
            ],
            "application/vnd.google.colaboratory.intrinsic+json": {
              "type": "dataframe",
              "summary": "{\n  \"name\": \"x\",\n  \"rows\": 8,\n  \"fields\": [\n    {\n      \"column\": 0,\n      \"properties\": {\n        \"dtype\": \"number\",\n        \"std\": 4504.487242873024,\n        \"min\": 0.00403,\n        \"max\": 12809.0,\n        \"num_unique_values\": 8,\n        \"samples\": [\n          7.7158000047622775,\n          2.563679,\n          12809.0\n        ],\n        \"semantic_type\": \"\",\n        \"description\": \"\"\n      }\n    },\n    {\n      \"column\": 1,\n      \"properties\": {\n        \"dtype\": \"number\",\n        \"std\": 4524.205610187342,\n        \"min\": 0.497232,\n        \"max\": 12809.0,\n        \"num_unique_values\": 8,\n        \"samples\": [\n          105.17933999234913,\n          73.496119,\n          12809.0\n        ],\n        \"semantic_type\": \"\",\n        \"description\": \"\"\n      }\n    },\n    {\n      \"column\": 2,\n      \"properties\": {\n        \"dtype\": \"number\",\n        \"std\": 4478.404565438102,\n        \"min\": 1.136887,\n        \"max\": 12809.0,\n        \"num_unique_values\": 8,\n        \"samples\": [\n          151.4381037121555,\n          79.066449,\n          12809.0\n        ],\n        \"semantic_type\": \"\",\n        \"description\": \"\"\n      }\n    },\n    {\n      \"column\": 3,\n      \"properties\": {\n        \"dtype\": \"number\",\n        \"std\": 4617.369839879935,\n        \"min\": 1.550758,\n        \"max\": 12809.0,\n        \"num_unique_values\": 8,\n        \"samples\": [\n          550.1882806510266,\n          341.937147,\n          12809.0\n        ],\n        \"semantic_type\": \"\",\n        \"description\": \"\"\n      }\n    },\n    {\n      \"column\": 4,\n      \"properties\": {\n        \"dtype\": \"number\",\n        \"std\": 106498.70612877034,\n        \"min\": 2.000634,\n        \"max\": 304245.165,\n        \"num_unique_values\": 8,\n        \"samples\": [\n          1858.8213664039345,\n          1092.008474,\n          12809.0\n        ],\n        \"semantic_type\": \"\",\n        \"description\": \"\"\n      }\n    },\n    {\n      \"column\": 5,\n      \"properties\": {\n        \"dtype\": \"number\",\n        \"std\": 4528.422851954951,\n        \"min\": 0.0,\n        \"max\": 12809.0,\n        \"num_unique_values\": 8,\n        \"samples\": [\n          0.6395161178077914,\n          0.664512,\n          12809.0\n        ],\n        \"semantic_type\": \"\",\n        \"description\": \"\"\n      }\n    },\n    {\n      \"column\": 6,\n      \"properties\": {\n        \"dtype\": \"number\",\n        \"std\": 4528.436368244238,\n        \"min\": 0.009388,\n        \"max\": 12809.0,\n        \"num_unique_values\": 8,\n        \"samples\": [\n          0.606293731438832,\n          0.461491,\n          12809.0\n        ],\n        \"semantic_type\": \"\",\n        \"description\": \"\"\n      }\n    },\n    {\n      \"column\": 8,\n      \"properties\": {\n        \"dtype\": \"number\",\n        \"std\": 4502.1573381478,\n        \"min\": 0.008162,\n        \"max\": 12809.0,\n        \"num_unique_values\": 8,\n        \"samples\": [\n          13.894587935436023,\n          3.255613,\n          12809.0\n        ],\n        \"semantic_type\": \"\",\n        \"description\": \"\"\n      }\n    },\n    {\n      \"column\": 9,\n      \"properties\": {\n        \"dtype\": \"number\",\n        \"std\": 4464.715318230216,\n        \"min\": 1.07604,\n        \"max\": 12809.0,\n        \"num_unique_values\": 8,\n        \"samples\": [\n          151.44323063595908,\n          83.524212,\n          12809.0\n        ],\n        \"semantic_type\": \"\",\n        \"description\": \"\"\n      }\n    },\n    {\n      \"column\": 10,\n      \"properties\": {\n        \"dtype\": \"number\",\n        \"std\": 4445.668641658352,\n        \"min\": 0.955428,\n        \"max\": 12809.0,\n        \"num_unique_values\": 8,\n        \"samples\": [\n          149.89605091701148,\n          84.391739,\n          12809.0\n        ],\n        \"semantic_type\": \"\",\n        \"description\": \"\"\n      }\n    },\n    {\n      \"column\": 11,\n      \"properties\": {\n        \"dtype\": \"number\",\n        \"std\": 4661.867922775872,\n        \"min\": 3.392103,\n        \"max\": 12809.0,\n        \"num_unique_values\": 8,\n        \"samples\": [\n          400.8363486109766,\n          255.453341,\n          12809.0\n        ],\n        \"semantic_type\": \"\",\n        \"description\": \"\"\n      }\n    },\n    {\n      \"column\": 12,\n      \"properties\": {\n        \"dtype\": \"number\",\n        \"std\": 31999.559373840024,\n        \"min\": 7.449574,\n        \"max\": 92455.13546,\n        \"num_unique_values\": 8,\n        \"samples\": [\n          1220.8619156609416,\n          768.756167,\n          12809.0\n        ],\n        \"semantic_type\": \"\",\n        \"description\": \"\"\n      }\n    },\n    {\n      \"column\": 13,\n      \"properties\": {\n        \"dtype\": \"number\",\n        \"std\": 4528.422851954951,\n        \"min\": 0.0,\n        \"max\": 12809.0,\n        \"num_unique_values\": 8,\n        \"samples\": [\n          0.6395161178077914,\n          0.664512,\n          12809.0\n        ],\n        \"semantic_type\": \"\",\n        \"description\": \"\"\n      }\n    },\n    {\n      \"column\": 14,\n      \"properties\": {\n        \"dtype\": \"number\",\n        \"std\": 4528.4062741515645,\n        \"min\": 0.006647,\n        \"max\": 12809.0,\n        \"num_unique_values\": 8,\n        \"samples\": [\n          0.7265319369974236,\n          0.567023,\n          12809.0\n        ],\n        \"semantic_type\": \"\",\n        \"description\": \"\"\n      }\n    }\n  ]\n}"
            }
          },
          "metadata": {},
          "execution_count": 92
        }
      ],
      "source": [
        "x1 = pd.read_csv(\"stand_norm_e1.txt\", header=None, delimiter=\" \")\n",
        "x2 = pd.read_csv(\"stand_norm_e2.txt\", header=None, delimiter=\" \", names=[8, 9, 10, 11, 12, 13, 14])\n",
        "y = pd.read_csv(\"y2_e1.txt\", header=None, delimiter=\" \", names=[\"label\"])\n",
        "x = pd.concat([x1, x2], axis=1)\n",
        "x = x[1:]\n",
        "y = y[1:]\n",
        "\n",
        "x.describe()"
      ]
    },
    {
      "cell_type": "code",
      "execution_count": 93,
      "metadata": {
        "id": "UC9ApHTZqqU5"
      },
      "outputs": [],
      "source": [
        "# Splitting the dataset into training and test set.\n",
        "x_train, x_test, y_train, y_test = train_test_split(x.values, y.values, test_size = 0.25, random_state=0)\n",
        "\n",
        "# Feature Scaling\n",
        "# Adjust the mean to 0 and the standard deviation to 1\n",
        "st_x = StandardScaler()\n",
        "x_train = st_x.fit_transform(x_train)\n",
        "x_test = st_x.transform(x_test)\n"
      ]
    },
    {
      "cell_type": "code",
      "execution_count": 5,
      "metadata": {
        "id": "HeNvu29LqqU6"
      },
      "outputs": [],
      "source": [
        "# Oversample to have same number of samples of each class\n",
        "smote = SMOTE()\n",
        "x_train_sampled, y_train_sampled = smote.fit_resample(x_train, y_train)"
      ]
    },
    {
      "cell_type": "markdown",
      "metadata": {
        "id": "GKfDJ2m4qqU8"
      },
      "source": [
        "## Feature extraction : CNN\n",
        "We are going to extract features from the datasets using the CNN method, knowing that it has the best performances"
      ]
    },
    {
      "cell_type": "code",
      "execution_count": 21,
      "metadata": {
        "id": "lavZ6T-GqqU-"
      },
      "outputs": [],
      "source": [
        "import numpy as np\n",
        "import pandas as pd\n",
        "import tensorflow as tf\n",
        "from sklearn.model_selection import train_test_split\n",
        "from sklearn.preprocessing import StandardScaler, LabelEncoder\n",
        "from sklearn.metrics import confusion_matrix, classification_report, accuracy_score\n",
        "from sklearn.ensemble import RandomForestClassifier\n",
        "from imblearn.over_sampling import SMOTE\n",
        "from tensorflow.keras.models import Sequential\n",
        "from tensorflow.keras.layers import Dense, Conv1D, Flatten, MaxPooling1D, Dropout\n",
        "from tensorflow.keras.utils import to_categorical\n",
        "\n",
        "# Vérification et reformattage de y_train_sampled pour la classification multiclasse\n",
        "label_encoder = LabelEncoder()\n",
        "y_train_encoded = label_encoder.fit_transform(y_train_sampled.ravel())\n",
        "y_train_categorical = to_categorical(y_train_encoded)\n",
        "\n",
        "# Mise à jour de la dernière couche Dense pour qu'elle corresponde au nombre de classes\n",
        "#num_classes = y_train_categorical.shape[0]\n",
        "num_classes = y_train_categorical.shape[1]"
      ]
    },
    {
      "cell_type": "code",
      "source": [
        "# Reshape x_train_sampled et x_test_scaled pour l'entrée du CNN\n",
        "x_train_sampled_cnn = np.expand_dims(x_train_sampled, axis=2)\n",
        "x_test_scaled_cnn = np.expand_dims(x_test, axis=2)"
      ],
      "metadata": {
        "id": "L4HkfswVa_za"
      },
      "execution_count": 22,
      "outputs": []
    },
    {
      "cell_type": "code",
      "execution_count": 61,
      "metadata": {
        "id": "6wRsdm-41B37"
      },
      "outputs": [],
      "source": [
        "# Modèle CNN avec trois couches convolutionnelles\n",
        "cnn_model = Sequential([\n",
        "    # Augmente la taille de l'input si nécessaire ou ajuste les paramètres\n",
        "    Conv1D(128, 3, activation='relu', padding='same', input_shape=(x_train_sampled.shape[1], 1)),\n",
        "    MaxPooling1D(2),\n",
        "    # Ajout d'une seconde couche convolutive avec padding pour conserver la dimension\n",
        "    Conv1D(128, 3, activation='relu', padding='same'),\n",
        "    MaxPooling1D(2),\n",
        "    Conv1D(128, 3, activation='relu', padding='same'),\n",
        "    MaxPooling1D(2),\n",
        "    Flatten(name='flatten_layer'),\n",
        "    Dense(100, activation='relu'),\n",
        "    Dropout(0.5),\n",
        "    Dense(num_classes, activation='softmax')\n",
        "])\n",
        "\n",
        "# Compilation du modèle avec la métrique correcte\n",
        "cnn_model.compile(optimizer='adam', loss='categorical_crossentropy', metrics=['accuracy'])"
      ]
    },
    {
      "cell_type": "code",
      "execution_count": 62,
      "metadata": {
        "colab": {
          "base_uri": "https://localhost:8080/"
        },
        "id": "dHTTvXu41FCQ",
        "outputId": "e1c37e9d-0e84-44a7-f27e-d3daf404baf2"
      },
      "outputs": [
        {
          "output_type": "stream",
          "name": "stdout",
          "text": [
            "Epoch 1/20\n",
            "1128/1128 [==============================] - 13s 9ms/step - loss: 0.5114 - accuracy: 0.7607\n",
            "Epoch 2/20\n",
            "1128/1128 [==============================] - 10s 9ms/step - loss: 0.3791 - accuracy: 0.8217\n",
            "Epoch 3/20\n",
            "1128/1128 [==============================] - 8s 7ms/step - loss: 0.3484 - accuracy: 0.8381\n",
            "Epoch 4/20\n",
            "1128/1128 [==============================] - 10s 9ms/step - loss: 0.3216 - accuracy: 0.8532\n",
            "Epoch 5/20\n",
            "1128/1128 [==============================] - 10s 9ms/step - loss: 0.3107 - accuracy: 0.8609\n",
            "Epoch 6/20\n",
            "1128/1128 [==============================] - 8s 7ms/step - loss: 0.2921 - accuracy: 0.8688\n",
            "Epoch 7/20\n",
            "1128/1128 [==============================] - 10s 9ms/step - loss: 0.2798 - accuracy: 0.8787\n",
            "Epoch 8/20\n",
            "1128/1128 [==============================] - 10s 9ms/step - loss: 0.2694 - accuracy: 0.8823\n",
            "Epoch 9/20\n",
            "1128/1128 [==============================] - 8s 7ms/step - loss: 0.2593 - accuracy: 0.8863\n",
            "Epoch 10/20\n",
            "1128/1128 [==============================] - 10s 9ms/step - loss: 0.2421 - accuracy: 0.8964\n",
            "Epoch 11/20\n",
            "1128/1128 [==============================] - 10s 9ms/step - loss: 0.2351 - accuracy: 0.8985\n",
            "Epoch 12/20\n",
            "1128/1128 [==============================] - 9s 8ms/step - loss: 0.2227 - accuracy: 0.9060\n",
            "Epoch 13/20\n",
            "1128/1128 [==============================] - 10s 9ms/step - loss: 0.2126 - accuracy: 0.9080\n",
            "Epoch 14/20\n",
            "1128/1128 [==============================] - 10s 9ms/step - loss: 0.1999 - accuracy: 0.9143\n",
            "Epoch 15/20\n",
            "1128/1128 [==============================] - 9s 8ms/step - loss: 0.1952 - accuracy: 0.9178\n",
            "Epoch 16/20\n",
            "1128/1128 [==============================] - 10s 9ms/step - loss: 0.1844 - accuracy: 0.9220\n",
            "Epoch 17/20\n",
            "1128/1128 [==============================] - 10s 9ms/step - loss: 0.1783 - accuracy: 0.9263\n",
            "Epoch 18/20\n",
            "1128/1128 [==============================] - 9s 8ms/step - loss: 0.1727 - accuracy: 0.9288\n",
            "Epoch 19/20\n",
            "1128/1128 [==============================] - 9s 8ms/step - loss: 0.1575 - accuracy: 0.9329\n",
            "Epoch 20/20\n",
            "1128/1128 [==============================] - 10s 9ms/step - loss: 0.1597 - accuracy: 0.9335\n"
          ]
        },
        {
          "output_type": "execute_result",
          "data": {
            "text/plain": [
              "<keras.src.callbacks.History at 0x7cd36cc93c40>"
            ]
          },
          "metadata": {},
          "execution_count": 62
        }
      ],
      "source": [
        "# Entraînement du modèle\n",
        "cnn_model.fit(x_train_sampled_cnn, y_train_categorical, epochs=20, batch_size=20, verbose=1)"
      ]
    },
    {
      "cell_type": "code",
      "source": [
        "# Entraînement du modele avec 30 assages complets de l'ensemble de données d'entraînement &\n",
        "# 32 batch_size (..) données d'entraînement seront divisées en lots de 32 échantillons.\n",
        "# Pr chaque lot, les poids du modèle seront MAJ\n",
        "cnn_model.fit(x_train_sampled_cnn, y_train_categorical, epochs=30, batch_size=32, verbose=1)"
      ],
      "metadata": {
        "colab": {
          "base_uri": "https://localhost:8080/"
        },
        "id": "Iw1OEllvuvnQ",
        "outputId": "900569dd-e178-40a2-8f46-d35b877049e0"
      },
      "execution_count": 100,
      "outputs": [
        {
          "output_type": "stream",
          "name": "stdout",
          "text": [
            "Epoch 1/30\n",
            "705/705 [==============================] - 10s 14ms/step - loss: 0.0659 - accuracy: 0.9720\n",
            "Epoch 2/30\n",
            "705/705 [==============================] - 9s 13ms/step - loss: 0.0612 - accuracy: 0.9742\n",
            "Epoch 3/30\n",
            "705/705 [==============================] - 10s 14ms/step - loss: 0.0876 - accuracy: 0.9683\n",
            "Epoch 4/30\n",
            "705/705 [==============================] - 13s 19ms/step - loss: 0.0657 - accuracy: 0.9732\n",
            "Epoch 5/30\n",
            "705/705 [==============================] - 12s 18ms/step - loss: 0.0605 - accuracy: 0.9749\n",
            "Epoch 6/30\n",
            "705/705 [==============================] - 6s 9ms/step - loss: 0.0607 - accuracy: 0.9753\n",
            "Epoch 7/30\n",
            "705/705 [==============================] - 8s 11ms/step - loss: 0.0590 - accuracy: 0.9765\n",
            "Epoch 8/30\n",
            "705/705 [==============================] - 6s 9ms/step - loss: 0.0600 - accuracy: 0.9762\n",
            "Epoch 9/30\n",
            "705/705 [==============================] - 8s 11ms/step - loss: 0.0645 - accuracy: 0.9745\n",
            "Epoch 10/30\n",
            "705/705 [==============================] - 6s 9ms/step - loss: 0.0662 - accuracy: 0.9742\n",
            "Epoch 11/30\n",
            "705/705 [==============================] - 8s 11ms/step - loss: 0.0522 - accuracy: 0.9784\n",
            "Epoch 12/30\n",
            "705/705 [==============================] - 6s 9ms/step - loss: 0.0536 - accuracy: 0.9780\n",
            "Epoch 13/30\n",
            "705/705 [==============================] - 7s 11ms/step - loss: 0.0612 - accuracy: 0.9761\n",
            "Epoch 14/30\n",
            "705/705 [==============================] - 6s 8ms/step - loss: 0.0599 - accuracy: 0.9753\n",
            "Epoch 15/30\n",
            "705/705 [==============================] - 8s 11ms/step - loss: 0.0613 - accuracy: 0.9757\n",
            "Epoch 16/30\n",
            "705/705 [==============================] - 6s 8ms/step - loss: 0.0543 - accuracy: 0.9779\n",
            "Epoch 17/30\n",
            "705/705 [==============================] - 8s 11ms/step - loss: 0.0519 - accuracy: 0.9789\n",
            "Epoch 18/30\n",
            "705/705 [==============================] - 6s 8ms/step - loss: 0.0583 - accuracy: 0.9769\n",
            "Epoch 19/30\n",
            "705/705 [==============================] - 8s 12ms/step - loss: 0.0603 - accuracy: 0.9766\n",
            "Epoch 20/30\n",
            "705/705 [==============================] - 6s 9ms/step - loss: 0.0500 - accuracy: 0.9792\n",
            "Epoch 21/30\n",
            "705/705 [==============================] - 7s 11ms/step - loss: 0.0557 - accuracy: 0.9788\n",
            "Epoch 22/30\n",
            "705/705 [==============================] - 6s 8ms/step - loss: 0.0498 - accuracy: 0.9802\n",
            "Epoch 23/30\n",
            "705/705 [==============================] - 7s 10ms/step - loss: 0.0534 - accuracy: 0.9785\n",
            "Epoch 24/30\n",
            "705/705 [==============================] - 6s 8ms/step - loss: 0.0532 - accuracy: 0.9794\n",
            "Epoch 25/30\n",
            "705/705 [==============================] - 7s 10ms/step - loss: 0.0448 - accuracy: 0.9817\n",
            "Epoch 26/30\n",
            "705/705 [==============================] - 7s 9ms/step - loss: 0.0540 - accuracy: 0.9794\n",
            "Epoch 27/30\n",
            "705/705 [==============================] - 6s 9ms/step - loss: 0.0570 - accuracy: 0.9782\n",
            "Epoch 28/30\n",
            "705/705 [==============================] - 7s 10ms/step - loss: 0.0552 - accuracy: 0.9803\n",
            "Epoch 29/30\n",
            "705/705 [==============================] - 6s 8ms/step - loss: 0.0456 - accuracy: 0.9812\n",
            "Epoch 30/30\n",
            "705/705 [==============================] - 7s 10ms/step - loss: 0.0463 - accuracy: 0.9814\n"
          ]
        },
        {
          "output_type": "execute_result",
          "data": {
            "text/plain": [
              "<keras.src.callbacks.History at 0x7cd366826b00>"
            ]
          },
          "metadata": {},
          "execution_count": 100
        }
      ]
    },
    {
      "cell_type": "markdown",
      "source": [
        "# Traitemet CNN 21.05.2024 proposé"
      ],
      "metadata": {
        "id": "B4ODf7T8ePFT"
      }
    },
    {
      "cell_type": "code",
      "source": [
        "!pip install opencv-python-headless dlib numpy tensorflow imbalanced-learn"
      ],
      "metadata": {
        "colab": {
          "base_uri": "https://localhost:8080/"
        },
        "id": "a2L6DXP0eweh",
        "outputId": "3be71e98-8734-4f88-ae3a-a82dd17ac5b7"
      },
      "execution_count": 26,
      "outputs": [
        {
          "output_type": "stream",
          "name": "stdout",
          "text": [
            "Requirement already satisfied: opencv-python-headless in /usr/local/lib/python3.10/dist-packages (4.9.0.80)\n",
            "Requirement already satisfied: dlib in /usr/local/lib/python3.10/dist-packages (19.24.4)\n",
            "Requirement already satisfied: numpy in /usr/local/lib/python3.10/dist-packages (1.25.2)\n",
            "Requirement already satisfied: tensorflow in /usr/local/lib/python3.10/dist-packages (2.15.0)\n",
            "Requirement already satisfied: imbalanced-learn in /usr/local/lib/python3.10/dist-packages (0.10.1)\n",
            "Requirement already satisfied: absl-py>=1.0.0 in /usr/local/lib/python3.10/dist-packages (from tensorflow) (1.4.0)\n",
            "Requirement already satisfied: astunparse>=1.6.0 in /usr/local/lib/python3.10/dist-packages (from tensorflow) (1.6.3)\n",
            "Requirement already satisfied: flatbuffers>=23.5.26 in /usr/local/lib/python3.10/dist-packages (from tensorflow) (24.3.25)\n",
            "Requirement already satisfied: gast!=0.5.0,!=0.5.1,!=0.5.2,>=0.2.1 in /usr/local/lib/python3.10/dist-packages (from tensorflow) (0.5.4)\n",
            "Requirement already satisfied: google-pasta>=0.1.1 in /usr/local/lib/python3.10/dist-packages (from tensorflow) (0.2.0)\n",
            "Requirement already satisfied: h5py>=2.9.0 in /usr/local/lib/python3.10/dist-packages (from tensorflow) (3.9.0)\n",
            "Requirement already satisfied: libclang>=13.0.0 in /usr/local/lib/python3.10/dist-packages (from tensorflow) (18.1.1)\n",
            "Requirement already satisfied: ml-dtypes~=0.2.0 in /usr/local/lib/python3.10/dist-packages (from tensorflow) (0.2.0)\n",
            "Requirement already satisfied: opt-einsum>=2.3.2 in /usr/local/lib/python3.10/dist-packages (from tensorflow) (3.3.0)\n",
            "Requirement already satisfied: packaging in /usr/local/lib/python3.10/dist-packages (from tensorflow) (24.0)\n",
            "Requirement already satisfied: protobuf!=4.21.0,!=4.21.1,!=4.21.2,!=4.21.3,!=4.21.4,!=4.21.5,<5.0.0dev,>=3.20.3 in /usr/local/lib/python3.10/dist-packages (from tensorflow) (3.20.3)\n",
            "Requirement already satisfied: setuptools in /usr/local/lib/python3.10/dist-packages (from tensorflow) (67.7.2)\n",
            "Requirement already satisfied: six>=1.12.0 in /usr/local/lib/python3.10/dist-packages (from tensorflow) (1.16.0)\n",
            "Requirement already satisfied: termcolor>=1.1.0 in /usr/local/lib/python3.10/dist-packages (from tensorflow) (2.4.0)\n",
            "Requirement already satisfied: typing-extensions>=3.6.6 in /usr/local/lib/python3.10/dist-packages (from tensorflow) (4.11.0)\n",
            "Requirement already satisfied: wrapt<1.15,>=1.11.0 in /usr/local/lib/python3.10/dist-packages (from tensorflow) (1.14.1)\n",
            "Requirement already satisfied: tensorflow-io-gcs-filesystem>=0.23.1 in /usr/local/lib/python3.10/dist-packages (from tensorflow) (0.37.0)\n",
            "Requirement already satisfied: grpcio<2.0,>=1.24.3 in /usr/local/lib/python3.10/dist-packages (from tensorflow) (1.63.0)\n",
            "Requirement already satisfied: tensorboard<2.16,>=2.15 in /usr/local/lib/python3.10/dist-packages (from tensorflow) (2.15.2)\n",
            "Requirement already satisfied: tensorflow-estimator<2.16,>=2.15.0 in /usr/local/lib/python3.10/dist-packages (from tensorflow) (2.15.0)\n",
            "Requirement already satisfied: keras<2.16,>=2.15.0 in /usr/local/lib/python3.10/dist-packages (from tensorflow) (2.15.0)\n",
            "Requirement already satisfied: scipy>=1.3.2 in /usr/local/lib/python3.10/dist-packages (from imbalanced-learn) (1.11.4)\n",
            "Requirement already satisfied: scikit-learn>=1.0.2 in /usr/local/lib/python3.10/dist-packages (from imbalanced-learn) (1.2.2)\n",
            "Requirement already satisfied: joblib>=1.1.1 in /usr/local/lib/python3.10/dist-packages (from imbalanced-learn) (1.4.2)\n",
            "Requirement already satisfied: threadpoolctl>=2.0.0 in /usr/local/lib/python3.10/dist-packages (from imbalanced-learn) (3.5.0)\n",
            "Requirement already satisfied: wheel<1.0,>=0.23.0 in /usr/local/lib/python3.10/dist-packages (from astunparse>=1.6.0->tensorflow) (0.43.0)\n",
            "Requirement already satisfied: google-auth<3,>=1.6.3 in /usr/local/lib/python3.10/dist-packages (from tensorboard<2.16,>=2.15->tensorflow) (2.27.0)\n",
            "Requirement already satisfied: google-auth-oauthlib<2,>=0.5 in /usr/local/lib/python3.10/dist-packages (from tensorboard<2.16,>=2.15->tensorflow) (1.2.0)\n",
            "Requirement already satisfied: markdown>=2.6.8 in /usr/local/lib/python3.10/dist-packages (from tensorboard<2.16,>=2.15->tensorflow) (3.6)\n",
            "Requirement already satisfied: requests<3,>=2.21.0 in /usr/local/lib/python3.10/dist-packages (from tensorboard<2.16,>=2.15->tensorflow) (2.31.0)\n",
            "Requirement already satisfied: tensorboard-data-server<0.8.0,>=0.7.0 in /usr/local/lib/python3.10/dist-packages (from tensorboard<2.16,>=2.15->tensorflow) (0.7.2)\n",
            "Requirement already satisfied: werkzeug>=1.0.1 in /usr/local/lib/python3.10/dist-packages (from tensorboard<2.16,>=2.15->tensorflow) (3.0.3)\n",
            "Requirement already satisfied: cachetools<6.0,>=2.0.0 in /usr/local/lib/python3.10/dist-packages (from google-auth<3,>=1.6.3->tensorboard<2.16,>=2.15->tensorflow) (5.3.3)\n",
            "Requirement already satisfied: pyasn1-modules>=0.2.1 in /usr/local/lib/python3.10/dist-packages (from google-auth<3,>=1.6.3->tensorboard<2.16,>=2.15->tensorflow) (0.4.0)\n",
            "Requirement already satisfied: rsa<5,>=3.1.4 in /usr/local/lib/python3.10/dist-packages (from google-auth<3,>=1.6.3->tensorboard<2.16,>=2.15->tensorflow) (4.9)\n",
            "Requirement already satisfied: requests-oauthlib>=0.7.0 in /usr/local/lib/python3.10/dist-packages (from google-auth-oauthlib<2,>=0.5->tensorboard<2.16,>=2.15->tensorflow) (1.3.1)\n",
            "Requirement already satisfied: charset-normalizer<4,>=2 in /usr/local/lib/python3.10/dist-packages (from requests<3,>=2.21.0->tensorboard<2.16,>=2.15->tensorflow) (3.3.2)\n",
            "Requirement already satisfied: idna<4,>=2.5 in /usr/local/lib/python3.10/dist-packages (from requests<3,>=2.21.0->tensorboard<2.16,>=2.15->tensorflow) (3.7)\n",
            "Requirement already satisfied: urllib3<3,>=1.21.1 in /usr/local/lib/python3.10/dist-packages (from requests<3,>=2.21.0->tensorboard<2.16,>=2.15->tensorflow) (2.0.7)\n",
            "Requirement already satisfied: certifi>=2017.4.17 in /usr/local/lib/python3.10/dist-packages (from requests<3,>=2.21.0->tensorboard<2.16,>=2.15->tensorflow) (2024.2.2)\n",
            "Requirement already satisfied: MarkupSafe>=2.1.1 in /usr/local/lib/python3.10/dist-packages (from werkzeug>=1.0.1->tensorboard<2.16,>=2.15->tensorflow) (2.1.5)\n",
            "Requirement already satisfied: pyasn1<0.7.0,>=0.4.6 in /usr/local/lib/python3.10/dist-packages (from pyasn1-modules>=0.2.1->google-auth<3,>=1.6.3->tensorboard<2.16,>=2.15->tensorflow) (0.6.0)\n",
            "Requirement already satisfied: oauthlib>=3.0.0 in /usr/local/lib/python3.10/dist-packages (from requests-oauthlib>=0.7.0->google-auth-oauthlib<2,>=0.5->tensorboard<2.16,>=2.15->tensorflow) (3.2.2)\n"
          ]
        }
      ]
    },
    {
      "cell_type": "code",
      "source": [
        "!wget http://dlib.net/files/shape_predictor_68_face_landmarks.dat.bz2\n",
        "!bzip2 -dk shape_predictor_68_face_landmarks.dat.bz2\n",
        "!wget http://dlib.net/files/dlib_face_recognition_resnet_model_v1.dat.bz2\n",
        "!bzip2 -dk dlib_face_recognition_resnet_model_v1.dat.bz2\n"
      ],
      "metadata": {
        "colab": {
          "base_uri": "https://localhost:8080/"
        },
        "id": "G1tvYLcye0GI",
        "outputId": "5d1efe5c-42c0-4d05-eb88-c3a1a06f2974"
      },
      "execution_count": 27,
      "outputs": [
        {
          "output_type": "stream",
          "name": "stdout",
          "text": [
            "--2024-05-21 18:47:56--  http://dlib.net/files/shape_predictor_68_face_landmarks.dat.bz2\n",
            "Resolving dlib.net (dlib.net)... 107.180.26.78\n",
            "Connecting to dlib.net (dlib.net)|107.180.26.78|:80... connected.\n",
            "HTTP request sent, awaiting response... 200 OK\n",
            "Length: 64040097 (61M)\n",
            "Saving to: ‘shape_predictor_68_face_landmarks.dat.bz2’\n",
            "\n",
            "shape_predictor_68_ 100%[===================>]  61.07M  22.9MB/s    in 2.7s    \n",
            "\n",
            "2024-05-21 18:47:59 (22.9 MB/s) - ‘shape_predictor_68_face_landmarks.dat.bz2’ saved [64040097/64040097]\n",
            "\n",
            "--2024-05-21 18:48:32--  http://dlib.net/files/dlib_face_recognition_resnet_model_v1.dat.bz2\n",
            "Resolving dlib.net (dlib.net)... 107.180.26.78\n",
            "Connecting to dlib.net (dlib.net)|107.180.26.78|:80... connected.\n",
            "HTTP request sent, awaiting response... 200 OK\n",
            "Length: 21428389 (20M)\n",
            "Saving to: ‘dlib_face_recognition_resnet_model_v1.dat.bz2’\n",
            "\n",
            "dlib_face_recogniti 100%[===================>]  20.44M  26.3MB/s    in 0.8s    \n",
            "\n",
            "2024-05-21 18:48:33 (26.3 MB/s) - ‘dlib_face_recognition_resnet_model_v1.dat.bz2’ saved [21428389/21428389]\n",
            "\n"
          ]
        }
      ]
    },
    {
      "cell_type": "code",
      "source": [
        "from tensorflow.keras.models import Model\n",
        "# New modèle pour extraire les caractéristiques de la couche Flatten\n",
        "feature_extractor = Model(inputs=cnn_model.input, outputs=cnn_model.get_layer('flatten_layer').output)\n",
        "\n",
        "# extrait les caractéristiques pour les ensembles d'entraînement et de test\n",
        "x_train_sampled_feat_extracted = feature_extractor.predict(x_train_sampled_cnn)\n",
        "x_test_feat_extracted = feature_extractor.predict(x_test_scaled_cnn)\n",
        "\n"
      ],
      "metadata": {
        "colab": {
          "base_uri": "https://localhost:8080/"
        },
        "id": "wVw6Zw_geFYk",
        "outputId": "1edc85d6-0d8c-4d54-b2e5-a46c0607dc46"
      },
      "execution_count": 99,
      "outputs": [
        {
          "output_type": "stream",
          "name": "stdout",
          "text": [
            "705/705 [==============================] - 2s 3ms/step\n",
            "101/101 [==============================] - 0s 3ms/step\n"
          ]
        }
      ]
    },
    {
      "cell_type": "markdown",
      "source": [
        "##  Ancien traitement : TODO - regarder et supprimer si besoin"
      ],
      "metadata": {
        "id": "RmpLLVpmeY26"
      }
    },
    {
      "cell_type": "code",
      "source": [
        "# Predict the test set results\n",
        "y_test_pred_proba = cnn_model.predict(x_test_scaled_cnn)\n",
        "y_test_pred = np.argmax(y_test_pred_proba, axis=1)\n",
        "y_test_true = label_encoder.transform(y_test.ravel())"
      ],
      "metadata": {
        "colab": {
          "base_uri": "https://localhost:8080/"
        },
        "id": "G1h13vi1ark4",
        "outputId": "95413eca-5212-4f5e-eda6-63a8ced9cf8b"
      },
      "execution_count": 65,
      "outputs": [
        {
          "output_type": "stream",
          "name": "stdout",
          "text": [
            "101/101 [==============================] - 1s 8ms/step\n"
          ]
        }
      ]
    },
    {
      "cell_type": "code",
      "source": [
        "# cnn_model récuperer la couche flatten pour retourner les features\n",
        "x_train_sampled_feat_extracted = cnn_model.fit_transform(x_train_sampled, y_train_categorical)\n",
        "x_test_feat_extracted = cnn.transform(x_test)"
      ],
      "metadata": {
        "colab": {
          "base_uri": "https://localhost:8080/",
          "height": 180
        },
        "id": "jog6N7jUk-ej",
        "outputId": "b5dc203e-0e41-4a29-f39f-255696f00a56"
      },
      "execution_count": 19,
      "outputs": [
        {
          "output_type": "error",
          "ename": "AttributeError",
          "evalue": "'Sequential' object has no attribute 'fit_transform'",
          "traceback": [
            "\u001b[0;31m---------------------------------------------------------------------------\u001b[0m",
            "\u001b[0;31mAttributeError\u001b[0m                            Traceback (most recent call last)",
            "\u001b[0;32m<ipython-input-19-fe0c9ce3d984>\u001b[0m in \u001b[0;36m<cell line: 2>\u001b[0;34m()\u001b[0m\n\u001b[1;32m      1\u001b[0m \u001b[0;31m# cnn_model récuperer la couche flatten pour retourner les features\u001b[0m\u001b[0;34m\u001b[0m\u001b[0;34m\u001b[0m\u001b[0m\n\u001b[0;32m----> 2\u001b[0;31m \u001b[0mx_train_sampled_feat_extracted\u001b[0m \u001b[0;34m=\u001b[0m \u001b[0mcnn_model\u001b[0m\u001b[0;34m.\u001b[0m\u001b[0mfit_transform\u001b[0m\u001b[0;34m(\u001b[0m\u001b[0mx_train_sampled\u001b[0m\u001b[0;34m,\u001b[0m \u001b[0my_train_categorical\u001b[0m\u001b[0;34m)\u001b[0m\u001b[0;34m\u001b[0m\u001b[0;34m\u001b[0m\u001b[0m\n\u001b[0m\u001b[1;32m      3\u001b[0m \u001b[0mx_test_feat_extracted\u001b[0m \u001b[0;34m=\u001b[0m \u001b[0mcnn\u001b[0m\u001b[0;34m.\u001b[0m\u001b[0mtransform\u001b[0m\u001b[0;34m(\u001b[0m\u001b[0mx_test\u001b[0m\u001b[0;34m)\u001b[0m\u001b[0;34m\u001b[0m\u001b[0;34m\u001b[0m\u001b[0m\n",
            "\u001b[0;31mAttributeError\u001b[0m: 'Sequential' object has no attribute 'fit_transform'"
          ]
        }
      ]
    },
    {
      "cell_type": "code",
      "source": [
        "# Print accuracy\n",
        "def print_accuracy(y_true, y_pred):\n",
        "    print(\"Accuracy:\", accuracy_score(y_true, y_pred))\n",
        "\n",
        "# Print confusion matrix and classification report\n",
        "def get_confusion_matrix_and_results(y_true, y_pred):\n",
        "    cm = confusion_matrix(y_true, y_pred)\n",
        "    cr = classification_report(y_true, y_pred)\n",
        "    print(cr)\n",
        "    print(cm)\n",
        "\n",
        "# Print accuracy and confusion matrix\n",
        "print_accuracy(y_test_true, y_test_pred)\n",
        "get_confusion_matrix_and_results(y_test_true, y_test_pred)"
      ],
      "metadata": {
        "colab": {
          "base_uri": "https://localhost:8080/"
        },
        "id": "VUbL9jSMcxTT",
        "outputId": "3ce60fba-435f-4409-8cc2-ef83f6d15f8d"
      },
      "execution_count": 68,
      "outputs": [
        {
          "output_type": "stream",
          "name": "stdout",
          "text": [
            "Accuracy: 0.7742741180143615\n",
            "              precision    recall  f1-score   support\n",
            "\n",
            "           0       0.87      0.84      0.85      2500\n",
            "           1       0.49      0.55      0.52       692\n",
            "           2       0.13      0.18      0.15        11\n",
            "\n",
            "    accuracy                           0.77      3203\n",
            "   macro avg       0.50      0.52      0.51      3203\n",
            "weighted avg       0.78      0.77      0.78      3203\n",
            "\n",
            "[[2098  391   11]\n",
            " [ 310  380    2]\n",
            " [   7    2    2]]\n"
          ]
        }
      ]
    },
    {
      "cell_type": "code",
      "execution_count": 69,
      "metadata": {
        "colab": {
          "base_uri": "https://localhost:8080/"
        },
        "id": "fHXsgADf1MKP",
        "outputId": "0e27a2fe-a1f9-4fdc-cdef-446a5994e60b"
      },
      "outputs": [
        {
          "output_type": "stream",
          "name": "stdout",
          "text": [
            "705/705 [==============================] - 3s 4ms/step - loss: 0.0535 - accuracy: 0.9766\n",
            "Accuracy: 0.9766338467597961\n"
          ]
        }
      ],
      "source": [
        "# La méthode score (print_score) n'existe pas pour les objets de type Sequential dans TensorFlow/Keras.\n",
        "# Dans Keras, l'évaluation des modèles se fait généralement avec les méthodes\n",
        "# evaluate ou predict pour obtenir des métriques\n",
        "\n",
        "\n",
        "# Évaluation du modèle\n",
        "loss, accuracy = cnn_model.evaluate(x_train_sampled, y_train_categorical, verbose=1)\n",
        "\n",
        "# Affichage de la précision du modèle\n",
        "print(\"Accuracy:\", accuracy)"
      ]
    },
    {
      "cell_type": "markdown",
      "metadata": {
        "id": "Xb28cMdtqqVB"
      },
      "source": [
        "## Features Extraction : LDA"
      ]
    },
    {
      "cell_type": "code",
      "execution_count": null,
      "metadata": {
        "id": "FlOmLuugqqVC"
      },
      "outputs": [],
      "source": [
        "from sklearn.discriminant_analysis import LinearDiscriminantAnalysis"
      ]
    },
    {
      "cell_type": "code",
      "execution_count": 16,
      "metadata": {
        "id": "l7fOusuaqqVC",
        "colab": {
          "base_uri": "https://localhost:8080/",
          "height": 180
        },
        "outputId": "f79413e6-d8ea-464d-f8e2-f5b511695a6c"
      },
      "outputs": [
        {
          "output_type": "error",
          "ename": "NameError",
          "evalue": "name 'LinearDiscriminantAnalysis' is not defined",
          "traceback": [
            "\u001b[0;31m---------------------------------------------------------------------------\u001b[0m",
            "\u001b[0;31mNameError\u001b[0m                                 Traceback (most recent call last)",
            "\u001b[0;32m<ipython-input-16-aebcadd4d731>\u001b[0m in \u001b[0;36m<cell line: 1>\u001b[0;34m()\u001b[0m\n\u001b[0;32m----> 1\u001b[0;31m \u001b[0mlda\u001b[0m \u001b[0;34m=\u001b[0m \u001b[0mLinearDiscriminantAnalysis\u001b[0m\u001b[0;34m(\u001b[0m\u001b[0mn_components\u001b[0m\u001b[0;34m=\u001b[0m\u001b[0;32mNone\u001b[0m\u001b[0;34m)\u001b[0m\u001b[0;34m\u001b[0m\u001b[0;34m\u001b[0m\u001b[0m\n\u001b[0m\u001b[1;32m      2\u001b[0m \u001b[0mx_train_sampled_feat_extracted\u001b[0m \u001b[0;34m=\u001b[0m \u001b[0mlda\u001b[0m\u001b[0;34m.\u001b[0m\u001b[0mfit_transform\u001b[0m\u001b[0;34m(\u001b[0m\u001b[0mx_train_sampled\u001b[0m\u001b[0;34m,\u001b[0m \u001b[0my_train_sampled\u001b[0m\u001b[0;34m)\u001b[0m\u001b[0;34m\u001b[0m\u001b[0;34m\u001b[0m\u001b[0m\n\u001b[1;32m      3\u001b[0m \u001b[0mx_test_feat_extracted\u001b[0m \u001b[0;34m=\u001b[0m \u001b[0mlda\u001b[0m\u001b[0;34m.\u001b[0m\u001b[0mtransform\u001b[0m\u001b[0;34m(\u001b[0m\u001b[0mx_test\u001b[0m\u001b[0;34m)\u001b[0m\u001b[0;34m\u001b[0m\u001b[0;34m\u001b[0m\u001b[0m\n",
            "\u001b[0;31mNameError\u001b[0m: name 'LinearDiscriminantAnalysis' is not defined"
          ]
        }
      ],
      "source": [
        "lda = LinearDiscriminantAnalysis(n_components=None)\n",
        "x_train_sampled_feat_extracted = lda.fit_transform(x_train_sampled, y_train_sampled)\n",
        "x_test_feat_extracted = lda.transform(x_test)"
      ]
    },
    {
      "cell_type": "markdown",
      "source": [
        "## Functions print_score, print_accuracy and get_confusion_matrix_and_results"
      ],
      "metadata": {
        "id": "OraOy2mliVCq"
      }
    },
    {
      "cell_type": "code",
      "execution_count": 95,
      "metadata": {
        "id": "JX4tEVfeqqVD"
      },
      "outputs": [],
      "source": [
        "def print_score(model):\n",
        "    score = model.score(x_train_sampled_feat_extracted, y_train_sampled.ravel())\n",
        "    print(\"Score : \" + str(score))\n",
        "\n",
        "\n",
        "def print_accuracy(y):\n",
        "    print(\"Accuracy:\", accuracy_score(y_test, y))\n",
        "\n",
        "\n",
        "def get_confusion_matrix_and_results(y):\n",
        "    # Create confusion matrix\n",
        "    cm = confusion_matrix(y_test, y)\n",
        "    cr = classification_report(y_test, y)\n",
        "\n",
        "    print(cr)\n",
        "    print(cm)"
      ]
    },
    {
      "cell_type": "markdown",
      "metadata": {
        "id": "nk-3GEaxqqVE"
      },
      "source": [
        "## Random Forest Algorithm"
      ]
    },
    {
      "cell_type": "code",
      "execution_count": 96,
      "metadata": {
        "id": "If0e6jB9qqVF"
      },
      "outputs": [],
      "source": [
        "from sklearn.ensemble import RandomForestClassifier"
      ]
    },
    {
      "cell_type": "code",
      "execution_count": 97,
      "metadata": {
        "colab": {
          "base_uri": "https://localhost:8080/"
        },
        "id": "KWahjOyyqqVF",
        "outputId": "a5b6b22b-6025-4ddc-dad2-b80c43dc6b28"
      },
      "outputs": [
        {
          "output_type": "stream",
          "name": "stdout",
          "text": [
            "Score : 0.999689633767846\n"
          ]
        }
      ],
      "source": [
        "random_forest = RandomForestClassifier(n_estimators= 20, criterion=\"entropy\", class_weight=\"balanced\")\n",
        "# random_forest.fit(x_train_sampled, y_train_sampled.ravel())\n",
        "random_forest.fit(x_train_sampled_feat_extracted, y_train_sampled.ravel())\n",
        "\n",
        "print_score(random_forest)"
      ]
    },
    {
      "cell_type": "code",
      "execution_count": 98,
      "metadata": {
        "colab": {
          "base_uri": "https://localhost:8080/"
        },
        "id": "TBWiSHWBqqVG",
        "outputId": "fccc822b-a8cf-4807-c796-3d263089b511"
      },
      "outputs": [
        {
          "output_type": "stream",
          "name": "stdout",
          "text": [
            "              precision    recall  f1-score   support\n",
            "\n",
            "         0.0       0.87      0.86      0.87      2500\n",
            "         1.0       0.52      0.55      0.53       692\n",
            "         2.0       0.09      0.09      0.09        11\n",
            "\n",
            "    accuracy                           0.79      3203\n",
            "   macro avg       0.49      0.50      0.50      3203\n",
            "weighted avg       0.79      0.79      0.79      3203\n",
            "\n",
            "[[2150  344    6]\n",
            " [ 310  378    4]\n",
            " [   9    1    1]]\n"
          ]
        }
      ],
      "source": [
        "# Predicting the test set result\n",
        "y_pred = random_forest.predict(x_test_feat_extracted)\n",
        "\n",
        "get_confusion_matrix_and_results(y_pred)"
      ]
    },
    {
      "cell_type": "markdown",
      "metadata": {
        "id": "wmHtxQtsqqVH"
      },
      "source": [
        "## Logistic Regression Algorithm"
      ]
    },
    {
      "cell_type": "code",
      "execution_count": 75,
      "metadata": {
        "id": "i5JggEIxqqVI"
      },
      "outputs": [],
      "source": [
        "from sklearn.linear_model import LogisticRegression"
      ]
    },
    {
      "cell_type": "code",
      "execution_count": 76,
      "metadata": {
        "colab": {
          "base_uri": "https://localhost:8080/"
        },
        "id": "5WM30c12qqVJ",
        "outputId": "1665bf3e-4b78-4347-c954-62f95d649555"
      },
      "outputs": [
        {
          "output_type": "stream",
          "name": "stdout",
          "text": [
            "Score : 0.9796931808104993\n"
          ]
        },
        {
          "output_type": "stream",
          "name": "stderr",
          "text": [
            "/usr/local/lib/python3.10/dist-packages/sklearn/linear_model/_logistic.py:458: ConvergenceWarning: lbfgs failed to converge (status=1):\n",
            "STOP: TOTAL NO. of ITERATIONS REACHED LIMIT.\n",
            "\n",
            "Increase the number of iterations (max_iter) or scale the data as shown in:\n",
            "    https://scikit-learn.org/stable/modules/preprocessing.html\n",
            "Please also refer to the documentation for alternative solver options:\n",
            "    https://scikit-learn.org/stable/modules/linear_model.html#logistic-regression\n",
            "  n_iter_i = _check_optimize_result(\n"
          ]
        }
      ],
      "source": [
        "logistic_regression = LogisticRegression(class_weight=\"balanced\")\n",
        "\n",
        "logistic_regression.fit(x_train_sampled_feat_extracted, y_train_sampled.ravel())\n",
        "\n",
        "print_score(logistic_regression)"
      ]
    },
    {
      "cell_type": "code",
      "execution_count": 78,
      "metadata": {
        "colab": {
          "base_uri": "https://localhost:8080/"
        },
        "id": "r4JAhelyqqVK",
        "outputId": "7a99aa3c-9ff9-46d4-e51f-78087222635f"
      },
      "outputs": [
        {
          "output_type": "stream",
          "name": "stdout",
          "text": [
            "              precision    recall  f1-score   support\n",
            "\n",
            "         0.0       0.87      0.85      0.86      2500\n",
            "         1.0       0.52      0.55      0.54       692\n",
            "         2.0       0.14      0.18      0.16        11\n",
            "\n",
            "    accuracy                           0.79      3203\n",
            "   macro avg       0.51      0.53      0.52      3203\n",
            "weighted avg       0.79      0.79      0.79      3203\n",
            "\n",
            "[[2136  354   10]\n",
            " [ 306  384    2]\n",
            " [   7    2    2]]\n"
          ]
        }
      ],
      "source": [
        "# Prediction on the test set\n",
        "y_pred = logistic_regression.predict(x_test_feat_extracted)\n",
        "\n",
        "get_confusion_matrix_and_results(y_pred)"
      ]
    },
    {
      "cell_type": "markdown",
      "metadata": {
        "id": "q2tnEavJqqVL"
      },
      "source": [
        "## K-Nearest Neighbours (KNN)"
      ]
    },
    {
      "cell_type": "code",
      "execution_count": 79,
      "metadata": {
        "id": "ykSCBnmDqqVM"
      },
      "outputs": [],
      "source": [
        "from sklearn.neighbors import KNeighborsClassifier"
      ]
    },
    {
      "cell_type": "code",
      "execution_count": 80,
      "metadata": {
        "colab": {
          "base_uri": "https://localhost:8080/"
        },
        "id": "CXQ__lT-qqVM",
        "outputId": "fdd27561-dcfd-47e5-fe56-2093fe6b71db"
      },
      "outputs": [
        {
          "output_type": "stream",
          "name": "stdout",
          "text": [
            "Score : 0.9487452336614348\n"
          ]
        }
      ],
      "source": [
        "knn = KNeighborsClassifier(n_neighbors=20, weights=\"uniform\")\n",
        "\n",
        "knn.fit(x_train_sampled_feat_extracted, y_train_sampled.ravel())\n",
        "\n",
        "\n",
        "print_score(knn)"
      ]
    },
    {
      "cell_type": "code",
      "execution_count": 81,
      "metadata": {
        "colab": {
          "base_uri": "https://localhost:8080/"
        },
        "id": "ghYnVWGEqqVN",
        "outputId": "c586ba7f-2443-4997-e201-2fb6ab79504f"
      },
      "outputs": [
        {
          "output_type": "stream",
          "name": "stdout",
          "text": [
            "              precision    recall  f1-score   support\n",
            "\n",
            "         0.0       0.88      0.80      0.84      2500\n",
            "         1.0       0.47      0.62      0.54       692\n",
            "         2.0       0.11      0.18      0.13        11\n",
            "\n",
            "    accuracy                           0.76      3203\n",
            "   macro avg       0.49      0.54      0.50      3203\n",
            "weighted avg       0.79      0.76      0.77      3203\n",
            "\n",
            "[[2012  473   15]\n",
            " [ 262  428    2]\n",
            " [   8    1    2]]\n"
          ]
        }
      ],
      "source": [
        "# Prediction on the test set\n",
        "y_pred = knn.predict(x_test_feat_extracted)\n",
        "\n",
        "\n",
        "get_confusion_matrix_and_results(y_pred)"
      ]
    },
    {
      "cell_type": "markdown",
      "metadata": {
        "id": "zAPMSL5MqqVO"
      },
      "source": [
        "## Decision Tree"
      ]
    },
    {
      "cell_type": "code",
      "execution_count": 82,
      "metadata": {
        "id": "QxXi9JZrqqVO"
      },
      "outputs": [],
      "source": [
        "from sklearn.tree import DecisionTreeClassifier"
      ]
    },
    {
      "cell_type": "code",
      "execution_count": 83,
      "metadata": {
        "colab": {
          "base_uri": "https://localhost:8080/"
        },
        "id": "ZFStnhhlqqVP",
        "outputId": "fa1b6b90-91a1-4f42-f8f2-86f21edc9ef8"
      },
      "outputs": [
        {
          "output_type": "stream",
          "name": "stdout",
          "text": [
            "Score : 1.0\n"
          ]
        }
      ],
      "source": [
        "decision_tree = DecisionTreeClassifier(class_weight=\"balanced\")\n",
        "\n",
        "decision_tree.fit(x_train_sampled_feat_extracted, y_train_sampled)\n",
        "\n",
        "print_score(decision_tree)"
      ]
    },
    {
      "cell_type": "code",
      "execution_count": 84,
      "metadata": {
        "colab": {
          "base_uri": "https://localhost:8080/"
        },
        "id": "JkrzA6ftqqVQ",
        "outputId": "82d12984-e157-4e95-fb7d-befc4a4a8a00"
      },
      "outputs": [
        {
          "output_type": "stream",
          "name": "stdout",
          "text": [
            "              precision    recall  f1-score   support\n",
            "\n",
            "         0.0       0.86      0.80      0.83      2500\n",
            "         1.0       0.43      0.53      0.48       692\n",
            "         2.0       0.05      0.09      0.06        11\n",
            "\n",
            "    accuracy                           0.74      3203\n",
            "   macro avg       0.45      0.47      0.46      3203\n",
            "weighted avg       0.76      0.74      0.75      3203\n",
            "\n",
            "[[2002  482   16]\n",
            " [ 319  369    4]\n",
            " [   7    3    1]]\n"
          ]
        }
      ],
      "source": [
        "y_pred = decision_tree.predict(x_test_feat_extracted)\n",
        "\n",
        "\n",
        "get_confusion_matrix_and_results(y_pred)"
      ]
    },
    {
      "cell_type": "markdown",
      "metadata": {
        "id": "bQrxGl_BqqVQ"
      },
      "source": [
        "# Best classifier selection"
      ]
    },
    {
      "cell_type": "code",
      "execution_count": 85,
      "metadata": {
        "id": "Reaq7SvmqqVR"
      },
      "outputs": [],
      "source": [
        "from sklearn.ensemble import VotingClassifier"
      ]
    },
    {
      "cell_type": "code",
      "execution_count": 86,
      "metadata": {
        "colab": {
          "base_uri": "https://localhost:8080/"
        },
        "id": "7B7MEUMsqqVS",
        "outputId": "4c394774-e91e-40a2-c32e-14f1a223fac5"
      },
      "outputs": [
        {
          "output_type": "stream",
          "name": "stderr",
          "text": [
            "/usr/local/lib/python3.10/dist-packages/sklearn/linear_model/_logistic.py:458: ConvergenceWarning: lbfgs failed to converge (status=1):\n",
            "STOP: TOTAL NO. of ITERATIONS REACHED LIMIT.\n",
            "\n",
            "Increase the number of iterations (max_iter) or scale the data as shown in:\n",
            "    https://scikit-learn.org/stable/modules/preprocessing.html\n",
            "Please also refer to the documentation for alternative solver options:\n",
            "    https://scikit-learn.org/stable/modules/linear_model.html#logistic-regression\n",
            "  n_iter_i = _check_optimize_result(\n"
          ]
        },
        {
          "output_type": "stream",
          "name": "stdout",
          "text": [
            "Score : 0.9980934645739115\n"
          ]
        }
      ],
      "source": [
        "voting_clf = VotingClassifier(estimators=[('rf', random_forest), ('knn', knn), ('arbre decisionnel', decision_tree), ('logistic regression', logistic_regression)], voting='soft')\n",
        "voting_clf.fit(x_train_sampled_feat_extracted, y_train_sampled)\n",
        "\n",
        "print_score(voting_clf)"
      ]
    },
    {
      "cell_type": "code",
      "execution_count": 87,
      "metadata": {
        "colab": {
          "base_uri": "https://localhost:8080/"
        },
        "id": "9vLmktr-qqVT",
        "outputId": "2dc06758-b65f-4d3e-d019-8bdb71f74d63"
      },
      "outputs": [
        {
          "output_type": "stream",
          "name": "stdout",
          "text": [
            "              precision    recall  f1-score   support\n",
            "\n",
            "         0.0       0.88      0.85      0.86      2500\n",
            "         1.0       0.52      0.59      0.55       692\n",
            "         2.0       0.13      0.18      0.15        11\n",
            "\n",
            "    accuracy                           0.79      3203\n",
            "   macro avg       0.51      0.54      0.52      3203\n",
            "weighted avg       0.80      0.79      0.79      3203\n",
            "\n",
            "[[2123  367   10]\n",
            " [ 284  405    3]\n",
            " [   7    2    2]]\n"
          ]
        }
      ],
      "source": [
        "y_pred = voting_clf.predict(x_test_feat_extracted)\n",
        "\n",
        "get_confusion_matrix_and_results(y_pred)"
      ]
    },
    {
      "cell_type": "markdown",
      "metadata": {
        "id": "3tfykxosqqVT"
      },
      "source": [
        "# Boosting\n",
        "We are going to create a strong model with the Boosting technique using our previous simple models."
      ]
    },
    {
      "cell_type": "code",
      "execution_count": 88,
      "metadata": {
        "id": "4PoGWqBHqqVU"
      },
      "outputs": [],
      "source": [
        "from sklearn.ensemble import AdaBoostClassifier"
      ]
    },
    {
      "cell_type": "code",
      "execution_count": 89,
      "metadata": {
        "id": "yx3UUD1NqqVU"
      },
      "outputs": [],
      "source": [
        "base_models = [\n",
        "    random_forest,\n",
        "    logistic_regression,\n",
        "    decision_tree\n",
        "]"
      ]
    },
    {
      "cell_type": "code",
      "execution_count": 90,
      "metadata": {
        "id": "jeVVE8tGqqVV"
      },
      "outputs": [],
      "source": [
        "adaboost_classifiers = []\n",
        "for base_model in base_models:\n",
        "    adaboost_classifier = AdaBoostClassifier(base_model, n_estimators=50, learning_rate=1)\n",
        "    adaboost_classifiers.append(adaboost_classifier)\n"
      ]
    },
    {
      "cell_type": "code",
      "execution_count": 91,
      "metadata": {
        "colab": {
          "base_uri": "https://localhost:8080/"
        },
        "id": "GKr6GaJ2qqVW",
        "outputId": "8e2a17f7-4ee6-407d-ee99-1023a77907d8"
      },
      "outputs": [
        {
          "output_type": "stream",
          "name": "stdout",
          "text": [
            "Base model used : RandomForestClassifier(class_weight='balanced', criterion='entropy',\n",
            "                       n_estimators=20)\n",
            "Score : 1.0\n",
            "              precision    recall  f1-score   support\n",
            "\n",
            "         0.0       0.88      0.86      0.87      2500\n",
            "         1.0       0.54      0.58      0.56       692\n",
            "         2.0       0.14      0.18      0.16        11\n",
            "\n",
            "    accuracy                           0.80      3203\n",
            "   macro avg       0.52      0.54      0.53      3203\n",
            "weighted avg       0.80      0.80      0.80      3203\n",
            "\n",
            "[[2149  342    9]\n",
            " [ 286  403    3]\n",
            " [   7    2    2]]\n",
            "\n",
            "Base model used : LogisticRegression(class_weight='balanced')\n",
            "Score : 0.9643965593686264\n",
            "              precision    recall  f1-score   support\n",
            "\n",
            "         0.0       0.88      0.83      0.85      2500\n",
            "         1.0       0.49      0.58      0.53       692\n",
            "         2.0       0.20      0.18      0.19        11\n",
            "\n",
            "    accuracy                           0.77      3203\n",
            "   macro avg       0.52      0.53      0.52      3203\n",
            "weighted avg       0.79      0.77      0.78      3203\n",
            "\n",
            "[[2079  415    6]\n",
            " [ 289  401    2]\n",
            " [   7    2    2]]\n",
            "\n",
            "Base model used : DecisionTreeClassifier(class_weight='balanced')\n",
            "Score : 1.0\n",
            "              precision    recall  f1-score   support\n",
            "\n",
            "         0.0       0.86      0.80      0.83      2500\n",
            "         1.0       0.44      0.55      0.49       692\n",
            "         2.0       0.05      0.09      0.07        11\n",
            "\n",
            "    accuracy                           0.74      3203\n",
            "   macro avg       0.45      0.48      0.46      3203\n",
            "weighted avg       0.77      0.74      0.75      3203\n",
            "\n",
            "[[2006  479   15]\n",
            " [ 311  378    3]\n",
            " [   8    2    1]]\n",
            "\n"
          ]
        }
      ],
      "source": [
        "# Train and evaluate each AdaBoost classifier\n",
        "for i, adaboost_classifier in enumerate(adaboost_classifiers):\n",
        "    print(\"Base model used :\", base_models[i])\n",
        "\n",
        "    # Train the AdaBoost classifier\n",
        "    adaboost_classifier.fit(x_train_sampled_feat_extracted, y_train_sampled)\n",
        "\n",
        "    print_score(adaboost_classifier)\n",
        "\n",
        "    # Make predictions on the test data\n",
        "    y_pred = adaboost_classifier.predict(x_test_feat_extracted)\n",
        "\n",
        "    get_confusion_matrix_and_results(y_pred)\n",
        "\n",
        "    print(\"\")"
      ]
    },
    {
      "cell_type": "markdown",
      "metadata": {
        "id": "QUtbIoWfqqVW"
      },
      "source": [
        "## DESlib library\n",
        "We are using the DESlib library to select the best classifier."
      ]
    },
    {
      "cell_type": "code",
      "execution_count": null,
      "metadata": {
        "id": "v3lBx6TnqqVW"
      },
      "outputs": [],
      "source": [
        "# from deslib.des.des_clustering import DESClustering"
      ]
    },
    {
      "cell_type": "code",
      "execution_count": null,
      "metadata": {
        "id": "jrmpCoNbqqVX"
      },
      "outputs": [],
      "source": [
        "# des = DESClustering(pool_classifiers=[knn, random_forest, decision_tree])\n",
        "# des.fit(x_train_sampled_feat_extracted, y_train_sampled.ravel())\n",
        "\n",
        "# print_score(des)"
      ]
    },
    {
      "cell_type": "code",
      "execution_count": null,
      "metadata": {
        "id": "4NwDh3fhqqVX"
      },
      "outputs": [],
      "source": [
        "# y_pred = des.predict(x_test_feat_extracted)\n",
        "\n",
        "\n",
        "# get_confusion_matrix_and_results(y_pred)"
      ]
    }
  ],
  "metadata": {
    "colab": {
      "provenance": []
    },
    "kernelspec": {
      "display_name": "env",
      "language": "python",
      "name": "python3"
    },
    "language_info": {
      "codemirror_mode": {
        "name": "ipython",
        "version": 3
      },
      "file_extension": ".py",
      "mimetype": "text/x-python",
      "name": "python",
      "nbconvert_exporter": "python",
      "pygments_lexer": "ipython3",
      "version": "3.11.9"
    }
  },
  "nbformat": 4,
  "nbformat_minor": 0
}