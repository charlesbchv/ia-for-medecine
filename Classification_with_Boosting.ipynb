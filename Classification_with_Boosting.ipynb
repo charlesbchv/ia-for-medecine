{
  "cells": [
    {
      "cell_type": "markdown",
      "metadata": {
        "id": "rLaebpXyqqUr"
      },
      "source": [
        "# Classic classification algorithms"
      ]
    },
    {
      "cell_type": "markdown",
      "metadata": {
        "id": "SDqYjKwDqqUw"
      },
      "source": [
        "We are going to classify our datasets using multiple classification algorithms and evaluate their performances."
      ]
    },
    {
      "cell_type": "code",
      "execution_count": 1,
      "metadata": {
        "colab": {
          "base_uri": "https://localhost:8080/"
        },
        "id": "XTL6llluqqUy",
        "outputId": "5f7f549b-6113-4e7e-c536-0a5d2301d87b"
      },
      "outputs": [
        {
          "output_type": "stream",
          "name": "stdout",
          "text": [
            "scikit-learn is not installed. Installing...\n",
            "Requirement already satisfied: scikit-learn in /usr/local/lib/python3.10/dist-packages (1.2.2)\n",
            "Requirement already satisfied: numpy>=1.17.3 in /usr/local/lib/python3.10/dist-packages (from scikit-learn) (1.25.2)\n",
            "Requirement already satisfied: scipy>=1.3.2 in /usr/local/lib/python3.10/dist-packages (from scikit-learn) (1.11.4)\n",
            "Requirement already satisfied: joblib>=1.1.1 in /usr/local/lib/python3.10/dist-packages (from scikit-learn) (1.4.2)\n",
            "Requirement already satisfied: threadpoolctl>=2.0.0 in /usr/local/lib/python3.10/dist-packages (from scikit-learn) (3.5.0)\n",
            "imblearn is already installed.\n",
            "deslib is not installed. Installing...\n",
            "Collecting deslib\n",
            "  Downloading DESlib-0.3.7-py3-none-any.whl (172 kB)\n",
            "\u001b[2K     \u001b[90m━━━━━━━━━━━━━━━━━━━━━━━━━━━━━━━━━━━━━━━━\u001b[0m \u001b[32m172.6/172.6 kB\u001b[0m \u001b[31m1.2 MB/s\u001b[0m eta \u001b[36m0:00:00\u001b[0m\n",
            "\u001b[?25hRequirement already satisfied: scikit-learn>=1.0.2 in /usr/local/lib/python3.10/dist-packages (from deslib) (1.2.2)\n",
            "Requirement already satisfied: numpy>=1.17.0 in /usr/local/lib/python3.10/dist-packages (from deslib) (1.25.2)\n",
            "Requirement already satisfied: scipy>=1.4.0 in /usr/local/lib/python3.10/dist-packages (from deslib) (1.11.4)\n",
            "Requirement already satisfied: joblib>=1.1.1 in /usr/local/lib/python3.10/dist-packages (from scikit-learn>=1.0.2->deslib) (1.4.2)\n",
            "Requirement already satisfied: threadpoolctl>=2.0.0 in /usr/local/lib/python3.10/dist-packages (from scikit-learn>=1.0.2->deslib) (3.5.0)\n",
            "Installing collected packages: deslib\n",
            "Successfully installed deslib-0.3.7\n"
          ]
        }
      ],
      "source": [
        "# Packages to install\n",
        "packages_to_install = ['scikit-learn', 'imblearn', 'deslib']\n",
        "\n",
        "# Check if they are already installed\n",
        "import importlib\n",
        "for package in packages_to_install:\n",
        "    try:\n",
        "        importlib.import_module(package)\n",
        "        print(f\"{package} is already installed.\")\n",
        "    except ImportError:\n",
        "        print(f\"{package} is not installed. Installing...\")\n",
        "        !pip install {package}"
      ]
    },
    {
      "cell_type": "code",
      "execution_count": 2,
      "metadata": {
        "id": "rznrNVCXqqU1"
      },
      "outputs": [],
      "source": [
        "import pandas as pd\n",
        "from sklearn.model_selection import train_test_split\n",
        "from sklearn.preprocessing import StandardScaler\n",
        "from sklearn.metrics import confusion_matrix, classification_report, accuracy_score\n",
        "from imblearn.over_sampling import SMOTE"
      ]
    },
    {
      "cell_type": "markdown",
      "metadata": {
        "id": "0XZ0f-MHqqU2"
      },
      "source": [
        "## Load Dataset"
      ]
    },
    {
      "cell_type": "code",
      "execution_count": 4,
      "metadata": {
        "colab": {
          "base_uri": "https://localhost:8080/",
          "height": 195
        },
        "id": "Iwxcot_nqqU3",
        "outputId": "d769a92c-c321-49aa-890b-a4955963c2b7"
      },
      "outputs": [
        {
          "output_type": "execute_result",
          "data": {
            "text/plain": [
              "              0           1          2           3            4         5   \\\n",
              "count      12810       12810      12810       12810        12810     12810   \n",
              "unique     12792       12810      12809       12810        12810     12724   \n",
              "top     0.590555  220.110174  21.125644  714.120693  3719.146472  0.000000   \n",
              "freq           2           1          2           1            1         6   \n",
              "\n",
              "              6         8           9         10          11          12  \\\n",
              "count      12810     12810       12810     12810       12810       12810   \n",
              "unique     12710     12792       12810     12809       12810       12810   \n",
              "top     0.705523  0.476584  345.489585  8.802629  353.379868  679.766033   \n",
              "freq           2         2           1         2           1           1   \n",
              "\n",
              "              13        14  \n",
              "count      12810     12810  \n",
              "unique     12724     12717  \n",
              "top     0.000000  0.425668  \n",
              "freq           6         2  "
            ],
            "text/html": [
              "\n",
              "  <div id=\"df-4ad03fbe-56a3-48f9-aca0-87539f46d677\" class=\"colab-df-container\">\n",
              "    <div>\n",
              "<style scoped>\n",
              "    .dataframe tbody tr th:only-of-type {\n",
              "        vertical-align: middle;\n",
              "    }\n",
              "\n",
              "    .dataframe tbody tr th {\n",
              "        vertical-align: top;\n",
              "    }\n",
              "\n",
              "    .dataframe thead th {\n",
              "        text-align: right;\n",
              "    }\n",
              "</style>\n",
              "<table border=\"1\" class=\"dataframe\">\n",
              "  <thead>\n",
              "    <tr style=\"text-align: right;\">\n",
              "      <th></th>\n",
              "      <th>0</th>\n",
              "      <th>1</th>\n",
              "      <th>2</th>\n",
              "      <th>3</th>\n",
              "      <th>4</th>\n",
              "      <th>5</th>\n",
              "      <th>6</th>\n",
              "      <th>8</th>\n",
              "      <th>9</th>\n",
              "      <th>10</th>\n",
              "      <th>11</th>\n",
              "      <th>12</th>\n",
              "      <th>13</th>\n",
              "      <th>14</th>\n",
              "    </tr>\n",
              "  </thead>\n",
              "  <tbody>\n",
              "    <tr>\n",
              "      <th>count</th>\n",
              "      <td>12810</td>\n",
              "      <td>12810</td>\n",
              "      <td>12810</td>\n",
              "      <td>12810</td>\n",
              "      <td>12810</td>\n",
              "      <td>12810</td>\n",
              "      <td>12810</td>\n",
              "      <td>12810</td>\n",
              "      <td>12810</td>\n",
              "      <td>12810</td>\n",
              "      <td>12810</td>\n",
              "      <td>12810</td>\n",
              "      <td>12810</td>\n",
              "      <td>12810</td>\n",
              "    </tr>\n",
              "    <tr>\n",
              "      <th>unique</th>\n",
              "      <td>12792</td>\n",
              "      <td>12810</td>\n",
              "      <td>12809</td>\n",
              "      <td>12810</td>\n",
              "      <td>12810</td>\n",
              "      <td>12724</td>\n",
              "      <td>12710</td>\n",
              "      <td>12792</td>\n",
              "      <td>12810</td>\n",
              "      <td>12809</td>\n",
              "      <td>12810</td>\n",
              "      <td>12810</td>\n",
              "      <td>12724</td>\n",
              "      <td>12717</td>\n",
              "    </tr>\n",
              "    <tr>\n",
              "      <th>top</th>\n",
              "      <td>0.590555</td>\n",
              "      <td>220.110174</td>\n",
              "      <td>21.125644</td>\n",
              "      <td>714.120693</td>\n",
              "      <td>3719.146472</td>\n",
              "      <td>0.000000</td>\n",
              "      <td>0.705523</td>\n",
              "      <td>0.476584</td>\n",
              "      <td>345.489585</td>\n",
              "      <td>8.802629</td>\n",
              "      <td>353.379868</td>\n",
              "      <td>679.766033</td>\n",
              "      <td>0.000000</td>\n",
              "      <td>0.425668</td>\n",
              "    </tr>\n",
              "    <tr>\n",
              "      <th>freq</th>\n",
              "      <td>2</td>\n",
              "      <td>1</td>\n",
              "      <td>2</td>\n",
              "      <td>1</td>\n",
              "      <td>1</td>\n",
              "      <td>6</td>\n",
              "      <td>2</td>\n",
              "      <td>2</td>\n",
              "      <td>1</td>\n",
              "      <td>2</td>\n",
              "      <td>1</td>\n",
              "      <td>1</td>\n",
              "      <td>6</td>\n",
              "      <td>2</td>\n",
              "    </tr>\n",
              "  </tbody>\n",
              "</table>\n",
              "</div>\n",
              "    <div class=\"colab-df-buttons\">\n",
              "\n",
              "  <div class=\"colab-df-container\">\n",
              "    <button class=\"colab-df-convert\" onclick=\"convertToInteractive('df-4ad03fbe-56a3-48f9-aca0-87539f46d677')\"\n",
              "            title=\"Convert this dataframe to an interactive table.\"\n",
              "            style=\"display:none;\">\n",
              "\n",
              "  <svg xmlns=\"http://www.w3.org/2000/svg\" height=\"24px\" viewBox=\"0 -960 960 960\">\n",
              "    <path d=\"M120-120v-720h720v720H120Zm60-500h600v-160H180v160Zm220 220h160v-160H400v160Zm0 220h160v-160H400v160ZM180-400h160v-160H180v160Zm440 0h160v-160H620v160ZM180-180h160v-160H180v160Zm440 0h160v-160H620v160Z\"/>\n",
              "  </svg>\n",
              "    </button>\n",
              "\n",
              "  <style>\n",
              "    .colab-df-container {\n",
              "      display:flex;\n",
              "      gap: 12px;\n",
              "    }\n",
              "\n",
              "    .colab-df-convert {\n",
              "      background-color: #E8F0FE;\n",
              "      border: none;\n",
              "      border-radius: 50%;\n",
              "      cursor: pointer;\n",
              "      display: none;\n",
              "      fill: #1967D2;\n",
              "      height: 32px;\n",
              "      padding: 0 0 0 0;\n",
              "      width: 32px;\n",
              "    }\n",
              "\n",
              "    .colab-df-convert:hover {\n",
              "      background-color: #E2EBFA;\n",
              "      box-shadow: 0px 1px 2px rgba(60, 64, 67, 0.3), 0px 1px 3px 1px rgba(60, 64, 67, 0.15);\n",
              "      fill: #174EA6;\n",
              "    }\n",
              "\n",
              "    .colab-df-buttons div {\n",
              "      margin-bottom: 4px;\n",
              "    }\n",
              "\n",
              "    [theme=dark] .colab-df-convert {\n",
              "      background-color: #3B4455;\n",
              "      fill: #D2E3FC;\n",
              "    }\n",
              "\n",
              "    [theme=dark] .colab-df-convert:hover {\n",
              "      background-color: #434B5C;\n",
              "      box-shadow: 0px 1px 3px 1px rgba(0, 0, 0, 0.15);\n",
              "      filter: drop-shadow(0px 1px 2px rgba(0, 0, 0, 0.3));\n",
              "      fill: #FFFFFF;\n",
              "    }\n",
              "  </style>\n",
              "\n",
              "    <script>\n",
              "      const buttonEl =\n",
              "        document.querySelector('#df-4ad03fbe-56a3-48f9-aca0-87539f46d677 button.colab-df-convert');\n",
              "      buttonEl.style.display =\n",
              "        google.colab.kernel.accessAllowed ? 'block' : 'none';\n",
              "\n",
              "      async function convertToInteractive(key) {\n",
              "        const element = document.querySelector('#df-4ad03fbe-56a3-48f9-aca0-87539f46d677');\n",
              "        const dataTable =\n",
              "          await google.colab.kernel.invokeFunction('convertToInteractive',\n",
              "                                                    [key], {});\n",
              "        if (!dataTable) return;\n",
              "\n",
              "        const docLinkHtml = 'Like what you see? Visit the ' +\n",
              "          '<a target=\"_blank\" href=https://colab.research.google.com/notebooks/data_table.ipynb>data table notebook</a>'\n",
              "          + ' to learn more about interactive tables.';\n",
              "        element.innerHTML = '';\n",
              "        dataTable['output_type'] = 'display_data';\n",
              "        await google.colab.output.renderOutput(dataTable, element);\n",
              "        const docLink = document.createElement('div');\n",
              "        docLink.innerHTML = docLinkHtml;\n",
              "        element.appendChild(docLink);\n",
              "      }\n",
              "    </script>\n",
              "  </div>\n",
              "\n",
              "\n",
              "<div id=\"df-ca1a8497-fbdc-42d3-b7a5-7ed5aeef2c70\">\n",
              "  <button class=\"colab-df-quickchart\" onclick=\"quickchart('df-ca1a8497-fbdc-42d3-b7a5-7ed5aeef2c70')\"\n",
              "            title=\"Suggest charts\"\n",
              "            style=\"display:none;\">\n",
              "\n",
              "<svg xmlns=\"http://www.w3.org/2000/svg\" height=\"24px\"viewBox=\"0 0 24 24\"\n",
              "     width=\"24px\">\n",
              "    <g>\n",
              "        <path d=\"M19 3H5c-1.1 0-2 .9-2 2v14c0 1.1.9 2 2 2h14c1.1 0 2-.9 2-2V5c0-1.1-.9-2-2-2zM9 17H7v-7h2v7zm4 0h-2V7h2v10zm4 0h-2v-4h2v4z\"/>\n",
              "    </g>\n",
              "</svg>\n",
              "  </button>\n",
              "\n",
              "<style>\n",
              "  .colab-df-quickchart {\n",
              "      --bg-color: #E8F0FE;\n",
              "      --fill-color: #1967D2;\n",
              "      --hover-bg-color: #E2EBFA;\n",
              "      --hover-fill-color: #174EA6;\n",
              "      --disabled-fill-color: #AAA;\n",
              "      --disabled-bg-color: #DDD;\n",
              "  }\n",
              "\n",
              "  [theme=dark] .colab-df-quickchart {\n",
              "      --bg-color: #3B4455;\n",
              "      --fill-color: #D2E3FC;\n",
              "      --hover-bg-color: #434B5C;\n",
              "      --hover-fill-color: #FFFFFF;\n",
              "      --disabled-bg-color: #3B4455;\n",
              "      --disabled-fill-color: #666;\n",
              "  }\n",
              "\n",
              "  .colab-df-quickchart {\n",
              "    background-color: var(--bg-color);\n",
              "    border: none;\n",
              "    border-radius: 50%;\n",
              "    cursor: pointer;\n",
              "    display: none;\n",
              "    fill: var(--fill-color);\n",
              "    height: 32px;\n",
              "    padding: 0;\n",
              "    width: 32px;\n",
              "  }\n",
              "\n",
              "  .colab-df-quickchart:hover {\n",
              "    background-color: var(--hover-bg-color);\n",
              "    box-shadow: 0 1px 2px rgba(60, 64, 67, 0.3), 0 1px 3px 1px rgba(60, 64, 67, 0.15);\n",
              "    fill: var(--button-hover-fill-color);\n",
              "  }\n",
              "\n",
              "  .colab-df-quickchart-complete:disabled,\n",
              "  .colab-df-quickchart-complete:disabled:hover {\n",
              "    background-color: var(--disabled-bg-color);\n",
              "    fill: var(--disabled-fill-color);\n",
              "    box-shadow: none;\n",
              "  }\n",
              "\n",
              "  .colab-df-spinner {\n",
              "    border: 2px solid var(--fill-color);\n",
              "    border-color: transparent;\n",
              "    border-bottom-color: var(--fill-color);\n",
              "    animation:\n",
              "      spin 1s steps(1) infinite;\n",
              "  }\n",
              "\n",
              "  @keyframes spin {\n",
              "    0% {\n",
              "      border-color: transparent;\n",
              "      border-bottom-color: var(--fill-color);\n",
              "      border-left-color: var(--fill-color);\n",
              "    }\n",
              "    20% {\n",
              "      border-color: transparent;\n",
              "      border-left-color: var(--fill-color);\n",
              "      border-top-color: var(--fill-color);\n",
              "    }\n",
              "    30% {\n",
              "      border-color: transparent;\n",
              "      border-left-color: var(--fill-color);\n",
              "      border-top-color: var(--fill-color);\n",
              "      border-right-color: var(--fill-color);\n",
              "    }\n",
              "    40% {\n",
              "      border-color: transparent;\n",
              "      border-right-color: var(--fill-color);\n",
              "      border-top-color: var(--fill-color);\n",
              "    }\n",
              "    60% {\n",
              "      border-color: transparent;\n",
              "      border-right-color: var(--fill-color);\n",
              "    }\n",
              "    80% {\n",
              "      border-color: transparent;\n",
              "      border-right-color: var(--fill-color);\n",
              "      border-bottom-color: var(--fill-color);\n",
              "    }\n",
              "    90% {\n",
              "      border-color: transparent;\n",
              "      border-bottom-color: var(--fill-color);\n",
              "    }\n",
              "  }\n",
              "</style>\n",
              "\n",
              "  <script>\n",
              "    async function quickchart(key) {\n",
              "      const quickchartButtonEl =\n",
              "        document.querySelector('#' + key + ' button');\n",
              "      quickchartButtonEl.disabled = true;  // To prevent multiple clicks.\n",
              "      quickchartButtonEl.classList.add('colab-df-spinner');\n",
              "      try {\n",
              "        const charts = await google.colab.kernel.invokeFunction(\n",
              "            'suggestCharts', [key], {});\n",
              "      } catch (error) {\n",
              "        console.error('Error during call to suggestCharts:', error);\n",
              "      }\n",
              "      quickchartButtonEl.classList.remove('colab-df-spinner');\n",
              "      quickchartButtonEl.classList.add('colab-df-quickchart-complete');\n",
              "    }\n",
              "    (() => {\n",
              "      let quickchartButtonEl =\n",
              "        document.querySelector('#df-ca1a8497-fbdc-42d3-b7a5-7ed5aeef2c70 button');\n",
              "      quickchartButtonEl.style.display =\n",
              "        google.colab.kernel.accessAllowed ? 'block' : 'none';\n",
              "    })();\n",
              "  </script>\n",
              "</div>\n",
              "    </div>\n",
              "  </div>\n"
            ],
            "application/vnd.google.colaboratory.intrinsic+json": {
              "type": "dataframe",
              "summary": "{\n  \"name\": \"x\",\n  \"rows\": 4,\n  \"fields\": [\n    {\n      \"column\": 0,\n      \"properties\": {\n        \"dtype\": \"string\",\n        \"num_unique_values\": 4,\n        \"samples\": [\n          12792,\n          \"2\",\n          \"12810\"\n        ],\n        \"semantic_type\": \"\",\n        \"description\": \"\"\n      }\n    },\n    {\n      \"column\": 1,\n      \"properties\": {\n        \"dtype\": \"string\",\n        \"num_unique_values\": 3,\n        \"samples\": [\n          \"12810\",\n          \"220.110174\",\n          \"1\"\n        ],\n        \"semantic_type\": \"\",\n        \"description\": \"\"\n      }\n    },\n    {\n      \"column\": 2,\n      \"properties\": {\n        \"dtype\": \"string\",\n        \"num_unique_values\": 4,\n        \"samples\": [\n          12809,\n          \"2\",\n          \"12810\"\n        ],\n        \"semantic_type\": \"\",\n        \"description\": \"\"\n      }\n    },\n    {\n      \"column\": 3,\n      \"properties\": {\n        \"dtype\": \"string\",\n        \"num_unique_values\": 3,\n        \"samples\": [\n          \"12810\",\n          \"714.120693\",\n          \"1\"\n        ],\n        \"semantic_type\": \"\",\n        \"description\": \"\"\n      }\n    },\n    {\n      \"column\": 4,\n      \"properties\": {\n        \"dtype\": \"string\",\n        \"num_unique_values\": 3,\n        \"samples\": [\n          \"12810\",\n          \"3719.146472\",\n          \"1\"\n        ],\n        \"semantic_type\": \"\",\n        \"description\": \"\"\n      }\n    },\n    {\n      \"column\": 5,\n      \"properties\": {\n        \"dtype\": \"string\",\n        \"num_unique_values\": 4,\n        \"samples\": [\n          12724,\n          \"6\",\n          \"12810\"\n        ],\n        \"semantic_type\": \"\",\n        \"description\": \"\"\n      }\n    },\n    {\n      \"column\": 6,\n      \"properties\": {\n        \"dtype\": \"string\",\n        \"num_unique_values\": 4,\n        \"samples\": [\n          12710,\n          \"2\",\n          \"12810\"\n        ],\n        \"semantic_type\": \"\",\n        \"description\": \"\"\n      }\n    },\n    {\n      \"column\": 8,\n      \"properties\": {\n        \"dtype\": \"string\",\n        \"num_unique_values\": 4,\n        \"samples\": [\n          12792,\n          \"2\",\n          \"12810\"\n        ],\n        \"semantic_type\": \"\",\n        \"description\": \"\"\n      }\n    },\n    {\n      \"column\": 9,\n      \"properties\": {\n        \"dtype\": \"string\",\n        \"num_unique_values\": 3,\n        \"samples\": [\n          \"12810\",\n          \"345.489585\",\n          \"1\"\n        ],\n        \"semantic_type\": \"\",\n        \"description\": \"\"\n      }\n    },\n    {\n      \"column\": 10,\n      \"properties\": {\n        \"dtype\": \"string\",\n        \"num_unique_values\": 4,\n        \"samples\": [\n          12809,\n          \"2\",\n          \"12810\"\n        ],\n        \"semantic_type\": \"\",\n        \"description\": \"\"\n      }\n    },\n    {\n      \"column\": 11,\n      \"properties\": {\n        \"dtype\": \"string\",\n        \"num_unique_values\": 3,\n        \"samples\": [\n          \"12810\",\n          \"353.379868\",\n          \"1\"\n        ],\n        \"semantic_type\": \"\",\n        \"description\": \"\"\n      }\n    },\n    {\n      \"column\": 12,\n      \"properties\": {\n        \"dtype\": \"string\",\n        \"num_unique_values\": 3,\n        \"samples\": [\n          \"12810\",\n          \"679.766033\",\n          \"1\"\n        ],\n        \"semantic_type\": \"\",\n        \"description\": \"\"\n      }\n    },\n    {\n      \"column\": 13,\n      \"properties\": {\n        \"dtype\": \"string\",\n        \"num_unique_values\": 4,\n        \"samples\": [\n          12724,\n          \"6\",\n          \"12810\"\n        ],\n        \"semantic_type\": \"\",\n        \"description\": \"\"\n      }\n    },\n    {\n      \"column\": 14,\n      \"properties\": {\n        \"dtype\": \"string\",\n        \"num_unique_values\": 4,\n        \"samples\": [\n          12717,\n          \"2\",\n          \"12810\"\n        ],\n        \"semantic_type\": \"\",\n        \"description\": \"\"\n      }\n    }\n  ]\n}"
            }
          },
          "metadata": {},
          "execution_count": 4
        }
      ],
      "source": [
        "x1 = pd.read_csv(\"stand_norm_e1.txt\", header=None, delimiter=\" \")\n",
        "x2 = pd.read_csv(\"stand_norm_e2.txt\", header=None, delimiter=\" \", names=[8, 9, 10, 11, 12, 13, 14])\n",
        "y = pd.read_csv(\"y2_e1.txt\", header=None, delimiter=\" \", names=[\"label\"])\n",
        "x = pd.concat([x1, x2], axis=1)\n",
        "x = x[1:]\n",
        "\n",
        "x.describe()"
      ]
    },
    {
      "cell_type": "code",
      "execution_count": 5,
      "metadata": {
        "id": "UC9ApHTZqqU5"
      },
      "outputs": [],
      "source": [
        "# Splitting the dataset into training and test set.\n",
        "x_train, x_test, y_train, y_test = train_test_split(x.values, y.values, test_size = 0.25, random_state=0)\n",
        "\n",
        "# Feature Scaling\n",
        "# Adjust the mean to 0 and the standard deviation to 1\n",
        "st_x = StandardScaler()\n",
        "x_train = st_x.fit_transform(x_train)\n",
        "x_test = st_x.transform(x_test)\n"
      ]
    },
    {
      "cell_type": "code",
      "execution_count": 6,
      "metadata": {
        "id": "HeNvu29LqqU6"
      },
      "outputs": [],
      "source": [
        "# Oversample to have same number of samples of each class\n",
        "smote = SMOTE()\n",
        "x_train_sampled, y_train_sampled = smote.fit_resample(x_train, y_train)"
      ]
    },
    {
      "cell_type": "markdown",
      "metadata": {
        "id": "GKfDJ2m4qqU8"
      },
      "source": [
        "## Feature extraction : CNN\n",
        "We are going to extract features from the datasets using the CNN method, knowing that it has the best performances"
      ]
    },
    {
      "cell_type": "code",
      "execution_count": 79,
      "metadata": {
        "id": "lavZ6T-GqqU-"
      },
      "outputs": [],
      "source": [
        "import numpy as np\n",
        "import pandas as pd\n",
        "import tensorflow as tf\n",
        "from sklearn.model_selection import train_test_split\n",
        "from tensorflow.keras.models import Sequential\n",
        "from tensorflow.keras.layers import Dense, Conv1D, Flatten, MaxPooling1D, Dropout\n",
        "from tensorflow.keras.utils import to_categorical\n",
        "from sklearn.preprocessing import LabelEncoder\n",
        "\n",
        "# Vérification et reformattage de y_train_sampled pour la classification multiclasse\n",
        "label_encoder = LabelEncoder()\n",
        "y_train_encoded = label_encoder.fit_transform(y_train_sampled.ravel())\n",
        "y_train_categorical = to_categorical(y_train_encoded)\n",
        "\n",
        "# Mise à jour de la dernière couche Dense pour qu'elle corresponde au nombre de classes\n",
        "#num_classes = y_train_categorical.shape[0]\n",
        "num_classes = y_train_categorical.shape[1]"
      ]
    },
    {
      "cell_type": "code",
      "source": [
        "cnn_model = Sequential([\n",
        "    # Augmente la taille de l'input si nécessaire ou ajuster les paramètres\n",
        "    Conv1D(128, 3, activation='relu', padding='same', input_shape=(x_train_sampled.shape[1], 1)),\n",
        "    MaxPooling1D(2),\n",
        "    # Ajout d'une seconde couche convolutive avec padding pour conserver la dimension\n",
        "    Conv1D(128, 3, activation='relu', padding='same'),\n",
        "    MaxPooling1D(2),\n",
        "    Flatten(),\n",
        "    Dense(100, activation='relu'),\n",
        "    Dropout(0.5),\n",
        "    Dense(num_classes, activation='softmax')\n",
        "])\n",
        "\n",
        "# Compilation du modèle avec la métrique correcte\n",
        "cnn_model.compile(optimizer='adam', loss='categorical_crossentropy', metrics=['accuracy'])"
      ],
      "metadata": {
        "id": "6wRsdm-41B37"
      },
      "execution_count": 80,
      "outputs": []
    },
    {
      "cell_type": "code",
      "source": [
        "# Entraînement du modèle\n",
        "cnn_model.fit(x_train_sampled, y_train_categorical, epochs=20, batch_size=20, verbose=1)"
      ],
      "metadata": {
        "colab": {
          "base_uri": "https://localhost:8080/"
        },
        "id": "dHTTvXu41FCQ",
        "outputId": "14816042-8054-4f36-9b8f-a82c6d5b3448"
      },
      "execution_count": 81,
      "outputs": [
        {
          "output_type": "stream",
          "name": "stdout",
          "text": [
            "Epoch 1/20\n",
            "1127/1127 [==============================] - 15s 11ms/step - loss: 0.5199 - accuracy: 0.7650\n",
            "Epoch 2/20\n",
            "1127/1127 [==============================] - 8s 7ms/step - loss: 0.3967 - accuracy: 0.8113\n",
            "Epoch 3/20\n",
            "1127/1127 [==============================] - 7s 6ms/step - loss: 0.3672 - accuracy: 0.8261\n",
            "Epoch 4/20\n",
            "1127/1127 [==============================] - 8s 7ms/step - loss: 0.3478 - accuracy: 0.8356\n",
            "Epoch 5/20\n",
            "1127/1127 [==============================] - 6s 6ms/step - loss: 0.3270 - accuracy: 0.8467\n",
            "Epoch 6/20\n",
            "1127/1127 [==============================] - 10s 9ms/step - loss: 0.3182 - accuracy: 0.8537\n",
            "Epoch 7/20\n",
            "1127/1127 [==============================] - 8s 7ms/step - loss: 0.3164 - accuracy: 0.8524\n",
            "Epoch 8/20\n",
            "1127/1127 [==============================] - 7s 6ms/step - loss: 0.3050 - accuracy: 0.8597\n",
            "Epoch 9/20\n",
            "1127/1127 [==============================] - 8s 7ms/step - loss: 0.2968 - accuracy: 0.8645\n",
            "Epoch 10/20\n",
            "1127/1127 [==============================] - 7s 6ms/step - loss: 0.2893 - accuracy: 0.8679\n",
            "Epoch 11/20\n",
            "1127/1127 [==============================] - 8s 7ms/step - loss: 0.2841 - accuracy: 0.8732\n",
            "Epoch 12/20\n",
            "1127/1127 [==============================] - 7s 6ms/step - loss: 0.2760 - accuracy: 0.8748\n",
            "Epoch 13/20\n",
            "1127/1127 [==============================] - 8s 7ms/step - loss: 0.2725 - accuracy: 0.8793\n",
            "Epoch 14/20\n",
            "1127/1127 [==============================] - 7s 6ms/step - loss: 0.2644 - accuracy: 0.8805\n",
            "Epoch 15/20\n",
            "1127/1127 [==============================] - 8s 7ms/step - loss: 0.2585 - accuracy: 0.8863\n",
            "Epoch 16/20\n",
            "1127/1127 [==============================] - 7s 6ms/step - loss: 0.2535 - accuracy: 0.8879\n",
            "Epoch 17/20\n",
            "1127/1127 [==============================] - 8s 7ms/step - loss: 0.2517 - accuracy: 0.8882\n",
            "Epoch 18/20\n",
            "1127/1127 [==============================] - 7s 6ms/step - loss: 0.2504 - accuracy: 0.8879\n",
            "Epoch 19/20\n",
            "1127/1127 [==============================] - 8s 7ms/step - loss: 0.2391 - accuracy: 0.8941\n",
            "Epoch 20/20\n",
            "1127/1127 [==============================] - 7s 6ms/step - loss: 0.2362 - accuracy: 0.8934\n"
          ]
        },
        {
          "output_type": "execute_result",
          "data": {
            "text/plain": [
              "<keras.src.callbacks.History at 0x7a842c0b0c40>"
            ]
          },
          "metadata": {},
          "execution_count": 81
        }
      ]
    },
    {
      "cell_type": "code",
      "source": [
        "# La méthode score (print_score) n'existe pas pour les objets de type Sequential dans TensorFlow/Keras.\n",
        "# Dans Keras, l'évaluation des modèles se fait généralement avec les méthodes\n",
        "# evaluate ou predict pour obtenir des métriques\n",
        "\n",
        "\n",
        "# Évaluation du modèle\n",
        "loss, accuracy = cnn_model.evaluate(x_train_sampled, y_train_categorical, verbose=1)\n",
        "\n",
        "# Affichage de la précision du modèle\n",
        "print(\"Accuracy:\", accuracy)"
      ],
      "metadata": {
        "colab": {
          "base_uri": "https://localhost:8080/"
        },
        "id": "fHXsgADf1MKP",
        "outputId": "9e2bff09-3334-4386-be60-9dcfd45d0a18"
      },
      "execution_count": 84,
      "outputs": [
        {
          "output_type": "stream",
          "name": "stdout",
          "text": [
            "704/704 [==============================] - 2s 3ms/step - loss: 0.2004 - accuracy: 0.9116\n",
            "Accuracy: 0.9116498231887817\n"
          ]
        }
      ]
    },
    {
      "cell_type": "markdown",
      "metadata": {
        "id": "Xb28cMdtqqVB"
      },
      "source": [
        "## Features Extraction : LDA"
      ]
    },
    {
      "cell_type": "code",
      "execution_count": 85,
      "metadata": {
        "id": "FlOmLuugqqVC"
      },
      "outputs": [],
      "source": [
        "from sklearn.discriminant_analysis import LinearDiscriminantAnalysis"
      ]
    },
    {
      "cell_type": "code",
      "execution_count": 86,
      "metadata": {
        "id": "l7fOusuaqqVC"
      },
      "outputs": [],
      "source": [
        "lda = LinearDiscriminantAnalysis(n_components=None)\n",
        "x_train_sampled_feat_extracted = lda.fit_transform(x_train_sampled, y_train_sampled)\n",
        "x_test_feat_extracted = lda.transform(x_test)"
      ]
    },
    {
      "cell_type": "code",
      "execution_count": 87,
      "metadata": {
        "id": "JX4tEVfeqqVD"
      },
      "outputs": [],
      "source": [
        "def print_score(model):\n",
        "    score = model.score(x_train_sampled_feat_extracted, y_train_sampled.ravel())\n",
        "    print(\"Score : \" + str(score))\n",
        "\n",
        "\n",
        "def print_accuracy(y):\n",
        "    print(\"Accuracy:\", accuracy_score(y_test, y))\n",
        "\n",
        "\n",
        "def get_confusion_matrix_and_results(y):\n",
        "    # Create confusion matrix\n",
        "    cm = confusion_matrix(y_test, y)\n",
        "    cr = classification_report(y_test, y)\n",
        "\n",
        "    print(cr)\n",
        "    print(cm)"
      ]
    },
    {
      "cell_type": "markdown",
      "metadata": {
        "id": "nk-3GEaxqqVE"
      },
      "source": [
        "## Random Forest Algorithm"
      ]
    },
    {
      "cell_type": "code",
      "execution_count": 88,
      "metadata": {
        "id": "If0e6jB9qqVF"
      },
      "outputs": [],
      "source": [
        "from sklearn.ensemble import RandomForestClassifier"
      ]
    },
    {
      "cell_type": "code",
      "execution_count": 89,
      "metadata": {
        "colab": {
          "base_uri": "https://localhost:8080/"
        },
        "id": "KWahjOyyqqVF",
        "outputId": "c6b621a5-bc2c-49f9-d466-6b1724425008"
      },
      "outputs": [
        {
          "output_type": "stream",
          "name": "stdout",
          "text": [
            "Score : 0.9946279524063222\n"
          ]
        }
      ],
      "source": [
        "random_forest = RandomForestClassifier(n_estimators= 20, criterion=\"entropy\", class_weight=\"balanced\")\n",
        "# random_forest.fit(x_train_sampled, y_train_sampled.ravel())\n",
        "random_forest.fit(x_train_sampled_feat_extracted, y_train_sampled.ravel())\n",
        "\n",
        "print_score(random_forest)"
      ]
    },
    {
      "cell_type": "code",
      "execution_count": 90,
      "metadata": {
        "colab": {
          "base_uri": "https://localhost:8080/"
        },
        "id": "TBWiSHWBqqVG",
        "outputId": "300f73f6-0caa-48ec-d9a0-01a1d27fdc54"
      },
      "outputs": [
        {
          "output_type": "stream",
          "name": "stdout",
          "text": [
            "              precision    recall  f1-score   support\n",
            "\n",
            "         0.0       0.85      0.63      0.72      2511\n",
            "         1.0       0.29      0.45      0.35       682\n",
            "         2.0       0.00      0.10      0.01        10\n",
            "\n",
            "    accuracy                           0.59      3203\n",
            "   macro avg       0.38      0.39      0.36      3203\n",
            "weighted avg       0.73      0.59      0.64      3203\n",
            "\n",
            "[[1578  727  206]\n",
            " [ 274  304  104]\n",
            " [   6    3    1]]\n"
          ]
        }
      ],
      "source": [
        "# Predicting the test set result\n",
        "y_pred = random_forest.predict(x_test_feat_extracted)\n",
        "\n",
        "get_confusion_matrix_and_results(y_pred)"
      ]
    },
    {
      "cell_type": "markdown",
      "metadata": {
        "id": "wmHtxQtsqqVH"
      },
      "source": [
        "## Logistic Regression Algorithm"
      ]
    },
    {
      "cell_type": "code",
      "execution_count": 91,
      "metadata": {
        "id": "i5JggEIxqqVI"
      },
      "outputs": [],
      "source": [
        "from sklearn.linear_model import LogisticRegression"
      ]
    },
    {
      "cell_type": "code",
      "execution_count": 92,
      "metadata": {
        "colab": {
          "base_uri": "https://localhost:8080/"
        },
        "id": "5WM30c12qqVJ",
        "outputId": "a460237b-5936-4616-b154-7745b213408d"
      },
      "outputs": [
        {
          "output_type": "stream",
          "name": "stdout",
          "text": [
            "Score : 0.5879950275261943\n"
          ]
        }
      ],
      "source": [
        "logistic_regression = LogisticRegression(class_weight=\"balanced\")\n",
        "\n",
        "logistic_regression.fit(x_train_sampled_feat_extracted, y_train_sampled.ravel())\n",
        "\n",
        "print_score(logistic_regression)"
      ]
    },
    {
      "cell_type": "code",
      "execution_count": 93,
      "metadata": {
        "colab": {
          "base_uri": "https://localhost:8080/"
        },
        "id": "r4JAhelyqqVK",
        "outputId": "44a6cfd9-b08c-4f8a-b866-2511fb96e5fa"
      },
      "outputs": [
        {
          "output_type": "stream",
          "name": "stdout",
          "text": [
            "              precision    recall  f1-score   support\n",
            "\n",
            "         0.0       0.88      0.65      0.75      2511\n",
            "         1.0       0.34      0.40      0.37       682\n",
            "         2.0       0.01      0.30      0.01        10\n",
            "\n",
            "    accuracy                           0.60      3203\n",
            "   macro avg       0.41      0.45      0.38      3203\n",
            "weighted avg       0.76      0.60      0.67      3203\n",
            "\n",
            "[[1644  531  336]\n",
            " [ 215  272  195]\n",
            " [   5    2    3]]\n"
          ]
        }
      ],
      "source": [
        "# Prediction on the test set\n",
        "y_pred = logistic_regression.predict(x_test_feat_extracted)\n",
        "\n",
        "get_confusion_matrix_and_results(y_pred)"
      ]
    },
    {
      "cell_type": "markdown",
      "metadata": {
        "id": "q2tnEavJqqVL"
      },
      "source": [
        "## K-Nearest Neighbours (KNN)"
      ]
    },
    {
      "cell_type": "code",
      "execution_count": 94,
      "metadata": {
        "id": "ykSCBnmDqqVM"
      },
      "outputs": [],
      "source": [
        "from sklearn.neighbors import KNeighborsClassifier"
      ]
    },
    {
      "cell_type": "code",
      "execution_count": 95,
      "metadata": {
        "colab": {
          "base_uri": "https://localhost:8080/"
        },
        "id": "CXQ__lT-qqVM",
        "outputId": "938dca2d-47f7-4bc2-b057-b50a049c3a20"
      },
      "outputs": [
        {
          "output_type": "stream",
          "name": "stdout",
          "text": [
            "Score : 0.7187444503640561\n"
          ]
        }
      ],
      "source": [
        "knn = KNeighborsClassifier(n_neighbors=20, weights=\"uniform\")\n",
        "\n",
        "knn.fit(x_train_sampled_feat_extracted, y_train_sampled.ravel())\n",
        "\n",
        "\n",
        "print_score(knn)"
      ]
    },
    {
      "cell_type": "code",
      "execution_count": 96,
      "metadata": {
        "colab": {
          "base_uri": "https://localhost:8080/"
        },
        "id": "ghYnVWGEqqVN",
        "outputId": "4c0f5550-4cfc-4142-f888-753b66e96dac"
      },
      "outputs": [
        {
          "output_type": "stream",
          "name": "stdout",
          "text": [
            "              precision    recall  f1-score   support\n",
            "\n",
            "         0.0       0.88      0.65      0.75      2511\n",
            "         1.0       0.34      0.45      0.39       682\n",
            "         2.0       0.00      0.10      0.00        10\n",
            "\n",
            "    accuracy                           0.61      3203\n",
            "   macro avg       0.41      0.40      0.38      3203\n",
            "weighted avg       0.76      0.61      0.67      3203\n",
            "\n",
            "[[1630  593  288]\n",
            " [ 223  310  149]\n",
            " [   6    3    1]]\n"
          ]
        }
      ],
      "source": [
        "# Prediction on the test set\n",
        "y_pred = knn.predict(x_test_feat_extracted)\n",
        "\n",
        "\n",
        "get_confusion_matrix_and_results(y_pred)"
      ]
    },
    {
      "cell_type": "markdown",
      "metadata": {
        "id": "zAPMSL5MqqVO"
      },
      "source": [
        "## Decision Tree"
      ]
    },
    {
      "cell_type": "code",
      "execution_count": 97,
      "metadata": {
        "id": "QxXi9JZrqqVO"
      },
      "outputs": [],
      "source": [
        "from sklearn.tree import DecisionTreeClassifier"
      ]
    },
    {
      "cell_type": "code",
      "execution_count": 98,
      "metadata": {
        "colab": {
          "base_uri": "https://localhost:8080/"
        },
        "id": "ZFStnhhlqqVP",
        "outputId": "3ea90ca9-196e-406c-9494-ca2b6a9f8974"
      },
      "outputs": [
        {
          "output_type": "stream",
          "name": "stdout",
          "text": [
            "Score : 1.0\n"
          ]
        }
      ],
      "source": [
        "decision_tree = DecisionTreeClassifier(class_weight=\"balanced\")\n",
        "\n",
        "decision_tree.fit(x_train_sampled_feat_extracted, y_train_sampled)\n",
        "\n",
        "print_score(decision_tree)"
      ]
    },
    {
      "cell_type": "code",
      "execution_count": 99,
      "metadata": {
        "colab": {
          "base_uri": "https://localhost:8080/"
        },
        "id": "JkrzA6ftqqVQ",
        "outputId": "57b10615-e028-4ecd-aa23-6e319f978539"
      },
      "outputs": [
        {
          "output_type": "stream",
          "name": "stdout",
          "text": [
            "              precision    recall  f1-score   support\n",
            "\n",
            "         0.0       0.83      0.57      0.68      2511\n",
            "         1.0       0.25      0.45      0.32       682\n",
            "         2.0       0.00      0.10      0.01        10\n",
            "\n",
            "    accuracy                           0.54      3203\n",
            "   macro avg       0.36      0.37      0.34      3203\n",
            "weighted avg       0.71      0.54      0.60      3203\n",
            "\n",
            "[[1439  893  179]\n",
            " [ 281  304   97]\n",
            " [   6    3    1]]\n"
          ]
        }
      ],
      "source": [
        "y_pred = decision_tree.predict(x_test_feat_extracted)\n",
        "\n",
        "\n",
        "get_confusion_matrix_and_results(y_pred)"
      ]
    },
    {
      "cell_type": "markdown",
      "metadata": {
        "id": "bQrxGl_BqqVQ"
      },
      "source": [
        "# Best classifier selection"
      ]
    },
    {
      "cell_type": "code",
      "execution_count": 100,
      "metadata": {
        "id": "Reaq7SvmqqVR"
      },
      "outputs": [],
      "source": [
        "from sklearn.ensemble import VotingClassifier"
      ]
    },
    {
      "cell_type": "code",
      "execution_count": 101,
      "metadata": {
        "colab": {
          "base_uri": "https://localhost:8080/"
        },
        "id": "7B7MEUMsqqVS",
        "outputId": "bff08ed4-3ab8-4c72-9fe5-0067f5abd0d1"
      },
      "outputs": [
        {
          "output_type": "stream",
          "name": "stdout",
          "text": [
            "Score : 0.9946279524063222\n"
          ]
        }
      ],
      "source": [
        "voting_clf = VotingClassifier(estimators=[('rf', random_forest), ('knn', knn), ('arbre decisionnel', decision_tree), ('logistic regression', logistic_regression)], voting='soft')\n",
        "voting_clf.fit(x_train_sampled_feat_extracted, y_train_sampled)\n",
        "\n",
        "print_score(voting_clf)"
      ]
    },
    {
      "cell_type": "code",
      "execution_count": 102,
      "metadata": {
        "colab": {
          "base_uri": "https://localhost:8080/"
        },
        "id": "9vLmktr-qqVT",
        "outputId": "3d88c737-3409-4de8-cc27-aaa0d51f6359"
      },
      "outputs": [
        {
          "output_type": "stream",
          "name": "stdout",
          "text": [
            "              precision    recall  f1-score   support\n",
            "\n",
            "         0.0       0.85      0.62      0.72      2511\n",
            "         1.0       0.29      0.45      0.35       682\n",
            "         2.0       0.00      0.10      0.01        10\n",
            "\n",
            "    accuracy                           0.58      3203\n",
            "   macro avg       0.38      0.39      0.36      3203\n",
            "weighted avg       0.73      0.58      0.64      3203\n",
            "\n",
            "[[1550  762  199]\n",
            " [ 265  308  109]\n",
            " [   6    3    1]]\n"
          ]
        }
      ],
      "source": [
        "y_pred = voting_clf.predict(x_test_feat_extracted)\n",
        "\n",
        "get_confusion_matrix_and_results(y_pred)"
      ]
    },
    {
      "cell_type": "markdown",
      "metadata": {
        "id": "3tfykxosqqVT"
      },
      "source": [
        "# Boosting\n",
        "We are going to create a strong model with the Boosting technique using our previous simple models."
      ]
    },
    {
      "cell_type": "code",
      "execution_count": 103,
      "metadata": {
        "id": "4PoGWqBHqqVU"
      },
      "outputs": [],
      "source": [
        "from sklearn.ensemble import AdaBoostClassifier"
      ]
    },
    {
      "cell_type": "code",
      "execution_count": 75,
      "metadata": {
        "id": "yx3UUD1NqqVU"
      },
      "outputs": [],
      "source": [
        "base_models = [\n",
        "    random_forest,\n",
        "    logistic_regression,\n",
        "    decision_tree\n",
        "]"
      ]
    },
    {
      "cell_type": "code",
      "execution_count": 76,
      "metadata": {
        "id": "jeVVE8tGqqVV"
      },
      "outputs": [],
      "source": [
        "adaboost_classifiers = []\n",
        "for base_model in base_models:\n",
        "    adaboost_classifier = AdaBoostClassifier(base_model, n_estimators=50, learning_rate=1)\n",
        "    adaboost_classifiers.append(adaboost_classifier)\n"
      ]
    },
    {
      "cell_type": "code",
      "execution_count": 77,
      "metadata": {
        "colab": {
          "base_uri": "https://localhost:8080/"
        },
        "id": "GKr6GaJ2qqVW",
        "outputId": "87a3e344-6dd7-428b-ecfa-e0dda443e86e"
      },
      "outputs": [
        {
          "output_type": "stream",
          "name": "stdout",
          "text": [
            "Base model used : RandomForestClassifier(class_weight='balanced', criterion='entropy',\n",
            "                       n_estimators=20)\n",
            "Score : 1.0\n",
            "              precision    recall  f1-score   support\n",
            "\n",
            "         0.0       0.86      0.62      0.72      2511\n",
            "         1.0       0.29      0.45      0.36       682\n",
            "         2.0       0.00      0.10      0.01        10\n",
            "\n",
            "    accuracy                           0.58      3203\n",
            "   macro avg       0.38      0.39      0.36      3203\n",
            "weighted avg       0.73      0.58      0.64      3203\n",
            "\n",
            "[[1562  733  216]\n",
            " [ 256  306  120]\n",
            " [   8    1    1]]\n",
            "\n",
            "Base model used : LogisticRegression(class_weight='balanced')\n",
            "Score : 0.5763185935002664\n",
            "              precision    recall  f1-score   support\n",
            "\n",
            "         0.0       0.88      0.66      0.76      2511\n",
            "         1.0       0.34      0.36      0.35       682\n",
            "         2.0       0.01      0.30      0.01        10\n",
            "\n",
            "    accuracy                           0.60      3203\n",
            "   macro avg       0.41      0.44      0.37      3203\n",
            "weighted avg       0.76      0.60      0.67      3203\n",
            "\n",
            "[[1666  474  371]\n",
            " [ 218  246  218]\n",
            " [   5    2    3]]\n",
            "\n",
            "Base model used : DecisionTreeClassifier(class_weight='balanced')\n",
            "Score : 1.0\n",
            "              precision    recall  f1-score   support\n",
            "\n",
            "         0.0       0.83      0.57      0.67      2511\n",
            "         1.0       0.25      0.44      0.32       682\n",
            "         2.0       0.00      0.10      0.01        10\n",
            "\n",
            "    accuracy                           0.54      3203\n",
            "   macro avg       0.36      0.37      0.33      3203\n",
            "weighted avg       0.71      0.54      0.60      3203\n",
            "\n",
            "[[1423  904  184]\n",
            " [ 281  303   98]\n",
            " [   6    3    1]]\n",
            "\n"
          ]
        }
      ],
      "source": [
        "# Train and evaluate each AdaBoost classifier\n",
        "for i, adaboost_classifier in enumerate(adaboost_classifiers):\n",
        "    print(\"Base model used :\", base_models[i])\n",
        "\n",
        "    # Train the AdaBoost classifier\n",
        "    adaboost_classifier.fit(x_train_sampled_feat_extracted, y_train_sampled)\n",
        "\n",
        "    print_score(adaboost_classifier)\n",
        "\n",
        "    # Make predictions on the test data\n",
        "    y_pred = adaboost_classifier.predict(x_test_feat_extracted)\n",
        "\n",
        "    get_confusion_matrix_and_results(y_pred)\n",
        "\n",
        "    print(\"\")"
      ]
    },
    {
      "cell_type": "markdown",
      "metadata": {
        "id": "QUtbIoWfqqVW"
      },
      "source": [
        "## DESlib library\n",
        "We are using the DESlib library to select the best classifier."
      ]
    },
    {
      "cell_type": "code",
      "execution_count": null,
      "metadata": {
        "id": "v3lBx6TnqqVW"
      },
      "outputs": [],
      "source": [
        "# from deslib.des.des_clustering import DESClustering"
      ]
    },
    {
      "cell_type": "code",
      "execution_count": null,
      "metadata": {
        "id": "jrmpCoNbqqVX"
      },
      "outputs": [],
      "source": [
        "# des = DESClustering(pool_classifiers=[knn, random_forest, decision_tree])\n",
        "# des.fit(x_train_sampled_feat_extracted, y_train_sampled.ravel())\n",
        "\n",
        "# print_score(des)"
      ]
    },
    {
      "cell_type": "code",
      "execution_count": null,
      "metadata": {
        "id": "4NwDh3fhqqVX"
      },
      "outputs": [],
      "source": [
        "# y_pred = des.predict(x_test_feat_extracted)\n",
        "\n",
        "\n",
        "# get_confusion_matrix_and_results(y_pred)"
      ]
    }
  ],
  "metadata": {
    "kernelspec": {
      "display_name": "env",
      "language": "python",
      "name": "python3"
    },
    "language_info": {
      "codemirror_mode": {
        "name": "ipython",
        "version": 3
      },
      "file_extension": ".py",
      "mimetype": "text/x-python",
      "name": "python",
      "nbconvert_exporter": "python",
      "pygments_lexer": "ipython3",
      "version": "3.10.7"
    },
    "colab": {
      "provenance": []
    }
  },
  "nbformat": 4,
  "nbformat_minor": 0
}